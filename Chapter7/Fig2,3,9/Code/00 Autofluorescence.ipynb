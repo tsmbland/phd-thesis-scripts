{
 "cells": [
  {
   "cell_type": "code",
   "execution_count": 1,
   "metadata": {},
   "outputs": [],
   "source": [
    "import sys\n",
    "sys.path.append('../../MembraneQuant')\n",
    "from membranequant import *\n",
    "%matplotlib notebook"
   ]
  },
  {
   "cell_type": "code",
   "execution_count": 2,
   "metadata": {},
   "outputs": [],
   "source": [
    "n2_basepath = '/Users/blandt/Desktop/Data/PAR2 RING mutants experiment 2'\n",
    "af2_params = [2.0384553869364295, -1464.5710512524965]\n",
    "af3_params = [2.0584418172839474, -0.49616311435213484, -519.1367679475406]\n",
    "af2_flat_params = [2.078396363029439, 0]\n",
    "af3_flat_params = [2.132261354325825, -0.9581735453542257, 0]\n",
    "\n",
    "ch1_bg = load_image(n2_basepath + '/Background/ch1_mean.tif')\n",
    "ch2_bg = load_image(n2_basepath + '/Background/ch2_mean.tif')\n",
    "ch3_bg = load_image(n2_basepath + '/Background/ch3_mean.tif')\n",
    "ch1_df = load_image(n2_basepath + '/Darkframes/ch1_mean.tif')\n",
    "ch2_df = load_image(n2_basepath + '/Darkframes/ch2_mean.tif')\n",
    "ch3_df = load_image(n2_basepath + '/Darkframes/ch3_mean.tif')"
   ]
  },
  {
   "cell_type": "code",
   "execution_count": 3,
   "metadata": {},
   "outputs": [],
   "source": [
    "path = '/Users/blandt/Desktop/Data/PAR2 GCN4'\n",
    "for p in direcslist(path, 2):\n",
    "    ch1 = load_image(glob.glob(p + '/*488 SP 535-50*')[0])\n",
    "    ch2 = load_image(glob.glob(p + '/*488 SP 630-75*')[0])\n",
    "    ch3 = load_image(glob.glob(p + '/*561 SP 630-75*')[0])\n",
    "    \n",
    "    af_corrected2 = af_subtraction(ch1, ch2, *af2_params)\n",
    "    af_corrected3 = af_subtraction_3channel(ch1, ch2, ch3, *af3_params)\n",
    "    \n",
    "    save_img(af_corrected2, p + '/af_corrected.tif')\n",
    "    save_img(af_corrected3, p + '/af_corrected_3channel.tif')"
   ]
  },
  {
   "cell_type": "code",
   "execution_count": 5,
   "metadata": {},
   "outputs": [],
   "source": [
    "for p in direcslist(path, 2):\n",
    "    ch1 = load_image(glob.glob(p + '/*488 SP 535-50*')[0])\n",
    "    ch2 = load_image(glob.glob(p + '/*488 SP 630-75*')[0])\n",
    "    ch3 = load_image(glob.glob(p + '/*561 SP 630-75*')[0])\n",
    "    \n",
    "    ch1_flat = ((ch1 - ch1_df) / (ch1_bg - ch1_df)) - 1\n",
    "    ch2_flat = ((ch2 - ch2_df) / (ch2_bg - ch2_df)) - 1\n",
    "    ch3_flat = ((ch3 - ch3_df) / (ch3_bg - ch3_df)) - 1\n",
    "    \n",
    "    af_corrected2 = af_subtraction(ch1_flat, ch2_flat, *af2_flat_params)\n",
    "    af_corrected3 = af_subtraction_3channel(ch1_flat, ch2_flat, ch3_flat, *af3_flat_params)\n",
    "    \n",
    "    save_img(af_corrected2, p + '/af_corrected_flat.tif')\n",
    "    save_img(af_corrected3, p + '/af_corrected_3channel_flat.tif')"
   ]
  },
  {
   "cell_type": "code",
   "execution_count": null,
   "metadata": {},
   "outputs": [],
   "source": []
  }
 ],
 "metadata": {
  "kernelspec": {
   "display_name": "Python 3",
   "language": "python",
   "name": "python3"
  },
  "language_info": {
   "codemirror_mode": {
    "name": "ipython",
    "version": 3
   },
   "file_extension": ".py",
   "mimetype": "text/x-python",
   "name": "python",
   "nbconvert_exporter": "python",
   "pygments_lexer": "ipython3",
   "version": "3.7.9"
  }
 },
 "nbformat": 4,
 "nbformat_minor": 4
}
