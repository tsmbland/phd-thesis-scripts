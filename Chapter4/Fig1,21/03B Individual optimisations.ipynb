{
 "cells": [
  {
   "cell_type": "code",
   "execution_count": 1,
   "metadata": {},
   "outputs": [],
   "source": [
    "import sys\n",
    "sys.path.append('../../MembraneQuant')\n",
    "from membranequant import *\n",
    "%matplotlib notebook"
   ]
  },
  {
   "cell_type": "code",
   "execution_count": 2,
   "metadata": {},
   "outputs": [],
   "source": [
    "basepath = '/Users/blandt/Desktop/Data/PAR2 RING mutants experiment 2/Experiment'"
   ]
  },
  {
   "cell_type": "code",
   "execution_count": 3,
   "metadata": {},
   "outputs": [],
   "source": [
    "paths = direcslist(basepath, 1)\n",
    "conditions = [p.split('/')[-2].split('_')[1] for p in paths]\n",
    "\n",
    "imgs = [load_image(p + '/af_corrected.tif') for p in paths]\n",
    "imgs_flat = [load_image(p + '/af_corrected_flat.tif') for p in paths]\n",
    "imgs_3channel = [load_image(p + '/af_corrected_3channel.tif') for p in paths]\n",
    "imgs_3channel_flat = [load_image(p + '/af_corrected_3channel_flat.tif') for p in paths]\n",
    "\n",
    "rois = [np.loadtxt(p + '/ROI_fit.txt') for p in paths]\n",
    "cytbg = np.loadtxt('../GCN4 PAR-2/cyt_profile.txt')\n",
    "# membg = np.loadtxt('membg.txt')"
   ]
  },
  {
   "cell_type": "code",
   "execution_count": 6,
   "metadata": {
    "scrolled": false
   },
   "outputs": [
    {
     "name": "stderr",
     "output_type": "stream",
     "text": [
      "  1%|          | 3/500 [00:00<00:19, 25.52it/s]"
     ]
    },
    {
     "name": "stdout",
     "output_type": "stream",
     "text": [
      "/Users/blandt/Desktop/RING lines/Experiment/211106_nwg240_tom4,15,60/00\n"
     ]
    },
    {
     "name": "stderr",
     "output_type": "stream",
     "text": [
      "100%|██████████| 500/500 [00:17<00:00, 29.07it/s]\n",
      "  1%|          | 3/500 [00:00<00:16, 29.72it/s]"
     ]
    },
    {
     "name": "stdout",
     "output_type": "stream",
     "text": [
      "Time elapsed: 17.29 seconds \n",
      "/Users/blandt/Desktop/RING lines/Experiment/211106_nwg240_tom4,15,60/01\n"
     ]
    },
    {
     "name": "stderr",
     "output_type": "stream",
     "text": [
      "100%|██████████| 500/500 [00:16<00:00, 29.53it/s]\n",
      "  1%|          | 3/500 [00:00<00:16, 29.71it/s]"
     ]
    },
    {
     "name": "stdout",
     "output_type": "stream",
     "text": [
      "Time elapsed: 17.02 seconds \n",
      "/Users/blandt/Desktop/RING lines/Experiment/211106_nwg240_tom4,15,60/02\n"
     ]
    },
    {
     "name": "stderr",
     "output_type": "stream",
     "text": [
      "100%|██████████| 500/500 [00:17<00:00, 27.92it/s]\n",
      "  1%|          | 3/500 [00:00<00:19, 26.06it/s]"
     ]
    },
    {
     "name": "stdout",
     "output_type": "stream",
     "text": [
      "Time elapsed: 18.01 seconds \n",
      "/Users/blandt/Desktop/RING lines/Experiment/211106_nwg240_tom4,15,60/03\n"
     ]
    },
    {
     "name": "stderr",
     "output_type": "stream",
     "text": [
      "100%|██████████| 500/500 [00:17<00:00, 29.27it/s]\n",
      "  1%|          | 3/500 [00:00<00:16, 29.66it/s]"
     ]
    },
    {
     "name": "stdout",
     "output_type": "stream",
     "text": [
      "Time elapsed: 17.17 seconds \n",
      "/Users/blandt/Desktop/RING lines/Experiment/211106_nwg240_tom4,15,60/04\n"
     ]
    },
    {
     "name": "stderr",
     "output_type": "stream",
     "text": [
      "100%|██████████| 500/500 [00:16<00:00, 29.51it/s]\n",
      "  1%|          | 3/500 [00:00<00:17, 28.99it/s]"
     ]
    },
    {
     "name": "stdout",
     "output_type": "stream",
     "text": [
      "Time elapsed: 17.03 seconds \n",
      "/Users/blandt/Desktop/RING lines/Experiment/211106_nwg240bal_tom4,15,60/00\n"
     ]
    },
    {
     "name": "stderr",
     "output_type": "stream",
     "text": [
      "100%|██████████| 500/500 [00:16<00:00, 29.54it/s]\n",
      "  1%|          | 3/500 [00:00<00:16, 29.34it/s]"
     ]
    },
    {
     "name": "stdout",
     "output_type": "stream",
     "text": [
      "Time elapsed: 17.01 seconds \n",
      "/Users/blandt/Desktop/RING lines/Experiment/211106_nwg240bal_tom4,15,60/01\n"
     ]
    },
    {
     "name": "stderr",
     "output_type": "stream",
     "text": [
      "100%|██████████| 500/500 [00:17<00:00, 29.10it/s]\n",
      "  1%|          | 3/500 [00:00<00:16, 29.46it/s]"
     ]
    },
    {
     "name": "stdout",
     "output_type": "stream",
     "text": [
      "Time elapsed: 17.27 seconds \n",
      "/Users/blandt/Desktop/RING lines/Experiment/211106_nwg240bal_tom4,15,60/02\n"
     ]
    },
    {
     "name": "stderr",
     "output_type": "stream",
     "text": [
      "100%|██████████| 500/500 [00:16<00:00, 29.43it/s]\n",
      "  1%|          | 3/500 [00:00<00:16, 29.44it/s]"
     ]
    },
    {
     "name": "stdout",
     "output_type": "stream",
     "text": [
      "Time elapsed: 17.08 seconds \n",
      "/Users/blandt/Desktop/RING lines/Experiment/211106_nwg240bal_tom4,15,60/03\n"
     ]
    },
    {
     "name": "stderr",
     "output_type": "stream",
     "text": [
      "100%|██████████| 500/500 [00:16<00:00, 29.52it/s]\n",
      "  1%|          | 3/500 [00:00<00:17, 28.66it/s]"
     ]
    },
    {
     "name": "stdout",
     "output_type": "stream",
     "text": [
      "Time elapsed: 17.03 seconds \n",
      "/Users/blandt/Desktop/RING lines/Experiment/211106_nwg240bal_tom4,15,60/04\n"
     ]
    },
    {
     "name": "stderr",
     "output_type": "stream",
     "text": [
      "100%|██████████| 500/500 [00:17<00:00, 29.04it/s]\n",
      "  1%|          | 3/500 [00:00<00:17, 28.36it/s]"
     ]
    },
    {
     "name": "stdout",
     "output_type": "stream",
     "text": [
      "Time elapsed: 17.31 seconds \n",
      "/Users/blandt/Desktop/RING lines/Experiment/211106_nwg325_tom4,15,60/00\n"
     ]
    },
    {
     "name": "stderr",
     "output_type": "stream",
     "text": [
      "100%|██████████| 500/500 [00:17<00:00, 29.02it/s]\n",
      "  1%|          | 3/500 [00:00<00:17, 28.19it/s]"
     ]
    },
    {
     "name": "stdout",
     "output_type": "stream",
     "text": [
      "Time elapsed: 17.32 seconds \n",
      "/Users/blandt/Desktop/RING lines/Experiment/211106_nwg325_tom4,15,60/01\n"
     ]
    },
    {
     "name": "stderr",
     "output_type": "stream",
     "text": [
      "100%|██████████| 500/500 [00:17<00:00, 29.21it/s]\n",
      "  1%|          | 3/500 [00:00<00:17, 28.81it/s]"
     ]
    },
    {
     "name": "stdout",
     "output_type": "stream",
     "text": [
      "Time elapsed: 17.21 seconds \n",
      "/Users/blandt/Desktop/RING lines/Experiment/211106_nwg325_tom4,15,60/02\n"
     ]
    },
    {
     "name": "stderr",
     "output_type": "stream",
     "text": [
      "100%|██████████| 500/500 [00:17<00:00, 28.68it/s]\n",
      "  1%|          | 3/500 [00:00<00:16, 29.38it/s]"
     ]
    },
    {
     "name": "stdout",
     "output_type": "stream",
     "text": [
      "Time elapsed: 17.52 seconds \n",
      "/Users/blandt/Desktop/RING lines/Experiment/211106_nwg325_tom4,15,60/03\n"
     ]
    },
    {
     "name": "stderr",
     "output_type": "stream",
     "text": [
      "100%|██████████| 500/500 [00:17<00:00, 29.02it/s]\n",
      "  1%|          | 3/500 [00:00<00:17, 29.17it/s]"
     ]
    },
    {
     "name": "stdout",
     "output_type": "stream",
     "text": [
      "Time elapsed: 17.32 seconds \n",
      "/Users/blandt/Desktop/RING lines/Experiment/211106_nwg325_tom4,15,60/04\n"
     ]
    },
    {
     "name": "stderr",
     "output_type": "stream",
     "text": [
      "100%|██████████| 500/500 [00:16<00:00, 29.68it/s]\n",
      "  1%|          | 3/500 [00:00<00:16, 29.37it/s]"
     ]
    },
    {
     "name": "stdout",
     "output_type": "stream",
     "text": [
      "Time elapsed: 16.93 seconds \n",
      "/Users/blandt/Desktop/RING lines/Experiment/211106_nwg325bal_tom4,15,60/00\n"
     ]
    },
    {
     "name": "stderr",
     "output_type": "stream",
     "text": [
      "100%|██████████| 500/500 [00:16<00:00, 29.70it/s]\n",
      "  1%|          | 3/500 [00:00<00:16, 29.51it/s]"
     ]
    },
    {
     "name": "stdout",
     "output_type": "stream",
     "text": [
      "Time elapsed: 16.92 seconds \n",
      "/Users/blandt/Desktop/RING lines/Experiment/211106_nwg325bal_tom4,15,60/01\n"
     ]
    },
    {
     "name": "stderr",
     "output_type": "stream",
     "text": [
      "100%|██████████| 500/500 [00:16<00:00, 29.59it/s]\n",
      "  1%|          | 3/500 [00:00<00:16, 29.29it/s]"
     ]
    },
    {
     "name": "stdout",
     "output_type": "stream",
     "text": [
      "Time elapsed: 16.98 seconds \n",
      "/Users/blandt/Desktop/RING lines/Experiment/211106_nwg325bal_tom4,15,60/02\n"
     ]
    },
    {
     "name": "stderr",
     "output_type": "stream",
     "text": [
      "100%|██████████| 500/500 [00:17<00:00, 28.81it/s]\n",
      "  1%|          | 4/500 [00:00<00:16, 30.50it/s]"
     ]
    },
    {
     "name": "stdout",
     "output_type": "stream",
     "text": [
      "Time elapsed: 17.44 seconds \n",
      "/Users/blandt/Desktop/RING lines/Experiment/211106_nwg325bal_tom4,15,60/03\n"
     ]
    },
    {
     "name": "stderr",
     "output_type": "stream",
     "text": [
      "100%|██████████| 500/500 [00:17<00:00, 28.97it/s]\n",
      "  1%|          | 3/500 [00:00<00:17, 27.64it/s]"
     ]
    },
    {
     "name": "stdout",
     "output_type": "stream",
     "text": [
      "Time elapsed: 17.36 seconds \n",
      "/Users/blandt/Desktop/RING lines/Experiment/211106_nwg325bal_tom4,15,60/04\n"
     ]
    },
    {
     "name": "stderr",
     "output_type": "stream",
     "text": [
      "100%|██████████| 500/500 [00:17<00:00, 28.35it/s]\n",
      "  1%|          | 3/500 [00:00<00:17, 28.19it/s]"
     ]
    },
    {
     "name": "stdout",
     "output_type": "stream",
     "text": [
      "Time elapsed: 17.73 seconds \n",
      "/Users/blandt/Desktop/RING lines/Experiment/211106_nwg338_tom4,15,60/00\n"
     ]
    },
    {
     "name": "stderr",
     "output_type": "stream",
     "text": [
      "100%|██████████| 500/500 [00:17<00:00, 28.43it/s]\n",
      "  1%|          | 3/500 [00:00<00:20, 24.39it/s]"
     ]
    },
    {
     "name": "stdout",
     "output_type": "stream",
     "text": [
      "Time elapsed: 17.68 seconds \n",
      "/Users/blandt/Desktop/RING lines/Experiment/211106_nwg338_tom4,15,60/01\n"
     ]
    },
    {
     "name": "stderr",
     "output_type": "stream",
     "text": [
      "100%|██████████| 500/500 [00:17<00:00, 28.77it/s]\n",
      "  1%|          | 3/500 [00:00<00:17, 29.13it/s]"
     ]
    },
    {
     "name": "stdout",
     "output_type": "stream",
     "text": [
      "Time elapsed: 17.47 seconds \n",
      "/Users/blandt/Desktop/RING lines/Experiment/211106_nwg338_tom4,15,60/02\n"
     ]
    },
    {
     "name": "stderr",
     "output_type": "stream",
     "text": [
      "100%|██████████| 500/500 [00:17<00:00, 28.75it/s]\n",
      "  1%|          | 3/500 [00:00<00:17, 28.80it/s]"
     ]
    },
    {
     "name": "stdout",
     "output_type": "stream",
     "text": [
      "Time elapsed: 17.48 seconds \n",
      "/Users/blandt/Desktop/RING lines/Experiment/211106_nwg338_tom4,15,60/03\n"
     ]
    },
    {
     "name": "stderr",
     "output_type": "stream",
     "text": [
      "100%|██████████| 500/500 [00:17<00:00, 28.95it/s]\n",
      "  1%|          | 3/500 [00:00<00:16, 29.37it/s]"
     ]
    },
    {
     "name": "stdout",
     "output_type": "stream",
     "text": [
      "Time elapsed: 17.36 seconds \n",
      "/Users/blandt/Desktop/RING lines/Experiment/211106_nwg338_tom4,15,60/04\n"
     ]
    },
    {
     "name": "stderr",
     "output_type": "stream",
     "text": [
      "100%|██████████| 500/500 [00:17<00:00, 28.26it/s]\n",
      "  1%|          | 3/500 [00:00<00:17, 27.63it/s]"
     ]
    },
    {
     "name": "stdout",
     "output_type": "stream",
     "text": [
      "Time elapsed: 17.78 seconds \n",
      "/Users/blandt/Desktop/RING lines/Experiment/211106_nwg338bal_tom4,15,60/00\n"
     ]
    },
    {
     "name": "stderr",
     "output_type": "stream",
     "text": [
      "100%|██████████| 500/500 [00:17<00:00, 28.55it/s]\n",
      "  1%|          | 3/500 [00:00<00:17, 28.05it/s]"
     ]
    },
    {
     "name": "stdout",
     "output_type": "stream",
     "text": [
      "Time elapsed: 17.60 seconds \n",
      "/Users/blandt/Desktop/RING lines/Experiment/211106_nwg338bal_tom4,15,60/01\n"
     ]
    },
    {
     "name": "stderr",
     "output_type": "stream",
     "text": [
      "100%|██████████| 500/500 [00:17<00:00, 29.30it/s]\n",
      "  1%|          | 3/500 [00:00<00:16, 29.50it/s]"
     ]
    },
    {
     "name": "stdout",
     "output_type": "stream",
     "text": [
      "Time elapsed: 17.15 seconds \n",
      "/Users/blandt/Desktop/RING lines/Experiment/211106_nwg338bal_tom4,15,60/02\n"
     ]
    },
    {
     "name": "stderr",
     "output_type": "stream",
     "text": [
      "100%|██████████| 500/500 [00:17<00:00, 28.46it/s]\n",
      "  1%|          | 3/500 [00:00<00:17, 29.12it/s]"
     ]
    },
    {
     "name": "stdout",
     "output_type": "stream",
     "text": [
      "Time elapsed: 17.65 seconds \n",
      "/Users/blandt/Desktop/RING lines/Experiment/211106_nwg338bal_tom4,15,60/03\n"
     ]
    },
    {
     "name": "stderr",
     "output_type": "stream",
     "text": [
      "100%|██████████| 500/500 [00:17<00:00, 28.62it/s]\n",
      "  1%|          | 3/500 [00:00<00:17, 28.37it/s]"
     ]
    },
    {
     "name": "stdout",
     "output_type": "stream",
     "text": [
      "Time elapsed: 17.56 seconds \n",
      "/Users/blandt/Desktop/RING lines/Experiment/211106_nwg338bal_tom4,15,60/04\n"
     ]
    },
    {
     "name": "stderr",
     "output_type": "stream",
     "text": [
      "100%|██████████| 500/500 [00:17<00:00, 28.62it/s]\n",
      "  1%|          | 3/500 [00:00<00:18, 27.31it/s]"
     ]
    },
    {
     "name": "stdout",
     "output_type": "stream",
     "text": [
      "Time elapsed: 17.57 seconds \n",
      "/Users/blandt/Desktop/RING lines/Experiment/211106_nwg351_tom4,15,60/00\n"
     ]
    },
    {
     "name": "stderr",
     "output_type": "stream",
     "text": [
      "100%|██████████| 500/500 [00:18<00:00, 27.00it/s]\n",
      "  1%|          | 3/500 [00:00<00:18, 26.79it/s]"
     ]
    },
    {
     "name": "stdout",
     "output_type": "stream",
     "text": [
      "Time elapsed: 18.62 seconds \n",
      "/Users/blandt/Desktop/RING lines/Experiment/211106_nwg351_tom4,15,60/01\n"
     ]
    },
    {
     "name": "stderr",
     "output_type": "stream",
     "text": [
      "100%|██████████| 500/500 [00:18<00:00, 27.09it/s]\n",
      "  1%|          | 3/500 [00:00<00:17, 28.43it/s]"
     ]
    },
    {
     "name": "stdout",
     "output_type": "stream",
     "text": [
      "Time elapsed: 18.55 seconds \n",
      "/Users/blandt/Desktop/RING lines/Experiment/211106_nwg351_tom4,15,60/02\n"
     ]
    },
    {
     "name": "stderr",
     "output_type": "stream",
     "text": [
      "100%|██████████| 500/500 [00:17<00:00, 28.94it/s]\n",
      "  1%|          | 4/500 [00:00<00:16, 30.80it/s]"
     ]
    },
    {
     "name": "stdout",
     "output_type": "stream",
     "text": [
      "Time elapsed: 17.36 seconds \n",
      "/Users/blandt/Desktop/RING lines/Experiment/211106_nwg351_tom4,15,60/03\n"
     ]
    },
    {
     "name": "stderr",
     "output_type": "stream",
     "text": [
      "100%|██████████| 500/500 [00:17<00:00, 28.03it/s]\n",
      "  1%|          | 3/500 [00:00<00:18, 27.30it/s]"
     ]
    },
    {
     "name": "stdout",
     "output_type": "stream",
     "text": [
      "Time elapsed: 17.93 seconds \n",
      "/Users/blandt/Desktop/RING lines/Experiment/211106_nwg351_tom4,15,60/04\n"
     ]
    },
    {
     "name": "stderr",
     "output_type": "stream",
     "text": [
      "100%|██████████| 500/500 [00:17<00:00, 27.87it/s]\n",
      "  1%|          | 3/500 [00:00<00:18, 27.34it/s]"
     ]
    },
    {
     "name": "stdout",
     "output_type": "stream",
     "text": [
      "Time elapsed: 18.04 seconds \n",
      "/Users/blandt/Desktop/RING lines/Experiment/211106_nwg400_tom4,15,60/00\n"
     ]
    },
    {
     "name": "stderr",
     "output_type": "stream",
     "text": [
      "100%|██████████| 500/500 [00:17<00:00, 27.92it/s]\n",
      "  1%|          | 3/500 [00:00<00:18, 26.83it/s]"
     ]
    },
    {
     "name": "stdout",
     "output_type": "stream",
     "text": [
      "Time elapsed: 18.00 seconds \n",
      "/Users/blandt/Desktop/RING lines/Experiment/211106_nwg400_tom4,15,60/01\n"
     ]
    },
    {
     "name": "stderr",
     "output_type": "stream",
     "text": [
      "100%|██████████| 500/500 [00:18<00:00, 27.33it/s]\n",
      "  1%|          | 3/500 [00:00<00:16, 29.68it/s]"
     ]
    },
    {
     "name": "stdout",
     "output_type": "stream",
     "text": [
      "Time elapsed: 18.38 seconds \n",
      "/Users/blandt/Desktop/RING lines/Experiment/211106_nwg400_tom4,15,60/02\n"
     ]
    },
    {
     "name": "stderr",
     "output_type": "stream",
     "text": [
      "100%|██████████| 500/500 [00:17<00:00, 28.28it/s]\n",
      "  1%|          | 3/500 [00:00<00:19, 25.64it/s]"
     ]
    },
    {
     "name": "stdout",
     "output_type": "stream",
     "text": [
      "Time elapsed: 17.80 seconds \n",
      "/Users/blandt/Desktop/RING lines/Experiment/211106_nwg400_tom4,15,60/03\n"
     ]
    },
    {
     "name": "stderr",
     "output_type": "stream",
     "text": [
      "100%|██████████| 500/500 [00:17<00:00, 28.24it/s]\n",
      "  1%|          | 3/500 [00:00<00:18, 26.48it/s]"
     ]
    },
    {
     "name": "stdout",
     "output_type": "stream",
     "text": [
      "Time elapsed: 17.81 seconds \n",
      "/Users/blandt/Desktop/RING lines/Experiment/211106_nwg400_tom4,15,60/04\n"
     ]
    },
    {
     "name": "stderr",
     "output_type": "stream",
     "text": [
      "100%|██████████| 500/500 [00:18<00:00, 27.38it/s]\n",
      "  1%|          | 3/500 [00:00<00:17, 28.12it/s]"
     ]
    },
    {
     "name": "stdout",
     "output_type": "stream",
     "text": [
      "Time elapsed: 18.35 seconds \n",
      "/Users/blandt/Desktop/RING lines/Experiment/211106_nwg400bal_tom4,15,60/00\n"
     ]
    },
    {
     "name": "stderr",
     "output_type": "stream",
     "text": [
      "100%|██████████| 500/500 [00:17<00:00, 28.23it/s]\n",
      "  1%|          | 3/500 [00:00<00:17, 28.67it/s]"
     ]
    },
    {
     "name": "stdout",
     "output_type": "stream",
     "text": [
      "Time elapsed: 17.80 seconds \n",
      "/Users/blandt/Desktop/RING lines/Experiment/211106_nwg400bal_tom4,15,60/01\n"
     ]
    },
    {
     "name": "stderr",
     "output_type": "stream",
     "text": [
      "100%|██████████| 500/500 [00:18<00:00, 27.20it/s]\n",
      "  1%|          | 3/500 [00:00<00:17, 27.89it/s]"
     ]
    },
    {
     "name": "stdout",
     "output_type": "stream",
     "text": [
      "Time elapsed: 18.47 seconds \n",
      "/Users/blandt/Desktop/RING lines/Experiment/211106_nwg400bal_tom4,15,60/02\n"
     ]
    },
    {
     "name": "stderr",
     "output_type": "stream",
     "text": [
      "100%|██████████| 500/500 [00:17<00:00, 28.09it/s]\n",
      "  1%|          | 3/500 [00:00<00:18, 27.24it/s]"
     ]
    },
    {
     "name": "stdout",
     "output_type": "stream",
     "text": [
      "Time elapsed: 17.89 seconds \n",
      "/Users/blandt/Desktop/RING lines/Experiment/211106_nwg400bal_tom4,15,60/03\n"
     ]
    },
    {
     "name": "stderr",
     "output_type": "stream",
     "text": [
      "100%|██████████| 500/500 [00:17<00:00, 28.35it/s]\n",
      "  1%|          | 3/500 [00:00<00:17, 27.85it/s]"
     ]
    },
    {
     "name": "stdout",
     "output_type": "stream",
     "text": [
      "Time elapsed: 17.72 seconds \n",
      "/Users/blandt/Desktop/RING lines/Experiment/211106_nwg407_tom4,15,60/00\n"
     ]
    },
    {
     "name": "stderr",
     "output_type": "stream",
     "text": [
      "100%|██████████| 500/500 [00:18<00:00, 27.58it/s]\n",
      "  1%|          | 3/500 [00:00<00:17, 28.23it/s]"
     ]
    },
    {
     "name": "stdout",
     "output_type": "stream",
     "text": [
      "Time elapsed: 18.22 seconds \n",
      "/Users/blandt/Desktop/RING lines/Experiment/211106_nwg407_tom4,15,60/01\n"
     ]
    },
    {
     "name": "stderr",
     "output_type": "stream",
     "text": [
      "100%|██████████| 500/500 [00:17<00:00, 27.90it/s]\n",
      "  1%|          | 3/500 [00:00<00:17, 27.88it/s]"
     ]
    },
    {
     "name": "stdout",
     "output_type": "stream",
     "text": [
      "Time elapsed: 18.01 seconds \n",
      "/Users/blandt/Desktop/RING lines/Experiment/211106_nwg407_tom4,15,60/02\n"
     ]
    },
    {
     "name": "stderr",
     "output_type": "stream",
     "text": [
      "100%|██████████| 500/500 [00:17<00:00, 28.45it/s]\n",
      "  1%|          | 3/500 [00:00<00:17, 28.05it/s]"
     ]
    },
    {
     "name": "stdout",
     "output_type": "stream",
     "text": [
      "Time elapsed: 17.67 seconds \n",
      "/Users/blandt/Desktop/RING lines/Experiment/211106_nwg407_tom4,15,60/03\n"
     ]
    },
    {
     "name": "stderr",
     "output_type": "stream",
     "text": [
      "100%|██████████| 500/500 [00:17<00:00, 27.87it/s]\n",
      "  1%|          | 3/500 [00:00<00:17, 27.90it/s]"
     ]
    },
    {
     "name": "stdout",
     "output_type": "stream",
     "text": [
      "Time elapsed: 18.03 seconds \n",
      "/Users/blandt/Desktop/RING lines/Experiment/211106_nwg407_tom4,15,60/04\n"
     ]
    },
    {
     "name": "stderr",
     "output_type": "stream",
     "text": [
      "100%|██████████| 500/500 [00:17<00:00, 28.11it/s]\n",
      "  1%|          | 3/500 [00:00<00:17, 28.05it/s]"
     ]
    },
    {
     "name": "stdout",
     "output_type": "stream",
     "text": [
      "Time elapsed: 17.88 seconds \n",
      "/Users/blandt/Desktop/RING lines/Experiment/211112_nwg240_tom4,15,60/00\n"
     ]
    },
    {
     "name": "stderr",
     "output_type": "stream",
     "text": [
      "100%|██████████| 500/500 [00:17<00:00, 28.06it/s]\n",
      "  1%|          | 3/500 [00:00<00:17, 28.77it/s]"
     ]
    },
    {
     "name": "stdout",
     "output_type": "stream",
     "text": [
      "Time elapsed: 17.91 seconds \n",
      "/Users/blandt/Desktop/RING lines/Experiment/211112_nwg240_tom4,15,60/01\n"
     ]
    },
    {
     "name": "stderr",
     "output_type": "stream",
     "text": [
      "100%|██████████| 500/500 [00:17<00:00, 29.19it/s]\n",
      "  1%|          | 3/500 [00:00<00:16, 29.26it/s]"
     ]
    },
    {
     "name": "stdout",
     "output_type": "stream",
     "text": [
      "Time elapsed: 17.22 seconds \n",
      "/Users/blandt/Desktop/RING lines/Experiment/211112_nwg240_tom4,15,60/02\n"
     ]
    },
    {
     "name": "stderr",
     "output_type": "stream",
     "text": [
      "100%|██████████| 500/500 [00:17<00:00, 28.73it/s]\n",
      "  1%|          | 3/500 [00:00<00:18, 27.47it/s]"
     ]
    },
    {
     "name": "stdout",
     "output_type": "stream",
     "text": [
      "Time elapsed: 17.49 seconds \n",
      "/Users/blandt/Desktop/RING lines/Experiment/211112_nwg240bal_tom4,15,60/00\n"
     ]
    },
    {
     "name": "stderr",
     "output_type": "stream",
     "text": [
      "100%|██████████| 500/500 [00:17<00:00, 28.32it/s]\n",
      "  1%|          | 3/500 [00:00<00:17, 28.01it/s]"
     ]
    },
    {
     "name": "stdout",
     "output_type": "stream",
     "text": [
      "Time elapsed: 17.75 seconds \n",
      "/Users/blandt/Desktop/RING lines/Experiment/211112_nwg240bal_tom4,15,60/01\n"
     ]
    },
    {
     "name": "stderr",
     "output_type": "stream",
     "text": [
      "100%|██████████| 500/500 [00:17<00:00, 28.10it/s]\n",
      "  1%|          | 3/500 [00:00<00:17, 28.99it/s]"
     ]
    },
    {
     "name": "stdout",
     "output_type": "stream",
     "text": [
      "Time elapsed: 17.88 seconds \n",
      "/Users/blandt/Desktop/RING lines/Experiment/211112_nwg240bal_tom4,15,60/02\n"
     ]
    },
    {
     "name": "stderr",
     "output_type": "stream",
     "text": [
      "100%|██████████| 500/500 [00:17<00:00, 27.78it/s]\n",
      "  1%|          | 3/500 [00:00<00:18, 27.16it/s]"
     ]
    },
    {
     "name": "stdout",
     "output_type": "stream",
     "text": [
      "Time elapsed: 18.09 seconds \n",
      "/Users/blandt/Desktop/RING lines/Experiment/211112_nwg240bal_tom4,15,60/03\n"
     ]
    },
    {
     "name": "stderr",
     "output_type": "stream",
     "text": [
      "100%|██████████| 500/500 [00:17<00:00, 27.97it/s]\n",
      "  1%|          | 3/500 [00:00<00:17, 28.74it/s]"
     ]
    },
    {
     "name": "stdout",
     "output_type": "stream",
     "text": [
      "Time elapsed: 17.96 seconds \n",
      "/Users/blandt/Desktop/RING lines/Experiment/211112_nwg325_tom4,15,60/00\n"
     ]
    },
    {
     "name": "stderr",
     "output_type": "stream",
     "text": [
      "100%|██████████| 500/500 [00:17<00:00, 28.67it/s]\n",
      "  1%|          | 3/500 [00:00<00:17, 29.00it/s]"
     ]
    },
    {
     "name": "stdout",
     "output_type": "stream",
     "text": [
      "Time elapsed: 17.53 seconds \n",
      "/Users/blandt/Desktop/RING lines/Experiment/211112_nwg325_tom4,15,60/01\n"
     ]
    },
    {
     "name": "stderr",
     "output_type": "stream",
     "text": [
      "100%|██████████| 500/500 [00:17<00:00, 28.15it/s]\n",
      "  1%|          | 3/500 [00:00<00:17, 28.97it/s]"
     ]
    },
    {
     "name": "stdout",
     "output_type": "stream",
     "text": [
      "Time elapsed: 17.85 seconds \n",
      "/Users/blandt/Desktop/RING lines/Experiment/211112_nwg325_tom4,15,60/02\n"
     ]
    },
    {
     "name": "stderr",
     "output_type": "stream",
     "text": [
      "100%|██████████| 500/500 [00:17<00:00, 29.09it/s]\n",
      "  1%|          | 3/500 [00:00<00:16, 29.36it/s]"
     ]
    },
    {
     "name": "stdout",
     "output_type": "stream",
     "text": [
      "Time elapsed: 17.28 seconds \n",
      "/Users/blandt/Desktop/RING lines/Experiment/211112_nwg325bal_tom4,15,60/03\n"
     ]
    },
    {
     "name": "stderr",
     "output_type": "stream",
     "text": [
      "100%|██████████| 500/500 [00:17<00:00, 28.72it/s]\n",
      "  1%|          | 3/500 [00:00<00:17, 27.98it/s]"
     ]
    },
    {
     "name": "stdout",
     "output_type": "stream",
     "text": [
      "Time elapsed: 17.50 seconds \n",
      "/Users/blandt/Desktop/RING lines/Experiment/211112_nwg325bal_tom4,15,60/04\n"
     ]
    },
    {
     "name": "stderr",
     "output_type": "stream",
     "text": [
      "100%|██████████| 500/500 [00:17<00:00, 28.69it/s]\n",
      "  1%|          | 3/500 [00:00<00:18, 27.42it/s]"
     ]
    },
    {
     "name": "stdout",
     "output_type": "stream",
     "text": [
      "Time elapsed: 17.51 seconds \n",
      "/Users/blandt/Desktop/RING lines/Experiment/211112_nwg325bal_tom4,15,60/05\n"
     ]
    },
    {
     "name": "stderr",
     "output_type": "stream",
     "text": [
      "100%|██████████| 500/500 [00:17<00:00, 28.74it/s]\n",
      "  1%|          | 3/500 [00:00<00:16, 29.65it/s]"
     ]
    },
    {
     "name": "stdout",
     "output_type": "stream",
     "text": [
      "Time elapsed: 17.48 seconds \n",
      "/Users/blandt/Desktop/RING lines/Experiment/211112_nwg325bal_tom4,15,60/06\n"
     ]
    },
    {
     "name": "stderr",
     "output_type": "stream",
     "text": [
      "100%|██████████| 500/500 [00:17<00:00, 28.77it/s]\n",
      "  1%|          | 3/500 [00:00<00:16, 29.37it/s]"
     ]
    },
    {
     "name": "stdout",
     "output_type": "stream",
     "text": [
      "Time elapsed: 17.47 seconds \n",
      "/Users/blandt/Desktop/RING lines/Experiment/211112_nwg325bal_tom4,15,60/07\n"
     ]
    },
    {
     "name": "stderr",
     "output_type": "stream",
     "text": [
      "100%|██████████| 500/500 [00:17<00:00, 29.07it/s]\n",
      "  1%|          | 3/500 [00:00<00:16, 29.26it/s]"
     ]
    },
    {
     "name": "stdout",
     "output_type": "stream",
     "text": [
      "Time elapsed: 17.29 seconds \n",
      "/Users/blandt/Desktop/RING lines/Experiment/211112_nwg325bal_tom4,15,60/08\n"
     ]
    },
    {
     "name": "stderr",
     "output_type": "stream",
     "text": [
      "100%|██████████| 500/500 [00:17<00:00, 28.71it/s]\n",
      "  1%|          | 3/500 [00:00<00:17, 28.35it/s]"
     ]
    },
    {
     "name": "stdout",
     "output_type": "stream",
     "text": [
      "Time elapsed: 17.51 seconds \n",
      "/Users/blandt/Desktop/RING lines/Experiment/211112_nwg338_tom4,15,60/00\n"
     ]
    },
    {
     "name": "stderr",
     "output_type": "stream",
     "text": [
      "100%|██████████| 500/500 [00:17<00:00, 29.32it/s]\n",
      "  1%|          | 3/500 [00:00<00:17, 28.19it/s]"
     ]
    },
    {
     "name": "stdout",
     "output_type": "stream",
     "text": [
      "Time elapsed: 17.14 seconds \n",
      "/Users/blandt/Desktop/RING lines/Experiment/211112_nwg338_tom4,15,60/01\n"
     ]
    },
    {
     "name": "stderr",
     "output_type": "stream",
     "text": [
      "100%|██████████| 500/500 [00:17<00:00, 28.62it/s]\n",
      "  1%|          | 3/500 [00:00<00:17, 27.71it/s]"
     ]
    },
    {
     "name": "stdout",
     "output_type": "stream",
     "text": [
      "Time elapsed: 17.56 seconds \n",
      "/Users/blandt/Desktop/RING lines/Experiment/211112_nwg338_tom4,15,60/02\n"
     ]
    },
    {
     "name": "stderr",
     "output_type": "stream",
     "text": [
      "100%|██████████| 500/500 [00:17<00:00, 29.07it/s]\n",
      "  1%|          | 3/500 [00:00<00:16, 29.29it/s]"
     ]
    },
    {
     "name": "stdout",
     "output_type": "stream",
     "text": [
      "Time elapsed: 17.28 seconds \n",
      "/Users/blandt/Desktop/RING lines/Experiment/211112_nwg338_tom4,15,60/03\n"
     ]
    },
    {
     "name": "stderr",
     "output_type": "stream",
     "text": [
      "100%|██████████| 500/500 [00:17<00:00, 29.26it/s]\n",
      "  1%|          | 3/500 [00:00<00:17, 28.17it/s]"
     ]
    },
    {
     "name": "stdout",
     "output_type": "stream",
     "text": [
      "Time elapsed: 17.17 seconds \n",
      "/Users/blandt/Desktop/RING lines/Experiment/211112_nwg338bal_tom4,15,60/00\n"
     ]
    },
    {
     "name": "stderr",
     "output_type": "stream",
     "text": [
      "100%|██████████| 500/500 [00:17<00:00, 28.67it/s]\n",
      "  1%|          | 3/500 [00:00<00:18, 26.81it/s]"
     ]
    },
    {
     "name": "stdout",
     "output_type": "stream",
     "text": [
      "Time elapsed: 17.54 seconds \n",
      "/Users/blandt/Desktop/RING lines/Experiment/211112_nwg338bal_tom4,15,60/01\n"
     ]
    },
    {
     "name": "stderr",
     "output_type": "stream",
     "text": [
      "100%|██████████| 500/500 [00:17<00:00, 27.87it/s]\n",
      "  1%|          | 3/500 [00:00<00:17, 28.47it/s]"
     ]
    },
    {
     "name": "stdout",
     "output_type": "stream",
     "text": [
      "Time elapsed: 18.03 seconds \n",
      "/Users/blandt/Desktop/RING lines/Experiment/211112_nwg338bal_tom4,15,60/02\n"
     ]
    },
    {
     "name": "stderr",
     "output_type": "stream",
     "text": [
      "100%|██████████| 500/500 [00:17<00:00, 28.61it/s]\n",
      "  1%|          | 3/500 [00:00<00:17, 28.92it/s]"
     ]
    },
    {
     "name": "stdout",
     "output_type": "stream",
     "text": [
      "Time elapsed: 17.57 seconds \n",
      "/Users/blandt/Desktop/RING lines/Experiment/211112_nwg338bal_tom4,15,60/03\n"
     ]
    },
    {
     "name": "stderr",
     "output_type": "stream",
     "text": [
      "100%|██████████| 500/500 [00:17<00:00, 29.16it/s]\n",
      "  1%|          | 3/500 [00:00<00:17, 28.33it/s]"
     ]
    },
    {
     "name": "stdout",
     "output_type": "stream",
     "text": [
      "Time elapsed: 17.24 seconds \n",
      "/Users/blandt/Desktop/RING lines/Experiment/211112_nwg351_tom4,15,60/00\n"
     ]
    },
    {
     "name": "stderr",
     "output_type": "stream",
     "text": [
      "100%|██████████| 500/500 [00:17<00:00, 27.92it/s]\n",
      "  1%|          | 3/500 [00:00<00:18, 27.42it/s]"
     ]
    },
    {
     "name": "stdout",
     "output_type": "stream",
     "text": [
      "Time elapsed: 18.00 seconds \n",
      "/Users/blandt/Desktop/RING lines/Experiment/211112_nwg351_tom4,15,60/01\n"
     ]
    },
    {
     "name": "stderr",
     "output_type": "stream",
     "text": [
      "100%|██████████| 500/500 [00:17<00:00, 27.92it/s]\n",
      "  1%|          | 3/500 [00:00<00:17, 27.74it/s]"
     ]
    },
    {
     "name": "stdout",
     "output_type": "stream",
     "text": [
      "Time elapsed: 18.00 seconds \n",
      "/Users/blandt/Desktop/RING lines/Experiment/211112_nwg351_tom4,15,60/02\n"
     ]
    },
    {
     "name": "stderr",
     "output_type": "stream",
     "text": [
      "100%|██████████| 500/500 [00:17<00:00, 27.87it/s]\n",
      "  1%|          | 3/500 [00:00<00:18, 26.55it/s]"
     ]
    },
    {
     "name": "stdout",
     "output_type": "stream",
     "text": [
      "Time elapsed: 18.04 seconds \n",
      "/Users/blandt/Desktop/RING lines/Experiment/211112_nwg351_tom4,15,60/03\n"
     ]
    },
    {
     "name": "stderr",
     "output_type": "stream",
     "text": [
      "100%|██████████| 500/500 [00:17<00:00, 27.93it/s]\n",
      "  1%|          | 3/500 [00:00<00:17, 28.53it/s]"
     ]
    },
    {
     "name": "stdout",
     "output_type": "stream",
     "text": [
      "Time elapsed: 17.99 seconds \n",
      "/Users/blandt/Desktop/RING lines/Experiment/211112_nwg351_tom4,15,60/04\n"
     ]
    },
    {
     "name": "stderr",
     "output_type": "stream",
     "text": [
      "100%|██████████| 500/500 [00:17<00:00, 28.38it/s]\n",
      "  1%|          | 3/500 [00:00<00:17, 28.84it/s]"
     ]
    },
    {
     "name": "stdout",
     "output_type": "stream",
     "text": [
      "Time elapsed: 17.71 seconds \n",
      "/Users/blandt/Desktop/RING lines/Experiment/211112_nwg400_tom4,15,60/00\n"
     ]
    },
    {
     "name": "stderr",
     "output_type": "stream",
     "text": [
      "100%|██████████| 500/500 [00:17<00:00, 28.52it/s]\n",
      "  1%|          | 3/500 [00:00<00:17, 28.78it/s]"
     ]
    },
    {
     "name": "stdout",
     "output_type": "stream",
     "text": [
      "Time elapsed: 17.62 seconds \n",
      "/Users/blandt/Desktop/RING lines/Experiment/211112_nwg400_tom4,15,60/01\n"
     ]
    },
    {
     "name": "stderr",
     "output_type": "stream",
     "text": [
      "100%|██████████| 500/500 [00:17<00:00, 28.94it/s]\n",
      "  1%|          | 3/500 [00:00<00:17, 28.95it/s]"
     ]
    },
    {
     "name": "stdout",
     "output_type": "stream",
     "text": [
      "Time elapsed: 17.36 seconds \n",
      "/Users/blandt/Desktop/RING lines/Experiment/211112_nwg400_tom4,15,60/03\n"
     ]
    },
    {
     "name": "stderr",
     "output_type": "stream",
     "text": [
      "100%|██████████| 500/500 [00:17<00:00, 28.70it/s]\n",
      "  1%|          | 3/500 [00:00<00:19, 25.13it/s]"
     ]
    },
    {
     "name": "stdout",
     "output_type": "stream",
     "text": [
      "Time elapsed: 17.52 seconds \n",
      "/Users/blandt/Desktop/RING lines/Experiment/211112_nwg400_tom4,15,60/04\n"
     ]
    },
    {
     "name": "stderr",
     "output_type": "stream",
     "text": [
      "100%|██████████| 500/500 [00:17<00:00, 28.55it/s]\n",
      "  1%|          | 3/500 [00:00<00:17, 28.36it/s]"
     ]
    },
    {
     "name": "stdout",
     "output_type": "stream",
     "text": [
      "Time elapsed: 17.60 seconds \n",
      "/Users/blandt/Desktop/RING lines/Experiment/211112_nwg400bal_tom4,15,60/00\n"
     ]
    },
    {
     "name": "stderr",
     "output_type": "stream",
     "text": [
      "100%|██████████| 500/500 [00:17<00:00, 28.66it/s]\n",
      "  1%|          | 3/500 [00:00<00:17, 28.66it/s]"
     ]
    },
    {
     "name": "stdout",
     "output_type": "stream",
     "text": [
      "Time elapsed: 17.53 seconds \n",
      "/Users/blandt/Desktop/RING lines/Experiment/211112_nwg400bal_tom4,15,60/01\n"
     ]
    },
    {
     "name": "stderr",
     "output_type": "stream",
     "text": [
      "100%|██████████| 500/500 [00:18<00:00, 26.75it/s]\n",
      "  1%|          | 3/500 [00:00<00:18, 27.01it/s]"
     ]
    },
    {
     "name": "stdout",
     "output_type": "stream",
     "text": [
      "Time elapsed: 18.78 seconds \n",
      "/Users/blandt/Desktop/RING lines/Experiment/211112_nwg400bal_tom4,15,60/02\n"
     ]
    },
    {
     "name": "stderr",
     "output_type": "stream",
     "text": [
      "100%|██████████| 500/500 [00:17<00:00, 28.57it/s]\n",
      "  1%|          | 3/500 [00:00<00:16, 29.39it/s]"
     ]
    },
    {
     "name": "stdout",
     "output_type": "stream",
     "text": [
      "Time elapsed: 17.59 seconds \n",
      "/Users/blandt/Desktop/RING lines/Experiment/211112_nwg400bal_tom4,15,60/03\n"
     ]
    },
    {
     "name": "stderr",
     "output_type": "stream",
     "text": [
      "100%|██████████| 500/500 [00:17<00:00, 28.81it/s]\n",
      "  1%|          | 3/500 [00:00<00:17, 28.91it/s]"
     ]
    },
    {
     "name": "stdout",
     "output_type": "stream",
     "text": [
      "Time elapsed: 17.46 seconds \n",
      "/Users/blandt/Desktop/RING lines/Experiment/211112_nwg400bal_tom4,15,60/04\n"
     ]
    },
    {
     "name": "stderr",
     "output_type": "stream",
     "text": [
      "100%|██████████| 500/500 [00:17<00:00, 27.89it/s]\n",
      "  1%|          | 3/500 [00:00<00:17, 29.06it/s]"
     ]
    },
    {
     "name": "stdout",
     "output_type": "stream",
     "text": [
      "Time elapsed: 18.03 seconds \n",
      "/Users/blandt/Desktop/RING lines/Experiment/211112_nwg407_tom4,15,60/00\n"
     ]
    },
    {
     "name": "stderr",
     "output_type": "stream",
     "text": [
      "100%|██████████| 500/500 [00:18<00:00, 26.90it/s]\n",
      "  1%|          | 3/500 [00:00<00:17, 28.10it/s]"
     ]
    },
    {
     "name": "stdout",
     "output_type": "stream",
     "text": [
      "Time elapsed: 18.68 seconds \n",
      "/Users/blandt/Desktop/RING lines/Experiment/211112_nwg407_tom4,15,60/01\n"
     ]
    },
    {
     "name": "stderr",
     "output_type": "stream",
     "text": [
      "100%|██████████| 500/500 [00:17<00:00, 28.25it/s]\n",
      "  1%|          | 3/500 [00:00<00:17, 27.91it/s]"
     ]
    },
    {
     "name": "stdout",
     "output_type": "stream",
     "text": [
      "Time elapsed: 17.80 seconds \n",
      "/Users/blandt/Desktop/RING lines/Experiment/211112_nwg407_tom4,15,60/02\n"
     ]
    },
    {
     "name": "stderr",
     "output_type": "stream",
     "text": [
      "100%|██████████| 500/500 [00:17<00:00, 28.43it/s]\n",
      "  1%|          | 3/500 [00:00<00:17, 28.55it/s]"
     ]
    },
    {
     "name": "stdout",
     "output_type": "stream",
     "text": [
      "Time elapsed: 17.69 seconds \n",
      "/Users/blandt/Desktop/RING lines/Experiment/211112_nwg407_tom4,15,60/03\n"
     ]
    },
    {
     "name": "stderr",
     "output_type": "stream",
     "text": [
      "100%|██████████| 500/500 [00:17<00:00, 28.26it/s]\n",
      "  1%|          | 3/500 [00:00<00:18, 27.03it/s]"
     ]
    },
    {
     "name": "stdout",
     "output_type": "stream",
     "text": [
      "Time elapsed: 17.79 seconds \n",
      "/Users/blandt/Desktop/RING lines/Experiment/211112_nwg407_tom4,15,60/04\n"
     ]
    },
    {
     "name": "stderr",
     "output_type": "stream",
     "text": [
      "100%|██████████| 500/500 [00:17<00:00, 28.47it/s]\n",
      "  1%|          | 3/500 [00:00<00:17, 27.79it/s]"
     ]
    },
    {
     "name": "stdout",
     "output_type": "stream",
     "text": [
      "Time elapsed: 17.66 seconds \n",
      "/Users/blandt/Desktop/RING lines/Experiment/211112_nwg407_tom4,15,60/05\n"
     ]
    },
    {
     "name": "stderr",
     "output_type": "stream",
     "text": [
      "100%|██████████| 500/500 [00:17<00:00, 28.95it/s]"
     ]
    },
    {
     "name": "stdout",
     "output_type": "stream",
     "text": [
      "Time elapsed: 17.37 seconds \n"
     ]
    },
    {
     "name": "stderr",
     "output_type": "stream",
     "text": [
      "\n"
     ]
    }
   ],
   "source": [
    "for i, r, p in zip(imgs_3channel_flat, rois, paths):\n",
    "    print(p)\n",
    "    iq = ImageQuant(img=i, cytbg=cytbg, roi=r, uni_cyt=True, adaptive_membg=True, descent_steps=500, iterations=1, \n",
    "                    lr=0.01, rol_ave=5)\n",
    "    iq.run()\n",
    "    np.savetxt(p + '/mem_profile.txt', iq.membg / max(iq.membg))"
   ]
  },
  {
   "cell_type": "code",
   "execution_count": 7,
   "metadata": {},
   "outputs": [],
   "source": [
    "individual_profiles = [np.loadtxt(p + '/mem_profile.txt') for p in paths]\n",
    "individual_profiles_mean = np.mean(np.array([prof for cond, \n",
    "                                             prof in zip(conditions, individual_profiles) if cond != 'n2']), axis=0)\n",
    "membg_pooled = np.loadtxt('mem_profile.txt')"
   ]
  },
  {
   "cell_type": "code",
   "execution_count": 10,
   "metadata": {},
   "outputs": [
    {
     "data": {
      "application/javascript": [
       "/* Put everything inside the global mpl namespace */\n",
       "/* global mpl */\n",
       "window.mpl = {};\n",
       "\n",
       "mpl.get_websocket_type = function () {\n",
       "    if (typeof WebSocket !== 'undefined') {\n",
       "        return WebSocket;\n",
       "    } else if (typeof MozWebSocket !== 'undefined') {\n",
       "        return MozWebSocket;\n",
       "    } else {\n",
       "        alert(\n",
       "            'Your browser does not have WebSocket support. ' +\n",
       "                'Please try Chrome, Safari or Firefox ≥ 6. ' +\n",
       "                'Firefox 4 and 5 are also supported but you ' +\n",
       "                'have to enable WebSockets in about:config.'\n",
       "        );\n",
       "    }\n",
       "};\n",
       "\n",
       "mpl.figure = function (figure_id, websocket, ondownload, parent_element) {\n",
       "    this.id = figure_id;\n",
       "\n",
       "    this.ws = websocket;\n",
       "\n",
       "    this.supports_binary = this.ws.binaryType !== undefined;\n",
       "\n",
       "    if (!this.supports_binary) {\n",
       "        var warnings = document.getElementById('mpl-warnings');\n",
       "        if (warnings) {\n",
       "            warnings.style.display = 'block';\n",
       "            warnings.textContent =\n",
       "                'This browser does not support binary websocket messages. ' +\n",
       "                'Performance may be slow.';\n",
       "        }\n",
       "    }\n",
       "\n",
       "    this.imageObj = new Image();\n",
       "\n",
       "    this.context = undefined;\n",
       "    this.message = undefined;\n",
       "    this.canvas = undefined;\n",
       "    this.rubberband_canvas = undefined;\n",
       "    this.rubberband_context = undefined;\n",
       "    this.format_dropdown = undefined;\n",
       "\n",
       "    this.image_mode = 'full';\n",
       "\n",
       "    this.root = document.createElement('div');\n",
       "    this.root.setAttribute('style', 'display: inline-block');\n",
       "    this._root_extra_style(this.root);\n",
       "\n",
       "    parent_element.appendChild(this.root);\n",
       "\n",
       "    this._init_header(this);\n",
       "    this._init_canvas(this);\n",
       "    this._init_toolbar(this);\n",
       "\n",
       "    var fig = this;\n",
       "\n",
       "    this.waiting = false;\n",
       "\n",
       "    this.ws.onopen = function () {\n",
       "        fig.send_message('supports_binary', { value: fig.supports_binary });\n",
       "        fig.send_message('send_image_mode', {});\n",
       "        if (fig.ratio !== 1) {\n",
       "            fig.send_message('set_dpi_ratio', { dpi_ratio: fig.ratio });\n",
       "        }\n",
       "        fig.send_message('refresh', {});\n",
       "    };\n",
       "\n",
       "    this.imageObj.onload = function () {\n",
       "        if (fig.image_mode === 'full') {\n",
       "            // Full images could contain transparency (where diff images\n",
       "            // almost always do), so we need to clear the canvas so that\n",
       "            // there is no ghosting.\n",
       "            fig.context.clearRect(0, 0, fig.canvas.width, fig.canvas.height);\n",
       "        }\n",
       "        fig.context.drawImage(fig.imageObj, 0, 0);\n",
       "    };\n",
       "\n",
       "    this.imageObj.onunload = function () {\n",
       "        fig.ws.close();\n",
       "    };\n",
       "\n",
       "    this.ws.onmessage = this._make_on_message_function(this);\n",
       "\n",
       "    this.ondownload = ondownload;\n",
       "};\n",
       "\n",
       "mpl.figure.prototype._init_header = function () {\n",
       "    var titlebar = document.createElement('div');\n",
       "    titlebar.classList =\n",
       "        'ui-dialog-titlebar ui-widget-header ui-corner-all ui-helper-clearfix';\n",
       "    var titletext = document.createElement('div');\n",
       "    titletext.classList = 'ui-dialog-title';\n",
       "    titletext.setAttribute(\n",
       "        'style',\n",
       "        'width: 100%; text-align: center; padding: 3px;'\n",
       "    );\n",
       "    titlebar.appendChild(titletext);\n",
       "    this.root.appendChild(titlebar);\n",
       "    this.header = titletext;\n",
       "};\n",
       "\n",
       "mpl.figure.prototype._canvas_extra_style = function (_canvas_div) {};\n",
       "\n",
       "mpl.figure.prototype._root_extra_style = function (_canvas_div) {};\n",
       "\n",
       "mpl.figure.prototype._init_canvas = function () {\n",
       "    var fig = this;\n",
       "\n",
       "    var canvas_div = (this.canvas_div = document.createElement('div'));\n",
       "    canvas_div.setAttribute(\n",
       "        'style',\n",
       "        'border: 1px solid #ddd;' +\n",
       "            'box-sizing: content-box;' +\n",
       "            'clear: both;' +\n",
       "            'min-height: 1px;' +\n",
       "            'min-width: 1px;' +\n",
       "            'outline: 0;' +\n",
       "            'overflow: hidden;' +\n",
       "            'position: relative;' +\n",
       "            'resize: both;'\n",
       "    );\n",
       "\n",
       "    function on_keyboard_event_closure(name) {\n",
       "        return function (event) {\n",
       "            return fig.key_event(event, name);\n",
       "        };\n",
       "    }\n",
       "\n",
       "    canvas_div.addEventListener(\n",
       "        'keydown',\n",
       "        on_keyboard_event_closure('key_press')\n",
       "    );\n",
       "    canvas_div.addEventListener(\n",
       "        'keyup',\n",
       "        on_keyboard_event_closure('key_release')\n",
       "    );\n",
       "\n",
       "    this._canvas_extra_style(canvas_div);\n",
       "    this.root.appendChild(canvas_div);\n",
       "\n",
       "    var canvas = (this.canvas = document.createElement('canvas'));\n",
       "    canvas.classList.add('mpl-canvas');\n",
       "    canvas.setAttribute('style', 'box-sizing: content-box;');\n",
       "\n",
       "    this.context = canvas.getContext('2d');\n",
       "\n",
       "    var backingStore =\n",
       "        this.context.backingStorePixelRatio ||\n",
       "        this.context.webkitBackingStorePixelRatio ||\n",
       "        this.context.mozBackingStorePixelRatio ||\n",
       "        this.context.msBackingStorePixelRatio ||\n",
       "        this.context.oBackingStorePixelRatio ||\n",
       "        this.context.backingStorePixelRatio ||\n",
       "        1;\n",
       "\n",
       "    this.ratio = (window.devicePixelRatio || 1) / backingStore;\n",
       "\n",
       "    var rubberband_canvas = (this.rubberband_canvas = document.createElement(\n",
       "        'canvas'\n",
       "    ));\n",
       "    rubberband_canvas.setAttribute(\n",
       "        'style',\n",
       "        'box-sizing: content-box; position: absolute; left: 0; top: 0; z-index: 1;'\n",
       "    );\n",
       "\n",
       "    // Apply a ponyfill if ResizeObserver is not implemented by browser.\n",
       "    if (this.ResizeObserver === undefined) {\n",
       "        if (window.ResizeObserver !== undefined) {\n",
       "            this.ResizeObserver = window.ResizeObserver;\n",
       "        } else {\n",
       "            var obs = _JSXTOOLS_RESIZE_OBSERVER({});\n",
       "            this.ResizeObserver = obs.ResizeObserver;\n",
       "        }\n",
       "    }\n",
       "\n",
       "    this.resizeObserverInstance = new this.ResizeObserver(function (entries) {\n",
       "        var nentries = entries.length;\n",
       "        for (var i = 0; i < nentries; i++) {\n",
       "            var entry = entries[i];\n",
       "            var width, height;\n",
       "            if (entry.contentBoxSize) {\n",
       "                if (entry.contentBoxSize instanceof Array) {\n",
       "                    // Chrome 84 implements new version of spec.\n",
       "                    width = entry.contentBoxSize[0].inlineSize;\n",
       "                    height = entry.contentBoxSize[0].blockSize;\n",
       "                } else {\n",
       "                    // Firefox implements old version of spec.\n",
       "                    width = entry.contentBoxSize.inlineSize;\n",
       "                    height = entry.contentBoxSize.blockSize;\n",
       "                }\n",
       "            } else {\n",
       "                // Chrome <84 implements even older version of spec.\n",
       "                width = entry.contentRect.width;\n",
       "                height = entry.contentRect.height;\n",
       "            }\n",
       "\n",
       "            // Keep the size of the canvas and rubber band canvas in sync with\n",
       "            // the canvas container.\n",
       "            if (entry.devicePixelContentBoxSize) {\n",
       "                // Chrome 84 implements new version of spec.\n",
       "                canvas.setAttribute(\n",
       "                    'width',\n",
       "                    entry.devicePixelContentBoxSize[0].inlineSize\n",
       "                );\n",
       "                canvas.setAttribute(\n",
       "                    'height',\n",
       "                    entry.devicePixelContentBoxSize[0].blockSize\n",
       "                );\n",
       "            } else {\n",
       "                canvas.setAttribute('width', width * fig.ratio);\n",
       "                canvas.setAttribute('height', height * fig.ratio);\n",
       "            }\n",
       "            canvas.setAttribute(\n",
       "                'style',\n",
       "                'width: ' + width + 'px; height: ' + height + 'px;'\n",
       "            );\n",
       "\n",
       "            rubberband_canvas.setAttribute('width', width);\n",
       "            rubberband_canvas.setAttribute('height', height);\n",
       "\n",
       "            // And update the size in Python. We ignore the initial 0/0 size\n",
       "            // that occurs as the element is placed into the DOM, which should\n",
       "            // otherwise not happen due to the minimum size styling.\n",
       "            if (fig.ws.readyState == 1 && width != 0 && height != 0) {\n",
       "                fig.request_resize(width, height);\n",
       "            }\n",
       "        }\n",
       "    });\n",
       "    this.resizeObserverInstance.observe(canvas_div);\n",
       "\n",
       "    function on_mouse_event_closure(name) {\n",
       "        return function (event) {\n",
       "            return fig.mouse_event(event, name);\n",
       "        };\n",
       "    }\n",
       "\n",
       "    rubberband_canvas.addEventListener(\n",
       "        'mousedown',\n",
       "        on_mouse_event_closure('button_press')\n",
       "    );\n",
       "    rubberband_canvas.addEventListener(\n",
       "        'mouseup',\n",
       "        on_mouse_event_closure('button_release')\n",
       "    );\n",
       "    // Throttle sequential mouse events to 1 every 20ms.\n",
       "    rubberband_canvas.addEventListener(\n",
       "        'mousemove',\n",
       "        on_mouse_event_closure('motion_notify')\n",
       "    );\n",
       "\n",
       "    rubberband_canvas.addEventListener(\n",
       "        'mouseenter',\n",
       "        on_mouse_event_closure('figure_enter')\n",
       "    );\n",
       "    rubberband_canvas.addEventListener(\n",
       "        'mouseleave',\n",
       "        on_mouse_event_closure('figure_leave')\n",
       "    );\n",
       "\n",
       "    canvas_div.addEventListener('wheel', function (event) {\n",
       "        if (event.deltaY < 0) {\n",
       "            event.step = 1;\n",
       "        } else {\n",
       "            event.step = -1;\n",
       "        }\n",
       "        on_mouse_event_closure('scroll')(event);\n",
       "    });\n",
       "\n",
       "    canvas_div.appendChild(canvas);\n",
       "    canvas_div.appendChild(rubberband_canvas);\n",
       "\n",
       "    this.rubberband_context = rubberband_canvas.getContext('2d');\n",
       "    this.rubberband_context.strokeStyle = '#000000';\n",
       "\n",
       "    this._resize_canvas = function (width, height, forward) {\n",
       "        if (forward) {\n",
       "            canvas_div.style.width = width + 'px';\n",
       "            canvas_div.style.height = height + 'px';\n",
       "        }\n",
       "    };\n",
       "\n",
       "    // Disable right mouse context menu.\n",
       "    this.rubberband_canvas.addEventListener('contextmenu', function (_e) {\n",
       "        event.preventDefault();\n",
       "        return false;\n",
       "    });\n",
       "\n",
       "    function set_focus() {\n",
       "        canvas.focus();\n",
       "        canvas_div.focus();\n",
       "    }\n",
       "\n",
       "    window.setTimeout(set_focus, 100);\n",
       "};\n",
       "\n",
       "mpl.figure.prototype._init_toolbar = function () {\n",
       "    var fig = this;\n",
       "\n",
       "    var toolbar = document.createElement('div');\n",
       "    toolbar.classList = 'mpl-toolbar';\n",
       "    this.root.appendChild(toolbar);\n",
       "\n",
       "    function on_click_closure(name) {\n",
       "        return function (_event) {\n",
       "            return fig.toolbar_button_onclick(name);\n",
       "        };\n",
       "    }\n",
       "\n",
       "    function on_mouseover_closure(tooltip) {\n",
       "        return function (event) {\n",
       "            if (!event.currentTarget.disabled) {\n",
       "                return fig.toolbar_button_onmouseover(tooltip);\n",
       "            }\n",
       "        };\n",
       "    }\n",
       "\n",
       "    fig.buttons = {};\n",
       "    var buttonGroup = document.createElement('div');\n",
       "    buttonGroup.classList = 'mpl-button-group';\n",
       "    for (var toolbar_ind in mpl.toolbar_items) {\n",
       "        var name = mpl.toolbar_items[toolbar_ind][0];\n",
       "        var tooltip = mpl.toolbar_items[toolbar_ind][1];\n",
       "        var image = mpl.toolbar_items[toolbar_ind][2];\n",
       "        var method_name = mpl.toolbar_items[toolbar_ind][3];\n",
       "\n",
       "        if (!name) {\n",
       "            /* Instead of a spacer, we start a new button group. */\n",
       "            if (buttonGroup.hasChildNodes()) {\n",
       "                toolbar.appendChild(buttonGroup);\n",
       "            }\n",
       "            buttonGroup = document.createElement('div');\n",
       "            buttonGroup.classList = 'mpl-button-group';\n",
       "            continue;\n",
       "        }\n",
       "\n",
       "        var button = (fig.buttons[name] = document.createElement('button'));\n",
       "        button.classList = 'mpl-widget';\n",
       "        button.setAttribute('role', 'button');\n",
       "        button.setAttribute('aria-disabled', 'false');\n",
       "        button.addEventListener('click', on_click_closure(method_name));\n",
       "        button.addEventListener('mouseover', on_mouseover_closure(tooltip));\n",
       "\n",
       "        var icon_img = document.createElement('img');\n",
       "        icon_img.src = '_images/' + image + '.png';\n",
       "        icon_img.srcset = '_images/' + image + '_large.png 2x';\n",
       "        icon_img.alt = tooltip;\n",
       "        button.appendChild(icon_img);\n",
       "\n",
       "        buttonGroup.appendChild(button);\n",
       "    }\n",
       "\n",
       "    if (buttonGroup.hasChildNodes()) {\n",
       "        toolbar.appendChild(buttonGroup);\n",
       "    }\n",
       "\n",
       "    var fmt_picker = document.createElement('select');\n",
       "    fmt_picker.classList = 'mpl-widget';\n",
       "    toolbar.appendChild(fmt_picker);\n",
       "    this.format_dropdown = fmt_picker;\n",
       "\n",
       "    for (var ind in mpl.extensions) {\n",
       "        var fmt = mpl.extensions[ind];\n",
       "        var option = document.createElement('option');\n",
       "        option.selected = fmt === mpl.default_extension;\n",
       "        option.innerHTML = fmt;\n",
       "        fmt_picker.appendChild(option);\n",
       "    }\n",
       "\n",
       "    var status_bar = document.createElement('span');\n",
       "    status_bar.classList = 'mpl-message';\n",
       "    toolbar.appendChild(status_bar);\n",
       "    this.message = status_bar;\n",
       "};\n",
       "\n",
       "mpl.figure.prototype.request_resize = function (x_pixels, y_pixels) {\n",
       "    // Request matplotlib to resize the figure. Matplotlib will then trigger a resize in the client,\n",
       "    // which will in turn request a refresh of the image.\n",
       "    this.send_message('resize', { width: x_pixels, height: y_pixels });\n",
       "};\n",
       "\n",
       "mpl.figure.prototype.send_message = function (type, properties) {\n",
       "    properties['type'] = type;\n",
       "    properties['figure_id'] = this.id;\n",
       "    this.ws.send(JSON.stringify(properties));\n",
       "};\n",
       "\n",
       "mpl.figure.prototype.send_draw_message = function () {\n",
       "    if (!this.waiting) {\n",
       "        this.waiting = true;\n",
       "        this.ws.send(JSON.stringify({ type: 'draw', figure_id: this.id }));\n",
       "    }\n",
       "};\n",
       "\n",
       "mpl.figure.prototype.handle_save = function (fig, _msg) {\n",
       "    var format_dropdown = fig.format_dropdown;\n",
       "    var format = format_dropdown.options[format_dropdown.selectedIndex].value;\n",
       "    fig.ondownload(fig, format);\n",
       "};\n",
       "\n",
       "mpl.figure.prototype.handle_resize = function (fig, msg) {\n",
       "    var size = msg['size'];\n",
       "    if (size[0] !== fig.canvas.width || size[1] !== fig.canvas.height) {\n",
       "        fig._resize_canvas(size[0], size[1], msg['forward']);\n",
       "        fig.send_message('refresh', {});\n",
       "    }\n",
       "};\n",
       "\n",
       "mpl.figure.prototype.handle_rubberband = function (fig, msg) {\n",
       "    var x0 = msg['x0'] / fig.ratio;\n",
       "    var y0 = (fig.canvas.height - msg['y0']) / fig.ratio;\n",
       "    var x1 = msg['x1'] / fig.ratio;\n",
       "    var y1 = (fig.canvas.height - msg['y1']) / fig.ratio;\n",
       "    x0 = Math.floor(x0) + 0.5;\n",
       "    y0 = Math.floor(y0) + 0.5;\n",
       "    x1 = Math.floor(x1) + 0.5;\n",
       "    y1 = Math.floor(y1) + 0.5;\n",
       "    var min_x = Math.min(x0, x1);\n",
       "    var min_y = Math.min(y0, y1);\n",
       "    var width = Math.abs(x1 - x0);\n",
       "    var height = Math.abs(y1 - y0);\n",
       "\n",
       "    fig.rubberband_context.clearRect(\n",
       "        0,\n",
       "        0,\n",
       "        fig.canvas.width / fig.ratio,\n",
       "        fig.canvas.height / fig.ratio\n",
       "    );\n",
       "\n",
       "    fig.rubberband_context.strokeRect(min_x, min_y, width, height);\n",
       "};\n",
       "\n",
       "mpl.figure.prototype.handle_figure_label = function (fig, msg) {\n",
       "    // Updates the figure title.\n",
       "    fig.header.textContent = msg['label'];\n",
       "};\n",
       "\n",
       "mpl.figure.prototype.handle_cursor = function (fig, msg) {\n",
       "    var cursor = msg['cursor'];\n",
       "    switch (cursor) {\n",
       "        case 0:\n",
       "            cursor = 'pointer';\n",
       "            break;\n",
       "        case 1:\n",
       "            cursor = 'default';\n",
       "            break;\n",
       "        case 2:\n",
       "            cursor = 'crosshair';\n",
       "            break;\n",
       "        case 3:\n",
       "            cursor = 'move';\n",
       "            break;\n",
       "    }\n",
       "    fig.rubberband_canvas.style.cursor = cursor;\n",
       "};\n",
       "\n",
       "mpl.figure.prototype.handle_message = function (fig, msg) {\n",
       "    fig.message.textContent = msg['message'];\n",
       "};\n",
       "\n",
       "mpl.figure.prototype.handle_draw = function (fig, _msg) {\n",
       "    // Request the server to send over a new figure.\n",
       "    fig.send_draw_message();\n",
       "};\n",
       "\n",
       "mpl.figure.prototype.handle_image_mode = function (fig, msg) {\n",
       "    fig.image_mode = msg['mode'];\n",
       "};\n",
       "\n",
       "mpl.figure.prototype.handle_history_buttons = function (fig, msg) {\n",
       "    for (var key in msg) {\n",
       "        if (!(key in fig.buttons)) {\n",
       "            continue;\n",
       "        }\n",
       "        fig.buttons[key].disabled = !msg[key];\n",
       "        fig.buttons[key].setAttribute('aria-disabled', !msg[key]);\n",
       "    }\n",
       "};\n",
       "\n",
       "mpl.figure.prototype.handle_navigate_mode = function (fig, msg) {\n",
       "    if (msg['mode'] === 'PAN') {\n",
       "        fig.buttons['Pan'].classList.add('active');\n",
       "        fig.buttons['Zoom'].classList.remove('active');\n",
       "    } else if (msg['mode'] === 'ZOOM') {\n",
       "        fig.buttons['Pan'].classList.remove('active');\n",
       "        fig.buttons['Zoom'].classList.add('active');\n",
       "    } else {\n",
       "        fig.buttons['Pan'].classList.remove('active');\n",
       "        fig.buttons['Zoom'].classList.remove('active');\n",
       "    }\n",
       "};\n",
       "\n",
       "mpl.figure.prototype.updated_canvas_event = function () {\n",
       "    // Called whenever the canvas gets updated.\n",
       "    this.send_message('ack', {});\n",
       "};\n",
       "\n",
       "// A function to construct a web socket function for onmessage handling.\n",
       "// Called in the figure constructor.\n",
       "mpl.figure.prototype._make_on_message_function = function (fig) {\n",
       "    return function socket_on_message(evt) {\n",
       "        if (evt.data instanceof Blob) {\n",
       "            /* FIXME: We get \"Resource interpreted as Image but\n",
       "             * transferred with MIME type text/plain:\" errors on\n",
       "             * Chrome.  But how to set the MIME type?  It doesn't seem\n",
       "             * to be part of the websocket stream */\n",
       "            evt.data.type = 'image/png';\n",
       "\n",
       "            /* Free the memory for the previous frames */\n",
       "            if (fig.imageObj.src) {\n",
       "                (window.URL || window.webkitURL).revokeObjectURL(\n",
       "                    fig.imageObj.src\n",
       "                );\n",
       "            }\n",
       "\n",
       "            fig.imageObj.src = (window.URL || window.webkitURL).createObjectURL(\n",
       "                evt.data\n",
       "            );\n",
       "            fig.updated_canvas_event();\n",
       "            fig.waiting = false;\n",
       "            return;\n",
       "        } else if (\n",
       "            typeof evt.data === 'string' &&\n",
       "            evt.data.slice(0, 21) === 'data:image/png;base64'\n",
       "        ) {\n",
       "            fig.imageObj.src = evt.data;\n",
       "            fig.updated_canvas_event();\n",
       "            fig.waiting = false;\n",
       "            return;\n",
       "        }\n",
       "\n",
       "        var msg = JSON.parse(evt.data);\n",
       "        var msg_type = msg['type'];\n",
       "\n",
       "        // Call the  \"handle_{type}\" callback, which takes\n",
       "        // the figure and JSON message as its only arguments.\n",
       "        try {\n",
       "            var callback = fig['handle_' + msg_type];\n",
       "        } catch (e) {\n",
       "            console.log(\n",
       "                \"No handler for the '\" + msg_type + \"' message type: \",\n",
       "                msg\n",
       "            );\n",
       "            return;\n",
       "        }\n",
       "\n",
       "        if (callback) {\n",
       "            try {\n",
       "                // console.log(\"Handling '\" + msg_type + \"' message: \", msg);\n",
       "                callback(fig, msg);\n",
       "            } catch (e) {\n",
       "                console.log(\n",
       "                    \"Exception inside the 'handler_\" + msg_type + \"' callback:\",\n",
       "                    e,\n",
       "                    e.stack,\n",
       "                    msg\n",
       "                );\n",
       "            }\n",
       "        }\n",
       "    };\n",
       "};\n",
       "\n",
       "// from http://stackoverflow.com/questions/1114465/getting-mouse-location-in-canvas\n",
       "mpl.findpos = function (e) {\n",
       "    //this section is from http://www.quirksmode.org/js/events_properties.html\n",
       "    var targ;\n",
       "    if (!e) {\n",
       "        e = window.event;\n",
       "    }\n",
       "    if (e.target) {\n",
       "        targ = e.target;\n",
       "    } else if (e.srcElement) {\n",
       "        targ = e.srcElement;\n",
       "    }\n",
       "    if (targ.nodeType === 3) {\n",
       "        // defeat Safari bug\n",
       "        targ = targ.parentNode;\n",
       "    }\n",
       "\n",
       "    // pageX,Y are the mouse positions relative to the document\n",
       "    var boundingRect = targ.getBoundingClientRect();\n",
       "    var x = e.pageX - (boundingRect.left + document.body.scrollLeft);\n",
       "    var y = e.pageY - (boundingRect.top + document.body.scrollTop);\n",
       "\n",
       "    return { x: x, y: y };\n",
       "};\n",
       "\n",
       "/*\n",
       " * return a copy of an object with only non-object keys\n",
       " * we need this to avoid circular references\n",
       " * http://stackoverflow.com/a/24161582/3208463\n",
       " */\n",
       "function simpleKeys(original) {\n",
       "    return Object.keys(original).reduce(function (obj, key) {\n",
       "        if (typeof original[key] !== 'object') {\n",
       "            obj[key] = original[key];\n",
       "        }\n",
       "        return obj;\n",
       "    }, {});\n",
       "}\n",
       "\n",
       "mpl.figure.prototype.mouse_event = function (event, name) {\n",
       "    var canvas_pos = mpl.findpos(event);\n",
       "\n",
       "    if (name === 'button_press') {\n",
       "        this.canvas.focus();\n",
       "        this.canvas_div.focus();\n",
       "    }\n",
       "\n",
       "    var x = canvas_pos.x * this.ratio;\n",
       "    var y = canvas_pos.y * this.ratio;\n",
       "\n",
       "    this.send_message(name, {\n",
       "        x: x,\n",
       "        y: y,\n",
       "        button: event.button,\n",
       "        step: event.step,\n",
       "        guiEvent: simpleKeys(event),\n",
       "    });\n",
       "\n",
       "    /* This prevents the web browser from automatically changing to\n",
       "     * the text insertion cursor when the button is pressed.  We want\n",
       "     * to control all of the cursor setting manually through the\n",
       "     * 'cursor' event from matplotlib */\n",
       "    event.preventDefault();\n",
       "    return false;\n",
       "};\n",
       "\n",
       "mpl.figure.prototype._key_event_extra = function (_event, _name) {\n",
       "    // Handle any extra behaviour associated with a key event\n",
       "};\n",
       "\n",
       "mpl.figure.prototype.key_event = function (event, name) {\n",
       "    // Prevent repeat events\n",
       "    if (name === 'key_press') {\n",
       "        if (event.which === this._key) {\n",
       "            return;\n",
       "        } else {\n",
       "            this._key = event.which;\n",
       "        }\n",
       "    }\n",
       "    if (name === 'key_release') {\n",
       "        this._key = null;\n",
       "    }\n",
       "\n",
       "    var value = '';\n",
       "    if (event.ctrlKey && event.which !== 17) {\n",
       "        value += 'ctrl+';\n",
       "    }\n",
       "    if (event.altKey && event.which !== 18) {\n",
       "        value += 'alt+';\n",
       "    }\n",
       "    if (event.shiftKey && event.which !== 16) {\n",
       "        value += 'shift+';\n",
       "    }\n",
       "\n",
       "    value += 'k';\n",
       "    value += event.which.toString();\n",
       "\n",
       "    this._key_event_extra(event, name);\n",
       "\n",
       "    this.send_message(name, { key: value, guiEvent: simpleKeys(event) });\n",
       "    return false;\n",
       "};\n",
       "\n",
       "mpl.figure.prototype.toolbar_button_onclick = function (name) {\n",
       "    if (name === 'download') {\n",
       "        this.handle_save(this, null);\n",
       "    } else {\n",
       "        this.send_message('toolbar_button', { name: name });\n",
       "    }\n",
       "};\n",
       "\n",
       "mpl.figure.prototype.toolbar_button_onmouseover = function (tooltip) {\n",
       "    this.message.textContent = tooltip;\n",
       "};\n",
       "\n",
       "///////////////// REMAINING CONTENT GENERATED BY embed_js.py /////////////////\n",
       "// prettier-ignore\n",
       "var _JSXTOOLS_RESIZE_OBSERVER=function(A){var t,i=new WeakMap,n=new WeakMap,a=new WeakMap,r=new WeakMap,o=new Set;function s(e){if(!(this instanceof s))throw new TypeError(\"Constructor requires 'new' operator\");i.set(this,e)}function h(){throw new TypeError(\"Function is not a constructor\")}function c(e,t,i,n){e=0 in arguments?Number(arguments[0]):0,t=1 in arguments?Number(arguments[1]):0,i=2 in arguments?Number(arguments[2]):0,n=3 in arguments?Number(arguments[3]):0,this.right=(this.x=this.left=e)+(this.width=i),this.bottom=(this.y=this.top=t)+(this.height=n),Object.freeze(this)}function d(){t=requestAnimationFrame(d);var s=new WeakMap,p=new Set;o.forEach((function(t){r.get(t).forEach((function(i){var r=t instanceof window.SVGElement,o=a.get(t),d=r?0:parseFloat(o.paddingTop),f=r?0:parseFloat(o.paddingRight),l=r?0:parseFloat(o.paddingBottom),u=r?0:parseFloat(o.paddingLeft),g=r?0:parseFloat(o.borderTopWidth),m=r?0:parseFloat(o.borderRightWidth),w=r?0:parseFloat(o.borderBottomWidth),b=u+f,F=d+l,v=(r?0:parseFloat(o.borderLeftWidth))+m,W=g+w,y=r?0:t.offsetHeight-W-t.clientHeight,E=r?0:t.offsetWidth-v-t.clientWidth,R=b+v,z=F+W,M=r?t.width:parseFloat(o.width)-R-E,O=r?t.height:parseFloat(o.height)-z-y;if(n.has(t)){var k=n.get(t);if(k[0]===M&&k[1]===O)return}n.set(t,[M,O]);var S=Object.create(h.prototype);S.target=t,S.contentRect=new c(u,d,M,O),s.has(i)||(s.set(i,[]),p.add(i)),s.get(i).push(S)}))})),p.forEach((function(e){i.get(e).call(e,s.get(e),e)}))}return s.prototype.observe=function(i){if(i instanceof window.Element){r.has(i)||(r.set(i,new Set),o.add(i),a.set(i,window.getComputedStyle(i)));var n=r.get(i);n.has(this)||n.add(this),cancelAnimationFrame(t),t=requestAnimationFrame(d)}},s.prototype.unobserve=function(i){if(i instanceof window.Element&&r.has(i)){var n=r.get(i);n.has(this)&&(n.delete(this),n.size||(r.delete(i),o.delete(i))),n.size||r.delete(i),o.size||cancelAnimationFrame(t)}},A.DOMRectReadOnly=c,A.ResizeObserver=s,A.ResizeObserverEntry=h,A}; // eslint-disable-line\n",
       "mpl.toolbar_items = [[\"Home\", \"Reset original view\", \"fa fa-home icon-home\", \"home\"], [\"Back\", \"Back to previous view\", \"fa fa-arrow-left icon-arrow-left\", \"back\"], [\"Forward\", \"Forward to next view\", \"fa fa-arrow-right icon-arrow-right\", \"forward\"], [\"\", \"\", \"\", \"\"], [\"Pan\", \"Left button pans, Right button zooms\\nx/y fixes axis, CTRL fixes aspect\", \"fa fa-arrows icon-move\", \"pan\"], [\"Zoom\", \"Zoom to rectangle\\nx/y fixes axis, CTRL fixes aspect\", \"fa fa-square-o icon-check-empty\", \"zoom\"], [\"\", \"\", \"\", \"\"], [\"Download\", \"Download plot\", \"fa fa-floppy-o icon-save\", \"download\"]];\n",
       "\n",
       "mpl.extensions = [\"eps\", \"jpeg\", \"pdf\", \"png\", \"ps\", \"raw\", \"svg\", \"tif\"];\n",
       "\n",
       "mpl.default_extension = \"png\";/* global mpl */\n",
       "\n",
       "var comm_websocket_adapter = function (comm) {\n",
       "    // Create a \"websocket\"-like object which calls the given IPython comm\n",
       "    // object with the appropriate methods. Currently this is a non binary\n",
       "    // socket, so there is still some room for performance tuning.\n",
       "    var ws = {};\n",
       "\n",
       "    ws.close = function () {\n",
       "        comm.close();\n",
       "    };\n",
       "    ws.send = function (m) {\n",
       "        //console.log('sending', m);\n",
       "        comm.send(m);\n",
       "    };\n",
       "    // Register the callback with on_msg.\n",
       "    comm.on_msg(function (msg) {\n",
       "        //console.log('receiving', msg['content']['data'], msg);\n",
       "        // Pass the mpl event to the overridden (by mpl) onmessage function.\n",
       "        ws.onmessage(msg['content']['data']);\n",
       "    });\n",
       "    return ws;\n",
       "};\n",
       "\n",
       "mpl.mpl_figure_comm = function (comm, msg) {\n",
       "    // This is the function which gets called when the mpl process\n",
       "    // starts-up an IPython Comm through the \"matplotlib\" channel.\n",
       "\n",
       "    var id = msg.content.data.id;\n",
       "    // Get hold of the div created by the display call when the Comm\n",
       "    // socket was opened in Python.\n",
       "    var element = document.getElementById(id);\n",
       "    var ws_proxy = comm_websocket_adapter(comm);\n",
       "\n",
       "    function ondownload(figure, _format) {\n",
       "        window.open(figure.canvas.toDataURL());\n",
       "    }\n",
       "\n",
       "    var fig = new mpl.figure(id, ws_proxy, ondownload, element);\n",
       "\n",
       "    // Call onopen now - mpl needs it, as it is assuming we've passed it a real\n",
       "    // web socket which is closed, not our websocket->open comm proxy.\n",
       "    ws_proxy.onopen();\n",
       "\n",
       "    fig.parent_element = element;\n",
       "    fig.cell_info = mpl.find_output_cell(\"<div id='\" + id + \"'></div>\");\n",
       "    if (!fig.cell_info) {\n",
       "        console.error('Failed to find cell for figure', id, fig);\n",
       "        return;\n",
       "    }\n",
       "    fig.cell_info[0].output_area.element.on(\n",
       "        'cleared',\n",
       "        { fig: fig },\n",
       "        fig._remove_fig_handler\n",
       "    );\n",
       "};\n",
       "\n",
       "mpl.figure.prototype.handle_close = function (fig, msg) {\n",
       "    var width = fig.canvas.width / fig.ratio;\n",
       "    fig.cell_info[0].output_area.element.off(\n",
       "        'cleared',\n",
       "        fig._remove_fig_handler\n",
       "    );\n",
       "    fig.resizeObserverInstance.unobserve(fig.canvas_div);\n",
       "\n",
       "    // Update the output cell to use the data from the current canvas.\n",
       "    fig.push_to_output();\n",
       "    var dataURL = fig.canvas.toDataURL();\n",
       "    // Re-enable the keyboard manager in IPython - without this line, in FF,\n",
       "    // the notebook keyboard shortcuts fail.\n",
       "    IPython.keyboard_manager.enable();\n",
       "    fig.parent_element.innerHTML =\n",
       "        '<img src=\"' + dataURL + '\" width=\"' + width + '\">';\n",
       "    fig.close_ws(fig, msg);\n",
       "};\n",
       "\n",
       "mpl.figure.prototype.close_ws = function (fig, msg) {\n",
       "    fig.send_message('closing', msg);\n",
       "    // fig.ws.close()\n",
       "};\n",
       "\n",
       "mpl.figure.prototype.push_to_output = function (_remove_interactive) {\n",
       "    // Turn the data on the canvas into data in the output cell.\n",
       "    var width = this.canvas.width / this.ratio;\n",
       "    var dataURL = this.canvas.toDataURL();\n",
       "    this.cell_info[1]['text/html'] =\n",
       "        '<img src=\"' + dataURL + '\" width=\"' + width + '\">';\n",
       "};\n",
       "\n",
       "mpl.figure.prototype.updated_canvas_event = function () {\n",
       "    // Tell IPython that the notebook contents must change.\n",
       "    IPython.notebook.set_dirty(true);\n",
       "    this.send_message('ack', {});\n",
       "    var fig = this;\n",
       "    // Wait a second, then push the new image to the DOM so\n",
       "    // that it is saved nicely (might be nice to debounce this).\n",
       "    setTimeout(function () {\n",
       "        fig.push_to_output();\n",
       "    }, 1000);\n",
       "};\n",
       "\n",
       "mpl.figure.prototype._init_toolbar = function () {\n",
       "    var fig = this;\n",
       "\n",
       "    var toolbar = document.createElement('div');\n",
       "    toolbar.classList = 'btn-toolbar';\n",
       "    this.root.appendChild(toolbar);\n",
       "\n",
       "    function on_click_closure(name) {\n",
       "        return function (_event) {\n",
       "            return fig.toolbar_button_onclick(name);\n",
       "        };\n",
       "    }\n",
       "\n",
       "    function on_mouseover_closure(tooltip) {\n",
       "        return function (event) {\n",
       "            if (!event.currentTarget.disabled) {\n",
       "                return fig.toolbar_button_onmouseover(tooltip);\n",
       "            }\n",
       "        };\n",
       "    }\n",
       "\n",
       "    fig.buttons = {};\n",
       "    var buttonGroup = document.createElement('div');\n",
       "    buttonGroup.classList = 'btn-group';\n",
       "    var button;\n",
       "    for (var toolbar_ind in mpl.toolbar_items) {\n",
       "        var name = mpl.toolbar_items[toolbar_ind][0];\n",
       "        var tooltip = mpl.toolbar_items[toolbar_ind][1];\n",
       "        var image = mpl.toolbar_items[toolbar_ind][2];\n",
       "        var method_name = mpl.toolbar_items[toolbar_ind][3];\n",
       "\n",
       "        if (!name) {\n",
       "            /* Instead of a spacer, we start a new button group. */\n",
       "            if (buttonGroup.hasChildNodes()) {\n",
       "                toolbar.appendChild(buttonGroup);\n",
       "            }\n",
       "            buttonGroup = document.createElement('div');\n",
       "            buttonGroup.classList = 'btn-group';\n",
       "            continue;\n",
       "        }\n",
       "\n",
       "        button = fig.buttons[name] = document.createElement('button');\n",
       "        button.classList = 'btn btn-default';\n",
       "        button.href = '#';\n",
       "        button.title = name;\n",
       "        button.innerHTML = '<i class=\"fa ' + image + ' fa-lg\"></i>';\n",
       "        button.addEventListener('click', on_click_closure(method_name));\n",
       "        button.addEventListener('mouseover', on_mouseover_closure(tooltip));\n",
       "        buttonGroup.appendChild(button);\n",
       "    }\n",
       "\n",
       "    if (buttonGroup.hasChildNodes()) {\n",
       "        toolbar.appendChild(buttonGroup);\n",
       "    }\n",
       "\n",
       "    // Add the status bar.\n",
       "    var status_bar = document.createElement('span');\n",
       "    status_bar.classList = 'mpl-message pull-right';\n",
       "    toolbar.appendChild(status_bar);\n",
       "    this.message = status_bar;\n",
       "\n",
       "    // Add the close button to the window.\n",
       "    var buttongrp = document.createElement('div');\n",
       "    buttongrp.classList = 'btn-group inline pull-right';\n",
       "    button = document.createElement('button');\n",
       "    button.classList = 'btn btn-mini btn-primary';\n",
       "    button.href = '#';\n",
       "    button.title = 'Stop Interaction';\n",
       "    button.innerHTML = '<i class=\"fa fa-power-off icon-remove icon-large\"></i>';\n",
       "    button.addEventListener('click', function (_evt) {\n",
       "        fig.handle_close(fig, {});\n",
       "    });\n",
       "    button.addEventListener(\n",
       "        'mouseover',\n",
       "        on_mouseover_closure('Stop Interaction')\n",
       "    );\n",
       "    buttongrp.appendChild(button);\n",
       "    var titlebar = this.root.querySelector('.ui-dialog-titlebar');\n",
       "    titlebar.insertBefore(buttongrp, titlebar.firstChild);\n",
       "};\n",
       "\n",
       "mpl.figure.prototype._remove_fig_handler = function (event) {\n",
       "    var fig = event.data.fig;\n",
       "    if (event.target !== this) {\n",
       "        // Ignore bubbled events from children.\n",
       "        return;\n",
       "    }\n",
       "    fig.close_ws(fig, {});\n",
       "};\n",
       "\n",
       "mpl.figure.prototype._root_extra_style = function (el) {\n",
       "    el.style.boxSizing = 'content-box'; // override notebook setting of border-box.\n",
       "};\n",
       "\n",
       "mpl.figure.prototype._canvas_extra_style = function (el) {\n",
       "    // this is important to make the div 'focusable\n",
       "    el.setAttribute('tabindex', 0);\n",
       "    // reach out to IPython and tell the keyboard manager to turn it's self\n",
       "    // off when our div gets focus\n",
       "\n",
       "    // location in version 3\n",
       "    if (IPython.notebook.keyboard_manager) {\n",
       "        IPython.notebook.keyboard_manager.register_events(el);\n",
       "    } else {\n",
       "        // location in version 2\n",
       "        IPython.keyboard_manager.register_events(el);\n",
       "    }\n",
       "};\n",
       "\n",
       "mpl.figure.prototype._key_event_extra = function (event, _name) {\n",
       "    var manager = IPython.notebook.keyboard_manager;\n",
       "    if (!manager) {\n",
       "        manager = IPython.keyboard_manager;\n",
       "    }\n",
       "\n",
       "    // Check for shift+enter\n",
       "    if (event.shiftKey && event.which === 13) {\n",
       "        this.canvas_div.blur();\n",
       "        // select the cell after this one\n",
       "        var index = IPython.notebook.find_cell_index(this.cell_info[0]);\n",
       "        IPython.notebook.select(index + 1);\n",
       "    }\n",
       "};\n",
       "\n",
       "mpl.figure.prototype.handle_save = function (fig, _msg) {\n",
       "    fig.ondownload(fig, null);\n",
       "};\n",
       "\n",
       "mpl.find_output_cell = function (html_output) {\n",
       "    // Return the cell and output element which can be found *uniquely* in the notebook.\n",
       "    // Note - this is a bit hacky, but it is done because the \"notebook_saving.Notebook\"\n",
       "    // IPython event is triggered only after the cells have been serialised, which for\n",
       "    // our purposes (turning an active figure into a static one), is too late.\n",
       "    var cells = IPython.notebook.get_cells();\n",
       "    var ncells = cells.length;\n",
       "    for (var i = 0; i < ncells; i++) {\n",
       "        var cell = cells[i];\n",
       "        if (cell.cell_type === 'code') {\n",
       "            for (var j = 0; j < cell.output_area.outputs.length; j++) {\n",
       "                var data = cell.output_area.outputs[j];\n",
       "                if (data.data) {\n",
       "                    // IPython >= 3 moved mimebundle to data attribute of output\n",
       "                    data = data.data;\n",
       "                }\n",
       "                if (data['text/html'] === html_output) {\n",
       "                    return [cell, data, j];\n",
       "                }\n",
       "            }\n",
       "        }\n",
       "    }\n",
       "};\n",
       "\n",
       "// Register the function which deals with the matplotlib target/channel.\n",
       "// The kernel may be null if the page has been refreshed.\n",
       "if (IPython.notebook.kernel !== null) {\n",
       "    IPython.notebook.kernel.comm_manager.register_target(\n",
       "        'matplotlib',\n",
       "        mpl.mpl_figure_comm\n",
       "    );\n",
       "}\n"
      ],
      "text/plain": [
       "<IPython.core.display.Javascript object>"
      ]
     },
     "metadata": {},
     "output_type": "display_data"
    },
    {
     "data": {
      "text/html": [
       "<img src=\"data:image/png;base64,iVBORw0KGgoAAAANSUhEUgAABQAAAAPACAYAAABq3NR5AAAAAXNSR0IArs4c6QAAIABJREFUeF7s3QeYFMW68PEXJGcQJIgoyAoIGIiSswQVAxmWIJKUHAXhAIrkjKjkjCxJMSEZJIlgRJIkES8HUJCwuETZ73n7flN3B3bZmd2Znemefz3Pfc7pnu4Kv+pbh3q3uypZdHR0tJAQQAABBBBAAAEEEEAAAQQQQAABBBBAwJECyQgAOrJfaRQCCCCAAAIIIIAAAggggAACCCCAAAKWAAFAHgQEEEAAAQQQQAABBBBAAAEEEEAAAQQcLEAA0MGdS9MQQAABBBBAAAEEEEAAAQQQQAABBBAgAMgzgAACCCCAAAIIIIAAAggggAACCCCAgIMFCAA6uHNpGgIIIIAAAggggAACCCCAAAIIIIAAAgQAeQYQQAABBBBAAAEEEEAAAQQQQAABBBBwsAABQAd3Lk1DAAEEEEAAAQQQQAABBBBAAAEEEECAACDPAAIIIIAAAggggAACCCCAAAIIIIAAAg4WIADo4M6laQgggAACCCCAAAIIIIAAAggggAACCBAA5BlAAAEEEEAAAQQQQAABBBBAAAEEEEDAwQIEAB3cuTQNAQQQQAABBBBAAAEEEEAAAQQQQAABAoA8AwgggAACCCCAAAIIIIAAAggggAACCDhYgACggzuXpiGAAAIIIIAAAggggAACCCCAAAIIIEAAkGcAAQQQQAABBBBAAAEEEEAAAQQQQAABBwsQAHRw59I0BBBAAAEEEEAAAQQQQAABBBBAAAEECADyDCCAAAIIIIAAAggggAACCCCAAAIIIOBgAQKADu5cmoYAAggggAACCCCAAAIIIIAAAggggAABQJ4BBBBAAAEEEEAAAQQQQAABBBBAAAEEHCxAANDBnUvTEEAAAQQQQAABBBBAAAEEEEAAAQQQIADIM4AAAggggAACCCCAAAIIIIAAAggggICDBQgAOrhzaRoCCCCAAAIIIIAAAggggAACCCCAAAIEAHkGEEAAAQQQQAABBBBAAAEEEEAAAQQQcLAAAUAHdy5NQwABBBBAAAEEEEAAAQQQQAABBBBAgAAgzwACCCCAAAIIIIAAAggggAACCCCAAAIOFiAA6ODOpWkIIIAAAggggAACCCCAAAIIIIAAAggQAOQZQAABBBBAAAEEEEAAAQQQQAABBBBAwMECBAAd3Lk0DQEEEEAAAQQQQAABBBBAAAEEEEAAAQKAPAMIIIAAAggggAACCCCAAAIIIIAAAgg4WIAAoIM7l6YhgAACCCCAAAIIIIAAAggggAACCCBAAJBnAAEEEEAAAQQQQAABBBBAAAEEEEAAAQcLEAB0cOfSNAQQQAABBBBAAAEEEEAAAQQQQAABBAgA8gwggAACCCCAAAIIIIAAAggggAACCCDgYAECgA7uXJqGAAIIIIAAAggggAACCCCAAAIIIIAAAUCeAQQQQAABBBBAAAEEEEAAAQQQQAABBBwsQADQwZ1L0xBAAAEEEEAAAQQQQAABBBBAAAEEECAAyDOAAAIIIIAAAggggAACCCCAAAIIIICAgwUIADq4c2kaAggggAACCCCAAAIIIIAAAggggAACBAB5BhBAAAEEEEAAAQQQQAABBBBAAAEEEHCwAAFAB3cuTUMAAQQQQAABBBBAAAEEEEAAAQQQQIAAIM8AAggggAACCCCAAAIIIIAAAggggAACDhYgAOjgzqVpCCCAAAIIIIAAAggggAACCCCAAAIIEADkGUAAAQQQQAABBBBAAAEEEEAAAQQQQMDBAgQAHdy5NA0BBBBAAAEEEEAAAQQQQAABBBBAAAECgDwDCCCAAAIIIIAAAggggAACCCCAAAIIOFiAAKCDO5emIYAAAggggAACCCCAAAIIIIAAAgggQACQZwABBBBAAAEEEEAAAQQQQAABBBBAAAEHCxAAdHDn0jQEEEAAAQQQQAABBBBAAAEEEEAAAQQIAPIMIIAAAggggAACCCCAAAIIIIAAAggg4GABAoAO7lyahgACCCCAAAIIIIAAAggggAACCCCAAAFAngEEEEAAAQQQQAABBBBAAAEEEEAAAQQcLEAA0MGdS9MQQAABBBBAAAEEEEAAAQQQQAABBBAgAMgzgAACCCCAAAIIIIAAAggggAACCCCAgIMFCAA6uHNpGgIIIIAAAggggAACCCCAAAIIIIAAAgQAeQYQQAABBBBAAAEEEEAAAQQQQAABBBBwsAABQAd3Lk1DAAEEEEAAAQQQQAABBBBAAAEEEECAACDPAAIIIIAAAggggAACCCCAAAIIIIAAAg4WIADo4M6laQgggAACCCCAAAIIIIAAAggggAACCBAA5BlAAAEEEEAAAQQQQAABBBBAAAEEEEDAwQIEAB3cuTQNAQQQQAABBBBAAAEEEEAAAQQQQAABAoA8AwgggAACCCCAAAIIIIAAAggggAACCDhYgACggzuXpiGAAAIIIIAAAggggAACCCCAAAIIIEAAkGcAAQQQQAABBBBAAAEEEEAAAQQQQAABBwsQAHRw59I0BBBAAAEEEEAAAQQQQAABBBBAAAEECADyDCCAAAIIIIAAAggggAACCCCAAAIIIOBgAQKADu5cmoYAAggggAACCCCAAAIIIIAAAggggAABQJ4BBBBAAAEEEEAAAQQQQAABBBBAAAEEHCxAANDBnUvTEEAAAQQQQAABBBBAAAEEEEAAAQQQIADIM4AAAggggAACCCCAAAIIIIAAAggggICDBQgAOrhzaRoCCCCAAAIIIIAAAggggAACCCCAAAIEAHkGEEAAAQQQQAABBBBAAAEEEEAAAQQQcLAAAUAHdy5NQwABBBBAAAEEEEAAAQQQQAABBBBAgAAgzwACCCCAAAIIIIAAAggggAACCCCAAAIOFiAA6ODOpWkIIIAAAggggAACCCCAAAIIIIAAAggQAOQZQAABBBBAAAEEEEAAAQQQQAABBBBAwMECBAAd3Lk0DQEEEEAAAQQQQAABBBBAAAEEEEAAAQKAPAMIIIAAAggggAACCCCAAAIIIIAAAgg4WIAAoIM7l6YhgAACCCCAAAIIIIAAAggggAACCCBAAJBnAAEEEEAAAQQQQAABBBBAAAEEEEAAAQcLEAB0cOfSNAQQQAABBBBAAAEEEEAAAQQQQAABBAgA8gwggAACCCCAAAIIIIAAAggggAACCCDgYAECgA7uXJqGAAIIIIAAAggggAACCCCAAAIIIIAAAUCeAQQQQAABBBBAAAEEEEAAAQQQQAABBBwsQADQwZ1L0xBAAAEEEEAAAQQQQAABBBBAAAEEECAAyDOAAAIIIIAAAggggAACCCCAAAIIIICAgwUIADq4c2kaAggggAACCCCAAAIIIIAAAggggAACBAB5BhBAAAEEEEAAAQQQQAABBBBAAAEEEHCwAAFAB3cuTUMAAQQQQAABBBBAAAEEEEAAAQQQQIAAIM8AAggggAACCCCAAAIIIIAAAggggAACDhYgAOjgzqVpCCCAAAIIIIAAAggggAACCCCAAAIIEADkGUAAAQQQQAABBBBAAAEEEEAAAQQQQMDBAgQAHdy5NA0BBBBAAAEEEEAAAQQQQAABBBBAAAECgDwDCCCAAAIIIIAAAggggAACCCCAAAIIOFiAAKCDO5emIYAAAggggAACCCCAAAIIIIAAAgggQACQZwABBBBAAAEEEEAAAQQQQAABBBBAAAEHCxAAdHDn0jQEEEAAAQQQQAABBBBAAAEEEEAAAQQIAPIMIIAAAggggAACCCCAAAIIIIAAAggg4GABAoAO7lyahgACCCCAAAIIIIAAAggggAACCCCAAAFAngEEEEAAAQQQQAABBBBAAAEEEEAAAQQcLEAA0MGdS9MQQAABBBBAAAEEEEAAAQQQQAABBBAgAMgzgAACCCCAAAIIIIAAAggggAACCCCAgIMFCAA6uHNpGgIIIIAAAggggAACCCCAAAIIIIAAAgQAeQYQQAABBBBAAAEEEEAAAQQQQAABBBBwsAABQAd3Lk1DAAEEEEAAAQQQQAABBBBAAAEEEECAACDPAAIIIIAAAggggAACCCCAAAIIIIAAAg4WIAAYRJ37559/yu7du63/27Nnj/V/58+ft2rYunVrmTdvns9ru2TJEpk7d67s3btXLl68KDlz5pRKlSpJ586dpVy5cj4vjwwRQAABBBBAAAEEEEAAAQQQQAABBJJWgABg0nrfs7RkyZLF+buvA4BXr16Vhg0byurVq2MtM3ny5DJ48GAZMmRIEAlRFQQQQAABBBBAAAEEEEAAAQQQQAABbwUIAHor5sfrYwYA8+XLJ4ULF5Z169ZZJfo6ANisWTOJiIiw8q5WrZp0795d8uTJI7/88ouMGDFCjh07Zv02ffp06dChgx9bTdYIIIAAAggggAACCCCAAAIIIIAAAv4UIADoT10v89a37UqXLm39n36Ke+LECcmfP7/PA4CbNm2SGjVqWPm+8MIL8sknn8h9991nanvu3DkpWbKknDx5UrJkySLHjx+XrFmzetkaLkcAAQQQQAABBBBAAAEEEEAAAQQQCAYBAoDB0Atx1MFfAcB69erJV199JSlSpJDffvtN8ubNe1cN9O1AfUtQ05gxY6Rv375BLEXVEEAAAQQQQAABBBBAAAEEEEAAAQTiEiAAGMTPhj8CgJGRkZI9e3a5ceOG1KlTxwoExpb09xw5csjly5etzUB27twZxFJUDQEEEEAAAQQQQAABBBBAAAEEEECAAKANnwF/BABjfv47cuRI6d+/f5wytWvXttYg1DcFo6KiJGXKlDZUpMoIIIAAAggggAACCCCAAAIIIIBAaAvwBmAQ978/AoBTp06Vrl27Wq3Wtf9eeumlOAV0Y5ApU6ZYv+/fv18ef/zxINaiaggggAACCCCAAAIIIIAAAggggAACsQkQAAzi58IfAUB942/06NFWq/fs2SOlSpWKU2DcuHFm7b81a9aIvhHoafqf//mfe1567do1OXTokLXZiX5qrG8ZkhBAAAEEEEAAAQQQQAABBBBAwLcCt27dkr/++svKtHjx4pImTRrfFkButhAgABjE3eSPAGDnzp3lgw8+sFp98OBBKVy4cJwCH374obzxxhvW7ytWrJAGDRp4rJUsWTKPr+VCBBBAAAEEEEAAAQQQQAABBBDwv8Du3buldOnS/i+IEoJOgABg0HXJ/1XIHwHA1157TebMmWMVcuzYMSlQoECcAnqdXq9p4cKFEh4e7rEWAUCPqbgQAQQQQAABBBBAAAEEEEAAgSQRIACYJMxBWQgBwKDslv+tlD8CgEn1BmB8nwD/8ccfUr58eaudOgDlzp07iHuCqiGAAAIIIICAJwK//fabVK5c2e3St99+W9q2bevJ7VyDAAIIIIAAAn4QOH36tJQpU8bKWf+3+pFHHvFDKWQZ7AIEAIO4h/wRAEyqNQDjY9UA4UMPPWRdpsHAvHnzxncLvyOAAAIIIIBAkAt8/PHHdy0Zov/2GDlyZJDXnOohgAACCCDgXAHm387tW29aRgDQG60kvtYfAcBg2QWYASiJHyaKQwABBBBAIAkE9G2/oUOHupXUunVrmTdvXhKUThEIIIAAAgggEJsA82+eCxUgABjEz4E/AoCbNm2SGjVqWK3Wv8brX+XjSrrr77p166wdeqOioiRlypQ+02IA8hklGSGAAAIIIBA0Ag0bNpSVK1e61adWrVrWvydICCCAAAIIIBAYAebfgXEPtlIJAAZbj8Sojz8CgJGRkZI9e3a5ceOG1KlTR7766qtYBfT3HDlyyOXLl6VcuXKyc+dOn0oxAPmUk8wQQAABBBAICoFChQrJ4cOH3epStGhR2bdvX1DUj0oggAACCCAQigLMv0Ox1+9uMwHAIH4O/BEA1ObWq1fPCvzpm326AGhs6+9FRERIs2bNLJ0xY8ZI3759fSrFAORTTjJDAAEEEEAg4AJXr16VDBkyyO3bt93qki1bNjl//nzA60cFEEAAAQQQCFUB5t+h2vPu7SYAGMTPQUICgLrGzquvvmq1asiQIXetw6PnY34GXL9+fdEFu++77z4jce7cOSlZsqScPHlSsmTJIsePH5esWbP6VIoByKecZIYAAggggEDABb7//nspVapUrPXQ4GCaNGkCXkcqgAACCCCAQCgKMP8OxV6/u80EAIPoOdi+fbscPXrULRDnevOuQoUK0q5dO7fatmnT5q7aexIA1Jv07T59y09TtWrVpEePHpInTx755ZdfZPjw4XLs2DHrt+nTp0uHDh18rsQA5HNSMkQAAQQQQCCgAvPnz5fY/m2ildI/JubPnz+g9aNwBBBAAAEEQlWA+Xeo9rx7uwkABtFzoP9o1n88e5qio6MTHADUv8TrQt2rV6+OtbjkyZPLf/7zn1jfIPS0fve6jgHIF4rkgQACCCCAQPAI9OnTR8aPHx9rhXbs2CHly5cPnspSEwQQQAABBEJIgPl3CHX2PZpKADCInoOkDAC6mv3RRx+JvjX4888/y8WLFyVnzpxSqVIl6dKli7X5h78SA5C/ZMkXAQQQQACBwAjUrl07zt1+ly9fbv3hkYQAAggggAACSS/A/DvpzYOxRAKAwdgrIVAnBqAQ6GSaiAACCCAQUgK6lMjp06djbfPkyZOlW7duIeVBYxFAAAEEEAgWAebfwdITga0HAcDA+ods6QxAIdv1NBwBBBBAwIECustv9uzZ42xZ//79ZeTIkQ5sOU1CAAEEEEAg+AWYfwd/HyVFDQkAJoUyZdwlwADEQ4EAAggggIBzBLZs2WJtKhZXatWqlVfrHDtHhpYggAACCCAQeAHm34Hvg2CoAQHAYOiFEKwDA1AIdjpNRgABBBBwrMB77713z098a9asKevXr3ds+2kYAggggAACwSzA/DuYeyfp6kYAMOmsKSmGAAMQjwMCCCCAAALOEejQoYPMnDnTNChNmjRy7do1c1y0aFHZt2+fcxpMSxBAAAEEELCRAPNvG3WWH6tKANCPuGQdtwADEE8HAggggAACzhEoX768fPPNN6ZBuiPw2rVrzXHWrFnl77//dk6DaQkCCCCAAAI2EmD+baPO8mNVCQD6EZesCQDyDCCAAAIIIOB0gejoaMmcObNERkaapk6YMEF69erl1vSoqChJmzat0zloHwIIIIAAAkEnQAAw6LokIBUiABgQdgplAOIZQAABBBBAwBkCJ06ckPz587s1Rj/3LVasmNu548eP33WdMwRoBQIIIIAAAsEtwPw7uPsnqWpHADCppCnHTYABiAcCAQQQQAABZwh8/vnnUr9+fdOYLFmyWJ/7ZsiQQfStP1favn27VKhQwRmNphUIIIAAAgjYSID5t406y49VJQDoR1yyjluAAYinAwEEEEAAAWcIjBgxQgYOHGgaU6lSJdm6dasULFhQjh07Zs4vX75cGjZs6IxG0woEEEAAAQRsJMD820ad5ceqEgD0Iy5ZEwDkGUAAAQQQQMDpAs2aNZOIiAjTzNdff10++OADqVy5smzbts2cnzx5snTr1s3pHLQPAQQQQACBoBMgABh0XRKQChEADAg7hTIA8QwggAACCCDgDAFd62///v2mMRr80yBgkyZNZNmyZeb8m2++KaNGjXJGo2kFAggggAACNhJg/m2jzvJjVQkA+hGXrOMWYADi6UAAAQQQQMD+Ajdu3JD06dPLrVu3TGP0rb+KFStKz549ZdKkSeZ8q1atZP78+fZvNC1AAAEEEEDAZgLMv23WYX6qLgFAP8GS7b0FGIB4QhBAAAEEELC/wN69e+XJJ590a8iFCxdENwIZO3as9OvXz/xWs2ZNWb9+vf0bTQsQQAABBBCwmQDzb5t1mJ+qSwDQT7BkSwCQZwABBBBAAAGnC3z00UfSokUL08yHHnpITp48aR0vWrRIWrZsaX57/PHH3T4VdroN7UMAAQQQQCBYBAgABktPBLYeBAAD6x+ypTMAhWzX03AEEEAAAQcJDBgwwG1dv3r16smXX35ptXDTpk1So0YN09qsWbPK33//7aDW0xQEEEAAAQTsIcD82x795O9aEgD0tzD5xyrAAMSDgQACCCCAgP0Fnn/+eRPw09bE3Ojj0KFDUqRIEbdGRkVFSdq0ae3fcFqAAAIIIICAjQSYf9uos/xYVQKAfsQl67gFGIB4OhBAAAEEELC/wMMPP2w++dXW6Ge/rk+CL126ZK0FGDMdO3ZMChQoYP+G0wIEEEAAAQRsJMD820ad5ceqEgD0Iy5ZEwDkGUAAAQQQQMCpArEF+H7++Wd54oknrCZHR0dLhgwZRN/6c6Xt27dLhQoVnEpCuxBAAAEEEAhKAQKAQdktSV4pAoBJTk6BKsAAxHOAAAIIIICAvQV27NghFStWNI2477775J9//pHUqVObc2FhYXL06FFzvGzZMmnUqJG9G07tEUAAAQQQsJkA82+bdZifqksA0E+wZHtvAQYgnhAEEEAAAQTsLTBt2jR5/fXXTSNi2+W3cuXKsm3bNnPNpEmTpHv37vZuOLVHAAEEEEDAZgLMv23WYX6qLgFAP8GSLQFAngEEEEAAAQScLNC5c2f54IMPTBObNGkiERERbk1u2rSpLF261JyLuUmIk21oGwIIIIAAAsEkQAAwmHojcHUhABg4+5AumQEopLufxiOAAAIIOECgSpUqsnXrVtOSd999VwYOHOjWsl69esnEiRPNuZYtW8qCBQsc0HqagAACCCCAgH0EmH/bp6/8WVMCgP7UJe84BRiAeDgQQAABBBCwr4Bu8HH//ffLhQsXTCM+/fRTqV+/vlujxo4dK/369TPnatSoIRs2bLBvw6k5AggggAACNhRg/m3DTvNDlQkA+gGVLOMXYACK34grEEAAAQQQCFaBU6dOSd68ed2qd/z4ccmfP7/bucWLF0t4eLg5F9s6gcHaRuqFAAIIIICAUwSYfzulJxPXDgKAifPj7gQKMAAlEI7bEEAAAQQQCAKBNWvWSN26dU1NMmTIIJcuXZLkyZO71W7z5s1SvXp1cy5Llixubw0GQVOoAgIIIIAAAo4XYP7t+C72qIEEAD1i4iJfCzAA+VqU/BBAAAEEEEg6gTs/7X3mmWfkm2++uasChw4dkiJFiridj4qKkrRp0yZdZSkJAQQQQACBEBdg/h3iD8D/bz4BQJ6DgAgwAAWEnUIRQAABBBDwiUCrVq1k4cKFJq/27dvLjBkz7sr78uXLkjlzZrfzx44dkwIFCvikHmSCAAIIIIAAAvELMP+O3ygUriAAGAq9HIRtZAAKwk6hSggggAACCHgo8PTTT8tPP/1krp48ebJ069btrrt1sxD9PFjf+nOlbdu2ScWKFT0sicsQQAABBBBAILECzL8TK+iM+wkAOqMfbdcKBiDbdRkVRgABBBBAwBK4deuWFdS7fv26Edm0aZNUq1YtVqGwsDA5evSo+W3ZsmXSqFEjNBFAAAEEEEAgiQSYfycRdJAXQwAwyDvIqdVjAHJqz9IuBBBAAAGnC8S2rt9ff/0l2bNnj7XpVapUka1bt5rfJk2aJN27d3c6E+1DAAEEEEAgaASYfwdNVwS0IgQAA8ofuoUzAIVu39NyBBBAAAF7CyxfvlwaN25sGpErVy45ffp0nI1q2rSpLF261Pzer18/GT16tL0RqD0CCCCAAAI2EmD+baPO8mNVCQD6EZes4xZgAOLpQAABBBBAwJ4CgwcPlmHDhpnK16pVS9atWxdnY3r16iUTJ040v7ds2VIWLFhgz8ZTawQQQAABBGwowPzbhp3mhyoTAPQDKlnGL8AAFL8RVyCAAAIIIBCMAi+//LKsWrXKVE0DfOPHj4+zquPGjZO+ffua32vUqCEbNmwIxqZRJwQQQAABBBwpwPzbkd3qdaMIAHpNxg2+EGAA8oUieSCAAAIIIOBbgcuXL0vq1Kmt/4srFSxYUI4dO2Z+njt3rrRp0ybO6xcvXizh4eHm9yJFisiBAwd8W3FyQwABBBBAAIE4BZh/83CoAAFAnoOACDAABYSdQhFAAAEEEIhTQDfmmDJlirWZx5IlS6RmzZp3XfvPP/9IxowZJTo62vz23XffScmSJePMd/PmzVK9enXze5YsWeTChQv0BAIIIIAAAggkkQDz7ySCDvJiCAAGeQc5tXoMQE7tWdqFAAIIIGBHgX379knx4sVN1TXI9/3330tYWJhbc3bv3i1ly5Y155IlSyYaFEybNm2czf7111+lcOHCbr/rPenSpbMjFXVGAAEEEEDAdgLMv23XZX6pMAFAv7CSaXwCDEDxCfE7AggggAACSSdw52e6WvKTTz4p33zzjVtwb/bs2dKuXTtTMQ0QHj58+J4V1c+KM2fO7HbN0aNH5dFHH026BlISAggggAACISzA/DuEOz9G0wkA8hwERIABKCDsFIoAAggggECsAndu1OG6SIN9M2fONPf06NFDJk+ebI5feeUVWbly5T1V9XNhfaNQ3/pzpW3btknFihXpDQQQQAABBBBIAgHm30mAbIMiCADaoJOcWEUGICf2Km1CAAEEELCrgO7kO3HixFirP3/+fGnVqpX1m64LuHHjRnPdkCFDZOjQofE2+7HHHpMjR46Y65YuXSqNGzeO9z4uQAABBBBAAIHECzD/TryhE3IgAOiEXrRhGxiAbNhpVBkBBBBAwLECTZs2FQ3KxZZ0rT5d+69o0aKSM2dO+fPPP81lK1askAYNGsTrUqVKFdm6dau5ToON+jYhCQEEEEAAAQT8L8D82//GdiiBAKAdesmBdWQAcmCn0iQEEEAAAdsKVK5cWfSz3LiSbuKxevVqKVCggNslusGHvt0XX2rWrJlERESYy/r16yejR4+O7zZ+RwABBBBAAAEfCDD/9gGiA7IgAOiATrRjExiA7Nhr1BkBBBBAwKkCupmHbszhSnoc85NdPV+9enXZtGmTuUZ3/o2MjJT77rsvXpbevXvLhAkTzHXh4eGycOHCeO/jAgQQQAABBBBIvADz78QbOiEHAoBO6EVaLy2VAAAgAElEQVQbtoEByIadRpURQAABBBwpoJt0ZMiQQaKiokz7dJ2/vn37yg8//BBnm0uWLCnfffedRyZ3bjJSo0YN2bBhg0f3chECCCCAAAIIJE6A+Xfi/JxyNwFAp/SkzdrBAGSzDqO6CCCAAAKOFbh06ZJkyZLFrX3Hjx8XDQyWKFFC9PfYUps2bWTu3LkeuXz00UfSokULc22RIkXkwIEDHt3LRQgggAACCCCQOAHm34nzc8rdBACd0pM2awcDkM06jOoigAACCDhW4NChQ6IBuZjp6tWrkiZNGvnkk0/klVdeibXt48ePF9092JO0efNm6xNiV8qcObNcvHjRk1u5BgEEEEAAAQQSKcD8O5GADrmdAKBDOtJuzWAAsluPUV8EEEAAAacK6Lp++kmuK2XLlk3Onz9vju9cv8/1w5o1a6R27doesehmIbqRSMz0zz//iO4wTEIAAQQQQAAB/wow//avr11yJwBol55yWD0ZgBzWoTQHAQQQQMC2AosWLZKWLVua+hctWlT27dtnjm/evClly5aVH3/80a2NQ4YMkaFDh3rUbt0sJFOmTG7X6qYjjz76qEf3cxECCCCAAAIIJFyA+XfC7Zx0JwFAJ/WmjdrCAGSjzqKqCCCAAAKOFhgzZoy8+eabpo21atWSdevWubV51qxZ0r59e7dzKVKkkK+//lrKly/vkY9uNKJv/bnS1q1bpVKlSh7dy0UIIIAAAgggkHAB5t8Jt3PSnQQAndSbNmoLA5CNOouqIoAAAgg4WqBnz54yadIk08bWrVvLvHnz3No8bNgwGTx48F0OefPmtd4MzJ49e7xGjz32mBw5csRct3TpUmncuHG893EBAggggAACCCROgPl34vyccjcBQKf0pM3awQBksw6juggggAACjhVo0qSJLFu2zLRvwIABMmLECLf2aqBu+fLlsRroOoCrV6+W5MmT39OoatWq1huDrjRx4kTp0aOHY11pGAIIIIAAAsEiwPw7WHoisPUgABhY/5AtnQEoZLuehiOAAAIIBJmAfoa7fft2U6spU6ZI165d3WqpuwTrbsFxJX1DcNCgQfdsWbNmzSQiIsJc07dvX9HPj0kIIIAAAggg4F8B5t/+9bVL7gQA7dJTDqsnA5DDOpTmIIAAAgjYVkA34jh+/Lip/4oVK6RBgwbm+Nq1a6Lr9/3777/m3P333++2U7C+/bd+/XqpXr16nA537iYcHh4uCxcutK0bFUcAAQQQQMAuAsy/7dJT/q0nAUD/+pJ7HAIMQDwaCCCAAAIIBF4gOjpa0qdPL1evXjWV2blzp5QrV84c6xp/JUqUcKvsl19+KS+88ILcvn3bnM+ZM6e1HmDu3Lljbdj48eOlT58+5jcNFm7cuDHwCNQAAQQQQAABhwsw/3Z4B3vYPAKAHkJxmW8FGIB860luCCCAAAIIJETg4sWLkjVrVrdbT5w4IQ8//LA5t2DBAtGNQVwpf/781huDI0eOlLfeesvt3ipVqsiGDRtEdwi+M3300UfSokULc7pw4cJy8ODBhFSbexBAAAEEEEDACwHm315gOfhSAoAO7txgbhoDUDD3DnVDAAEEEAgVgQMHDkjRokXdmquf/KZOndqc69evn4wdO9Yc65t/n332mfX2n/533QAkZoptExH9fcuWLVKtWjVzaebMmUUDkCQEEEAAAQQQ8K8A82//+toldwKAdukph9WTAchhHUpzEEAAAQRsKaBv69WqVcvUXdf2O3funFtb6tatK2vWrDHn9K2/4cOHW8fnz5+3Pg8+efKk2z36iXC9evXczh0+fFgKFSrkdu7KlSvWJ8gkBBBAAAEEEPCfAPNv/9naKWcCgHbqLQfVlQHIQZ1JUxBAAAEEbCugm3C0atXK1L948eKyd+9et/bkzZtXTp06Zc4tWbJEmjZtao6//fZb0Z2Eb968ac5ly5bNWg8wX7585lxkZKRkypTJLe8jR45IwYIFbetHxRFAAAEEELCDAPNvO/SS/+tIAND/xpQQiwADEI8FAggggAACgRcYPXq09O/f31Skdu3abm/7XbhwQTSYFzPt27fvrs+GJ0+eLD169HC7rmzZsrJ161ZJlSqVOZ8xY0bRt/5cSX/X4CEJAQQQQAABBPwnwPzbf7Z2ypkAoJ16y0F1ZQByUGfSFAQQQAAB2wp0795dpkyZYurfpk0bmTt3rluATjf2cKWUKVPKP//8I/qfMZPuJtyoUSNZuXKl23nNf9KkSeacfgKsnwK7UkREhDRp0sS2flQcAQQQQAABOwgw/7ZDL/m/jgQA/W9MCbEIMADxWCCAAAIIIBB4AQ3arVixwlQk5vp+evL999+XLl26mN+feOIJ+fnnn2Ot+KVLl6RUqVJy9OhR83uyZMnkt99+M7sKV61aVb7++mvz+8SJE+96czDwKtQAAQQQQAABZwkw/3ZWfya0NQQAEyrHfYkSYABKFB83I4AAAggg4BOBihUryo4dO0xeU6dOlc6dO5vjTp06yfTp081xixYtZNGiRXGW/dNPP8kzzzwj169fN9fEXDOwefPmoseu1LdvXxkzZoxP2kImCCCAAAIIIBC7APNvngwVIADIcxAQAQaggLBTKAIIIIAAAm4CBQoUsN7Qc6WPP/5YXn75ZXNcoUIF2blzpzkeNWqUvPnmm/dU1F2FdXdhVxo5cqRZZ7B3794yYcIE81t8AUW6CwEEEEAAAQQSL8D8O/GGTsiBAKATetGGbWAAsmGnUWUEEEAAAUcJ6Lp9adOmdXtb75tvvrHe4NOkv2fJkkUuX75s2v3ll19KvXr17unQvn17mTVrlrmmY8eOMm3aNOt4/Pjx0qdPH/Nb9erVZePGjY5ypTEIIIAAAggEmwDz72DrkcDUhwBgYNxDvlQGoJB/BABAAAEEEAiwwN9//y3333+/Wy1+//13yZcvn3Xu5MmTZu0+10V67qGHHrpnzYcPHy6DBg0y18TcWVg//9XPgF2pcOHCcvDgwQBLUDwCCCCAAALOFmD+7ez+9bR1BAA9leI6nwowAPmUk8wQQAABBBDwWmD//v1SrFgxt/t07b5UqVJZ5/Rtv+eff978njlzZrlw4YLoxh73SosXL5bw8HBzie78e+jQIet4y5YtUq1aNfNbpkyZRDcPISGAAAIIIICA/wSYf/vP1k45EwC0U285qK4MQA7qTJqCAAIIIGBLgfXr18uzzz5r6p49e3b566+/zLGu9zdgwABzrOsBbt++Pd626qYiurmIK6VJk0aioqKswOHhw4dFA4Ix05UrVyR9+vTx5ssFCCCAAAIIIJAwAebfCXNz2l0EAJ3WozZpDwOQTTqKaiKAAAIIOFZg/vz50qZNG9O+J554Qn7++WdzrBt0fPTRR+ZYdwT+8MMP4/U4deqU5M2b1+2606dPS65cuSQyMlL0rb+Y6ciRI1KwYMF48+UCBBBAAAEEEEiYAPPvhLk57S4CgE7rUZu0hwHIJh1FNRFAAAEEHCugu/O+9dZbpn116tSRr776yi0g+Msvv5jj999/X9544414PW7fvi361t/NmzfNtTE3F8mYMaPoW3+u9PXXX0vlypXjzZcLEEAAAQQQQCBhAsy/E+bmtLsIADqtR23SHgYgm3QU1UQAAQQQcKxAt27d5L333jPta9u2rcyePds61uCdfpYbM4i3detWqVSpkkceYWFhcvToUXOtbv7RtGlT61g/AdZPgV0pIiJCmjRp4lG+XIQAAggggAAC3gsw//bezIl3EAB0Yq/aoE0MQDboJKqIAAIIIOBogYYNG8rKlStNGwcOHCjvvvuudbxv3z4pXry4W/t11+CsWbN6ZFKrVi3ZsGGDuVbfNuzfv791rJuA6GYgrjRhwgTp2bOnR/lyEQIIIIAAAgh4L8D823szJ95BANCJvWqDNjEA2aCTqCICCCCAgKMFypcvL/pprivF/MRX39hr3ry5+U3X9Pvjjz889mjfvr3MmjXLXN+xY0eZNm2adaz5av6u1KdPHxk7dqzHeXMhAggggAACCHgnwPzbOy+nXk0A0Kk9G+TtYgAK8g6ieggggAACjhd45JFH5Pfffzft/OSTT+Sll16yjvVtwBEjRpjf6tatK6tXr/bYZPjw4TJo0CBzfe3atWXNmjXWsQb8xo8fb37TzUYWLVrkcd5ciAACCCCAAALeCTD/9s7LqVcTAHRqzwZ5uxiAgryDqB4CCCCAgKMFoqOjrY06bty4Ydr57bffSpkyZazj+vXry+eff25+69evn4wePdpjk8WLF0t4eLi5Xtf9O3TokHWsn/z27t3b/KafBG/atMnjvLkQAQQQQAABBLwTYP7tnZdTryYA6NSeDfJ2MQAFeQdRPQQQQAABRwucP39esmfP7tbGkydPykMPPWSdy58/v5w4ccL8vmDBAmnZsqXHJjt27JCKFSua6zXYGBUVJcmSJbM+/435eXHM4KDHBXAhAggggAACCHgswPzbYypHX0gA0NHdG7yNYwAK3r6hZggggAACzhf45Zdf5IknnnBrqL4NmDJlSomMjJRMmTK5/fbjjz/KU0895THMqVOnRNcNjJlOnz4tuXLlkq+//lqqVq1qftKyLl265HHeXIgAAggggAAC3gkw//bOy6lXEwB0as8GebsYgIK8g6geAggggICjBdatWye6Lp8rPfDAA3L27FnrUDcG0Q1CXOm+++6Tf/75R1KnTu2xye3bt61PjG/evGnu0XyfeeYZOXLkiDz22GNueV25ckXSp0/vcf5ciAACCCCAAAKeCzD/9tzKyVcSAHRy7wZx2xiAgrhzqBoCCCCAgOMF5s2bJ6+++qppp77dp2/5aZoxY4borr2uVKRIETlw4IDXJmFhYXL06FFzn37627RpU9FgX8aMGd3y06BgwYIFvS6DGxBAAAEEEEAgfgHm3/EbhcIVBABDoZeDsI0MQEHYKVQJAQQQQCBkBHSHX93p15Vi7vLbtWtXmTp1qvmtcePGsnTpUq9tatWqJRs2bDD3jRw5Uvr3728d62e/+qmxK+lnwZUrV/a6DG5AAAEEEEAAgfgFmH/HbxQKVxAADIVeDsI2MgAFYadQJQQQQACBkBHo0qWLvP/++6a9r732msyaNcs61vX5NCDnSsOGDZNBgwZ5bdO+fXuTp96sbxVOmzbNykc3/jh8+LDJ0/V2oNeFcAMCCCCAAAIIxCvA/DteopC4gABgSHRz8DWSASj4+oQaIYAAAgiEjkCDBg3k448/Ng3+z3/+I++8845ER0dLjhw5RHcJdqVVq1bJiy++6DXO8OHD3QKHuubgmjVrrHyqVasmW7ZsMXlOmDBBevbs6XUZ3IAAAggggAAC8Qsw/47fKBSuIAAYCr0chG1kAArCTqFKCCCAAAIhI1CuXDnZtWuXae+HH34onTp1Et2pN0+ePG4Ox44dkwIFCnhts3jxYgkPDzf36Vt/hw4dso5btGghH330kfmtT58+MnbsWK/L4AYEEEAAAQQQiF+A+Xf8RqFwBQHAUOjlIGwjA1AQdgpVQgABBBAIGYGHH35YTp48adrresvvzt2BdWfey5cvS/Lkyb222bFjh1SsWNHcp7sIR0VFWXlpwG/8+PHmt+bNm4sGDEkIIIAAAggg4HsB5t++N7VjjgQA7dhrDqgzA5ADOpEmIIAAAgjYUkA/89Vg3M2bN039d+/eLaVLl7aCchqcc6UyZcrIt99+m6B2njp1SvLmzet273//+1/JnTu36Ce/vXv3Nr/pJ8GbNm1KUDnchAACCCCAAAL3FmD+zROiAgQAeQ4CIsAAFBB2CkUAAQQQQEDOnTtnrfMXM+n/Lj/44IPSpk0bmT9/vvkp5uYg3tLdvn1b0qRJ4xZo3Llzp+jnxxEREdKsWTOTZczPg70th+sRQAABBBBAgAAgz0D8AgQA4zfiCj8IEAD0AypZIoAAAggg4IHA3r175cknnzRXJkuWTG7cuCEpUqSQkiVLyg8//GB+mzRpknTv3t2DXGO/JCwsTI4ePWp+1HX/NPCnuwzrbsOulDFjRutTYxICCCCAAAII+F6A+bfvTe2YIwFAO/aaA+rMAOSATqQJCCCAAAK2FNCdeOvWrWvqnjNnTjlz5oz8+++/kiFDBrl27Zr5bePGjVK9evUEt7NWrVqyYcMGc/+IESNkwIABcuTIEXnsscfc8o2MjLTKJyGAAAIIIICAbwWYf/vW0665EQC0a8/ZvN4MQDbvQKqPAAIIIGBbgTlz5oh+2utKTz/9tPXW36+//iqFCxd2a9eff/551+fC3jS8ffv2MmvWLHNLhw4dZPr06XLlyhXRt/5ipsOHD4u+MUhCAAEEEEAAAd8KMP/2raddcyMAaNees3m9GYBs3oFUHwEEEEDAtgLDhw+XQYMGmfo/99xz8sUXX8iKFSukUaNG5rzrzcDENPTOsp599llZu3atlWWmTJlE3/pzpS1btkiVKlUSUxz3IoAAAggggEAsAsy/eSxUgAAgz0FABBiAAsJOoQgggAACCEjnzp3lgw8+MBLt2rWTmTNnytChQ+Xtt98252vWrCnr169PlNjixYslPDzc5KGf/eqbhpr0bUPXf9fjJUuWSNOmTRNVHjcjgAACCCCAwN0CzL95KggA8gwETIABKGD0FIwAAgggEOICL7/8sqxatcooDB482Ar8NWjQQD7++GNzvmfPnjJhwoREae3YsUMqVqxo8kidOrVERUVJ8uTJrbUFN2/ebH4bP3689OrVK1HlcTMCCCCAAAIIEADkGYhdgDcAeTICIkAAMCDsFIoAAggggICULVtWdu/ebSSmTZsmHTt2tDbl0M05XEnXCnz11VcTJXbq1CnJmzevWx7//e9/JXfu3NKiRQvRXYFdqXfv3jJu3LhElcfNCCCAAAIIIEAAkGeAACDPQBAJEAAMos6gKggggAACISWQL18++eOPP0ybP/vsM6lRo4a1A290dLQ5r0HC0qVLJ8rm9u3bkjZtWrlx44bJZ+fOnVKuXDnp27evW8CvefPmop8MkxBAAAEEEEDAtwLMv33radfceAPQrj1n83ozANm8A6k+AggggIAtBTQgp5/h3rp1y9R/z5491n+PGexLliyZtVNvunTpEt3OO98s1Lf+mjVrJhMnTnT75Ldq1apunwQnumAyQAABBBBAAAFLgPk3D4IKEADkOQiIAANQQNgpFAEEEEAgxAX+/PNP0d19Yyb9THfXrl3WGoCu9Mgjj8hvv/3mEy3d+TfmZiIjRoyQAQMGSEREhBUIdKVChQrJoUOHfFImmSCAAAIIIIDA/wkw/+ZpIADIMxAwAQaggNFTMAIIIIBACAv89NNP8vTTTxsB3Yzj+vXrMnfuXOnQoYM5r28DxlwnMDFkmq/uMuxKejx9+nTZunWrVKlSxZzPmDGjXL58OTFFcS8CCCCAAAIIxCLA/JvHggAgz0DABBiAAkZPwQgggAACISzw1VdfSb169YyAbsahm3KMGjXKeivPlerUqSN6rS+SvvE3cOBAk5W+Ebh27VprwxH9PDhmioyMtNYiJCGAAAIIIICA7wSYf/vO0s458QmwnXvPxnVnALJx51F1BBBAAAHbCsyePVvatWtn6l+iRAn5/vvvpV+/fjJ27FhzXnfoXbRokU/aqWv+aX6upEG/X3/91VpjUN/6i5kOHz4sYWFhPimXTBBAAAEEEEDgfwWYf/MkqAABQJ6DgAgwAAWEnUIRQAABBEJcYNiwYTJ48GCj8Pzzz8vnn38ur732msyZM8ec79atm0yePNknWrrrb4UKFUxeuglJVFSU6OfHmTNndvvsd8uWLW6fBfukAmSCAAIIIIBAiAsw/w7xB+D/N58AIM9BQAQYgALCTqEIIIAAAiEu8Prrr8u0adOMgms9vpdeekk+/fRTc37o0KEyZMgQn2jpJ8YPPvigW156Tj8/Lly4sPU2oCu5dgj2ScFkggACCCCAAAKWAPNvHgQVIADIcxAQAQaggLBTKAIIIIBAiAvEFeirVKmSbN++3ei899570qVLF59o3b59W9KmTSs3btww+elbgeXKlZPq1avL5s2bzfnx48dLr169fFIumSCAAAIIIIDA/wow/+ZJIADIMxAwAQaggNFTMAIIIIBACAuUKVNG9uzZYwR0N159C/Dxxx+XgwcPmvO+fhNP1/3TTT9cyZV/eHi4LF682Jzv3bu3jBs3LoR7iKYjgAACCCDgewHm3743tWOOvAFox15zQJ0ZgBzQiTQBAQQQQMB2Annz5pVTp06Zeuv6f7oOYK5cueTs2bPmvO7Sq7v1+ippXuvXrzfZ6c7Auutw37593QJ+zZo1Ew0OkhBAAAEEEEDAdwLMv31naeecCADaufdsXHcGIBt3HlVHAAEEELClwL///iu6AYf+pyvpDsBPP/20pEqVSm7dumXOf/fdd1KyZEmftVPfMpw5c6bJz7X24MSJE90++a1atarbJ8E+qwAZIYAAAgggEMICzL9DuPNjNJ0AIM9BQAQYgALCTqEIIIAAAiEsoG/46Zt+MZNuxpE+fXprN96Y6fjx45I/f36faekbfwMHDjT56RuB+pbh0qVLpWnTpua8fiocc1MQn1WAjBBAAAEEEAhhAebfIdz5BADp/EALMAAFugcoHwEEEEAg1AR+/PFHKVGihGl28uTJrY05Tp48KQUKFHDjuHTpkmTKlMlnRPpZb4sWLe4K9G3dulWqVKlizmfIkEEiIyN9Vi4ZIYAAAggggACbgPAM/K8AbwDyJAREgABgQNgpFAEEEEAghAW+/PJLa70/V8qTJ4+1HqB+7lu6dGlzPkWKFFZgMFmyZD7T0l1/K1SoYPLTT5GjoqJE3zQMCwtzK+fy5cuSMWNGn5VNRggggAACCIS6APPvUH8CCADyBARQgAEogPgUjQACCCAQkgKzZs2S9u3bm7aXKlXK2hF43bp1Urt2bXM+Z86ccubMGZ8a6afGDz74oFueek7fMtS3/mIm/QRYPwUmIYAAAggggIBvBJh/+8bR7rnwBqDde9Cm9WcAsmnHUW0EEEAAAdsKvPPOOzJkyBBT/xdeeEE+++wzWbJkiTRv3tycf/zxx2X//v0+beft27clbdq01puFrqRvBZYrV85af1Df+nOlzZs3i24GQkIAAQQQQAAB3wgw//aNo91zIQBo9x60af0ZgGzacVQbAQQQQMC2Ap06dZLp06eb+nfs2FGmTZsmU6dOla5du5rzlSpVEl2bz9dJ3+o7cuSIyVbXBWzWrJkUKVJEDh06dNd5X5dPfggggAACCISqAPPvUO1593YTAOQ5CIgAA1BA2CkUAQQQQCCEBerXry+ff/65EXj77bdl8ODBov85dOhQc/7FF1+UVatW+VxKd/5dv369yVd3Bh4wYIDUqFFDNm3aZM6PGzdOevfu7fPyyRABBBBAAIFQFWD+Hao9TwCQng8CAQagIOgEqoAAAgggEFICutGHbvjhSjNnzpR27dpJt27d5L333jPn27ZtK7Nnz/a5TYcOHUTLdCU91jcSw8PDZfHixea8Bv80CEhCAAEEEEAAAd8IMP/2jaPdc+ENQLv3oE3rzwBk046j2ggggAACthXQTTh04w1X+uKLL+S55567KwDXt29fGTNmjM/bqW/8DRw40OSrbwSuXbtW+vXrJ2PHjjXn9bNg/TyYhAACCCCAAAK+EWD+7RtHu+dCANDuPWjT+jMA2bTjqDYCCCCAgC0F/v33X0mVKpXoZhyu9MMPP8jTTz8tdevWlTVr1pjzo0aNkjfffNPn7dSgXosWLUy+uiag7vg7ceJE6dWrlzlfpUoV2bJli8/LJ0MEEEAAAQRCVYD5d6j2vHu7CQDyHAREgAEoIOwUigACCCAQogKnT5+WPHnyuLX+zJkzkjNnTilTpozs2bPH/Ob6NNjXVLrrb4UKFUy2qVOnlqioKFm+fLk0bdr0rsCgr8snPwQQQAABBEJVgPl3qPY8AUB6PggEGICCoBOoAgIIIIBAyAjo234lS5Y07b3vvvvkxo0bkjx5cnn00Ufl+PHj5reVK1fKK6+84nMb/fxYP0OOmfTc0aNHpXLlyuZ0hgwZJDIy0uflkyECCCCAAAKhKsD8O1R7ngAgPR8EAgxAQdAJVAEBBBBAIGQEdL2/F154wbRXA3H6v8WasmTJIpcuXTK/6ee3+hmur5N+fpw2bVor8OhK+lZgjhw5JCwszK24y5cvS8aMGX1dBfJDAAEEEEAgJAWYf4dkt9/VaD4B5jkIiAADUEDYKRQBBBBAIEQFZsyYIR07djSt1x2Bd+/eLbdu3ZKUKVO6qfzyyy9SrFgxv0jpun9Hjhwxeeu6gPXr1xd96y9m0rUB9VoSAggggAACCCRegPl34g2dkAMBQCf0og3bwABkw06jyggggAACthUYOnSovP3226b+L774oqxatUr++usveeCBB9zapZ/l5s6d2y9t1Z1/169fb/LWnYEHDBhw11uImzdvlqpVq/qlDmSKAAIIIIBAqAkw/w61Ho+9vQQAeQ4CIsAAFBB2CkUAAQQQCFEBfftP3wJ0pddff10++OADOXTokBQpUsRN5dq1a6IbdPgjdejQQXSTEVfS4+nTp1t10Lq40uLFi6V58+b+qAJ5IoAAAgggEHICzL9DrstjbTABQJ6DgAgwAAWEnUIRQAABBEJUQNf/03UAXemdd96R//znP7Jjxw6pWLGiOZ8+fXq5cuWK35T0jb+BAwea/PWNwLVr10qNGjVk06ZN5vy4ceOkd+/efqsHGSOAAAIIIBBKAsy/Q6m3424rAUCeg4AIMAAFhJ1CEUAAAQRCVEB3ANadgF1p1qxZ8tprr8lnn30m+jmwK+XLl09+//13vynpmn8tWrQw+es6f7reX8uWLWXRokXmfK9evWT8+PF+qwcZI4AAAgggEEoCzL9DqbcJANLbQSbAABRkHUJ1EEAAAQQcLaBr+p05c8a0cfXq1bPIOWAAACAASURBVFK3bl2ZO3eutG3b1px/+umn3QKFvkbRXX8rVKhgstVPjaOioqR///4yduxYc75p06ayZMkSXxdPfggggAACCISkAPPvkOz2uxrNG4A8BwERYAAKCDuFIoAAAgiEoIDu9KuBttu3b5vW//jjj/LUU09Zb9n16dPHnK9Zs6bbJh2+5tINRh588EG3bPXc0qVLpWfPnuZ8lSpVZMuWLb4unvwQQAABBBAISQHm3yHZ7QQA6fbgEGAACo5+oBYIIIAAAs4XiC3odvbsWWv337feektGjhxpEJo0aSIRERF+Q9EgZNq0aeXGjRumDH0r8I8//hAt25XCwsLk8OHDfqsHGSOAAAIIIBBKAsy/Q6m3424rbwDyHAREgAEoIOwUigACCCAQggLfffedlC5d2rQ8RYoUcv36dUmePLnEtTuwP5l03b8jR46YInRdwLx580rlypXNOX9vRuLP9pE3AggggAACwSbA/DvYeiQw9SEAGBj3kC+VASjkHwEAEEAAAQSSSODOjT4eeughOXnypFV6w4YNZeXKlaYmgwYNkmHDhvm1Zrrz7/r1600Zw4cPt97+K1iwoFu5ly9flowZM/q1LmSOAAIIIIBAKAgw/w6FXo6/jQQA4zcKyBW6A9+UKVPkyy+/tD6L0bV7Hn30UWncuLF07txZ0qVLl+h6nThxQj788EPZsGGDHDt2TP755x/rH9qFCxeWOnXqSKdOnazPg/yRGID8oUqeCCCAAAII3C0wffp063/TXalMmTLy7bffWofVqlVzW2tv4sSJ0qNHD78y3vnWYfv27WXSpEmib/3FTIcOHZJChQr5tS5kjgACCCCAQCgIMP8OhV6Ov40EAOM3SvIrPv/8cwkPDxf9y3dsST+d0cDgnX8p96aiCxcutD77uXr1apy3ZcuWzVoHqFatWt5k7dG1DEAeMXERAggggAACiRYYMmSIvPPOOyafl156ST755BPr+Mknn5S9e/ea3xYsWCAtW7ZMdJn3ykDXHNS1B11J/52xbt06yZIli1y6dMmc37x5s1StWtWvdSFzBBBAAAEEQkGA+Xco9HL8bSQAGL9Rkl6hu/JVqFDBCsxlyJBBBgwYYP11Xo81GDdz5kyrPhoE1DV9EvJpzI4dO6x1dnQhbl3/p3Xr1vLiiy9Knjx5rE+C5s+fLxqE1KQLde/bt08KFCjgUwcGIJ9ykhkCCCCAAAJxCugbdrNmzTK/v/HGG/L+++9bx7r23qlTp8xv+gfGevXq+VVzyZIl0rx5c1OGa8OPxx9/XA4ePGjOL1682O06v1aKzBFAAAEEEHCwAPNvB3euF00jAOgFVlJcqoG5bdu2iS7QvXXrVilXrpxbsWPHjpV+/fpZ5/Qv+kOHDvW6Ws8//7z1BqEmnQDoRODO1Lt3b5kwYYJ1Wj85njp1qtfl3OsGBiCfcpIZAggggAACcQo899xzsnr1avP7u+++KwMHDrSO9Q99165dM79988038swzz/hVU8soX768KSNVqlTWHzp1bcCNGzea8/pvnj59+vi1LmSOAAIIIIBAKAgw/w6FXo6/jQQA4zdKsit2794tZcuWtcrTz3OnTZt2V9n61l6xYsWsv5DrpzJ//vmnpEyZ0qs66qe9Fy5ckPvvv1/OnTsX6736CY7mr6lEiRLy/fffe1VGfBczAMUnxO8IIIAAAgj4RkD/d1y/MHCl2bNnS9u2bSUqKuqudfcOHz4s+kaeP9Pp06etrw5iJn0L8c0335RFixaZ07169ZLx48f7syrkjQACCCCAQEgIMP8OiW6Ot5EEAOMlSroLdD0cXRdH065du0ww8M4ajBo1yvo0WNPatWutv5h7k/TTYt3wo1SpUrJnz544b82RI4cVINSA4y+//OJNEfFeywAULxEXIIAAAggg4BOBXLlyydmzZ01eX331lbXZl24yli9fPrcyzp8/L/qHQn8m/WOmbmZ2/fp1U4wuT/Lpp5/KmDFjzLmmTZuKfi5MQgABBBBAAIHECTD/TpyfU+4mABhEPen6/Fd3wbt48aL1GXBsKeanM4MHD5a3337bq1aULFlSfvjhh3u+AagbkGTOnNnKt0GDBrJixQqvyojvYgag+IT4HQEEEEAAgcQL3Lx5U1KnTi3R0dEms59//lmeeOIJ0f986qmnzHldF1iv1//0d9LdffVtQ1fS9f70q4aePXuac/rvoq+//trfVSF/BBBAAAEEHC/A/NvxXexRAwkAesSUNBe53rjTHfl++umnOAvVz3ddf51v1KiRLFu2zKsK6kYiHTp0sO758MMPpVOnTnfd37dvXxk3bpx1fv369VKzZk2vyojvYgag+IT4HQEEEEAAgcQLxPzfW1duf/31l2TPnl02bdokNWrUMIXca2mQxNfEPYfatWtbO/+60vDhw6VgwYLSpEkTc861OYivyyY/BBBAAAEEQk2A+Xeo9Xjs7SUAGCTPgS7ArQtxa9LFur/44ot71sz1Ga8u1K1vBHqT/v33X2vtnwULFlh/5df/Xr9+fcmdO7e1C/DChQtl1apVVpa6SLguFu5t0gHmXknX/ylTpox1iX6CpLsQkhBAAAEEEEDAtwK61Ifrf281Z103WD+9TZYsmSxfvlwaN25sCkzKgJuudTxjxgxTtu5U3KpVK6lUqZI5p19EREZGWnUlIYAAAggggEDCBQgAJtzOSXcSAAyS3tS/xj/wwANWbfSv3xEREfesWc6cOa1PZRKzPp9+1jtixAi3hcFdhVarVk10TcKEvvnnzT/WCQAGyUNINRBAAAEEHCeg6+q99NJLpl265t/vv/9uHetmY6+//rr5LSF/VEwomK55rP/OcKVatWpZXyXoW4Axk25KlilTpoQWw30IIIAAAgggICIEAHkMVIAAYJA8BzEX4m7ZsqX1dt69kv4DXu959NFH5ejRo163QncR1t32dCHwW7du3XV/mjRprAmDfgb84IMPep0/AUCvybgBAQQQQAABnwtoUO2NN96INcinn90OGjTI/ObJFwi+qqBu7tG8eXOTnb59qMuf6Ft/MdOhQ4dE1wskIYAAAggggEDCBQgAJtzOSXcSAAyS3kzKNwC3bdsmL7zwguhf1R9++GHrE1/9y7uuK6i7BH722Wfyn//8R/7++2/JkyePtUZP0aJFvZLiE2CvuLgYAQQQQAABvwjoZmHDhg0zeb/yyiuycuVK67h3794yYcIE85t+gjt//ny/1OPOTGNuaKa/pUqVSq5evWptUKYbobmSrlOoXyWQEEAAAQQQQCDhAgQAE27npDsJAAZJbybVGoC67o++NXjq1CnJlSuX9fmv/uedaf/+/VKqVCnReumuwd99951PpRiAfMpJZggggAACCMQq0K5dO5k9e7b5rXPnzjJ16lTruE2bNm4BP92BN2ZA0J+kuhaw/pExZtJ/m+jSI/qVgistWrRIWrRo4c+qkDcCCCCAAAKOF2D+7fgu9qiBBAA9Ykqai3RHvvPnz4s/dwGOuRaQfvoTc/2dO1upC3LPmjXLOq2f5Wi9fJUYgHwlST4IIIAAAgjELVCvXj1ruQ9Xivm//fo1QMxNx/RNwZifBPvT9fbt25IuXTprQxJX2rFjh+gbixs3bjTnxo4dK3369PFnVcgbAQQQQAABxwsw/3Z8F3vUQAKAHjElzUWVK1cW/TxX17/Rz19SpEgRa8ExP5vRfyi//fbbHldw1KhRMmDAAOt6nRDUqVMnzntjLg6um5Lo5iS+SgxAvpIkHwQQQAABBOIWeOqpp+Tnn382F8ydO9d6809T+fLlRf9N4UoffPCB26Yg/nbVtf0OHz5silm8eLGsWbNGFi5caM4l5VuJ/m4v+SOAAAIIIBAoAebfgZIPrnIJAAZRf+jbeLornqZdu3ZJ2bJlY61dzCDe2rVr5dlnn/W4FbqpR9++fa3rP//8c3n++efjvPe9996Tbt26Wb/rjsENGjTwuJz4LmQAik+I3xFAAAEEEEi8QM6cOeXPP/80GcX8d8OdAbilS5dK48aNE1+ohznUrl3bWmfYlfTtRF2feMyYMeac/vFR/whJQgABBBBAAIGECzD/Tridk+4kABhEvbl7924T9OvYsaPoG3h3Jv1kplixYtb6OFmyZLH+UZ8yZUqPW6ELfzds2NC6vl+/fjJ69Og479XrXAuFf//991KiRAmPy4nvQgag+IT4HQEEEEAAgcQJ3Lx509pcI2bau3evFC9e3DrlWnrE9fuGDRukRo0aiSvUi7v13zozZswwd+jSI7rpWI8ePcw5/Tri66+/9iJXLkUAAQQQQACBOwWYf/NMqAABwCB7DlyfAevnv1u3bpVy5cq51VDXwtHAnaYhQ4bI0KFD3X7fsmWL2S2vdevWMm/ePLff9dPiBx98UKKioiRjxoyi6+24JgIxL9TPg/XtQA046vUnT56U5MmT+0yLAchnlGSEAAIIIIBArAJ//PGH5MuXz+23c+fOWTvt6v++6x8Q9T9dSTcG00+GkyrpVw8x1yKuVauWaBAw5luIBQsWlCNHjiRVlSgHAQQQQAABRwow/3Zkt3rdKAKAXpP59wb9x3eFChXk6tWrkiFDBusfxtWqVbOO9RMY11/KH3vsMWtnXg3ixUzxBQD1Wl3kW9cO1KRldO3aVfQf3VmzZpWzZ8+KbhQyc+ZMuXXrlnWNrsUTHh7u04YzAPmUk8wQQAABBBC4S+Dbb7+VZ555xpzXtwGvXbsmyZIlkwsXLki2bNnc7tE/9j300ENJJrlkyRJp3ry5KS8sLEzmzJkjlSpVMud0XeTIyEirziQEEEAAAQQQSJgA8++EuTntLgKAQdijujafBtwuX74ca+00+Pfll1+K/lX8zuRJADA6Olp69eolkydPFv3vcSV9M2DEiBF+2X2PASgIHzyqhAACCCDgKIFVq1bJyy+/bNr08MMPy4kTJ6zjo0ePigbcYqYrV65YG5ElVYq5qZmWqQHK/fv331UvXRcwU6ZMSVUtykEAAQQQQMBxAsy/HdelCWoQAcAEsfn/pt9//90K0GmgT/+fVf9RrAG/Ro0aSZcuXSRdunSxVsKTAKDrRl3Xb9asWbJ9+3bR8vSzYH0jUMupUqWK6No8Gmz0R2IA8ocqeSKAAAIIIPB/Arqrb+fOnc0JXVZk586d1vGdbwemTp3a+togKd+0O336tOTJk8etyzQweecfOHXd48KFC9O1CCCAAAIIIJBAAebfCYRz2G0EAB3WoXZpDgOQXXqKeiKAAAII2FVg0KBBojvrulKDBg1kxYoV1uHq1avlueeeM79pIO7UqVNJ2lRdf1D/oHn9+nVTrq5NrPXSNYtdadOmTWZ94yStIIUhgAACCCDgEAHm3w7pyEQ2gwBgIgG5PWECDEAJc+MuBBBAAAEEPBVo27atzJ0711yua/5OmTLFOl60aJG0bNnS/KYbgukOwUmdChUqJIcPHzbFLl682ApaHjhwwJzTurZo0SKpq0Z5CCCAAAIIOEaA+bdjujJRDSEAmCg+bk6oAANQQuW4DwEEEEAAAc8E6tatK2vWrDEX67q+AwYMsI51mZEePXqY36pWrSqbN2/2LGMfXlW7dm1Zt26dyVGDf/rG38aNG825MWPGSN++fX1YKlkhgAACCCAQWgLMv0Orv+NqLQFAnoOACDAABYSdQhFAAAEEQkjgySefdHurb968edK6dWtLYPDgwTJs2DCj8corr8jKlSuTXEfXG54xY4Ypt3379tZOxQsXLjTnevbsKRMmTEjyulEgAggggAACThFg/u2UnkxcOwgAJs6PuxMowACUQDhuQwABBBBAwEOBHDlyyLlz58zV+qZdrVq1rGPdHEQ3CXElDbzFDMR5WESiLxs5cqS89dZbJh+tX4kSJWT06NHmXJMmTSQiIiLRZZEBAggggAACoSrA/DtUe9693QQAeQ4CIsAAFBB2CkUAAQQQCBGBGzduiO7sGzPt27dPihYtap1q2rSpLF261Pzcv39/0WBcUqclS5ZI8+bNTbFhYWFWcDLm58mVKlWSrVu3JnXVKA8BBBBAAAHHCDD/dkxXJqohBAATxcfNCRVgAEqoHPchgAACCCAQv8DJkyfl4Ycfdrvw/Pnzki1bNuvcs88+K+vXrze/jx07Vvr06RN/xj6+4ptvvpHy5cubXFOlSiULFiywApSuVLBgQTly5IiPSyY7BBBAAAEEQkeA+Xfo9PW9WkoAkOcgIAIMQAFhp1AEEEAAgRAR2LVrl5QrV860Vt8GvHr1qiRLlsw6V7JkSfnhhx/M73PmzJFXX301yXVOnz4tefLkcSt31apV8tJLL5lz6dKlkytXrpi6J3klKRABBBBAAAGbCzD/tnkH+qj6BAB9BEk23gkwAHnnxdUIIIAAAgh4I/Dxxx9LgwYNzC358+eX48ePm+NHHnlEfv/9d3OsQbcXX3zRmyJ8cu3t27dFA3zXr183+S1btkwaN27slv/Fixclc+bMPimTTBBAAAEEEAg1AebfodbjsbeXACDPQUAEGIACwk6hCCCAAAIhIjB16lTp2rWraW2FChVk+/bt5jhjxozWW3WutG3bNqlYsWJAdAoVKiSHDx82Zc+dO/eutxEPHjwohQsXDkj9KBQBBBBAAAG7CzD/tnsP+qb+BAB940guXgowAHkJxuUIIIAAAgh4ITBw4EAZMWKEuaNhw4ayfPly6zi2DUIOHDggRYoU8aIE311au3Zt0R2KXWn48OEybtw4uXDhgjm3ceNGqV69uu8KJScEEEAAAQRCSID5dwh19j2aSgCQ5yAgAgxAAWGnUAQQQACBEBHQ9fzmzZtnWtutWzeZPHmydXzmzBnJnTu3m8TZs2flgQceCIhOx44dZcaMGabs9u3by44dO0SDkq60cOFCCQ8PD0j9KBQBBBBAAAG7CzD/tnsP+qb+BAB940guXgowAHkJxuUIIIAAAgh4IXDnW3WjRo2SN99808ph//79UqxYMbfcbt68KSlSpPCiBN9dOnLkSHnrrbdMhrVq1ZLo6GjZsGGDOTdmzBjp27ev7wolJwQQQAABBEJIgPl3CHX2PZpKAJDnICACDEABYadQBBBAAIEQEShevLjs27fPtHbBggXSsmVL63jr1q1SpUoV81umTJnk0qVLAZNZsmSJNG/e3JQfFhZm7WCsdXalHj16yMSJEwNWRwpGAAEEEEDAzgLMv+3ce76rOwFA31mSkxcCDEBeYHEpAggggAACXgpkz55dzp8/b+5av3691KxZ0zr+5JNP5JVXXjG/3blDsJdFJfryXbt2WQE/V0qVKpVowE/f+nOlJk2aSERERKLLIgMEEEAAAQRCUYD5dyj2+t1tJgDIcxAQAQaggLBTKAIIIIBACAhcv35d0qRJ49ZS/ez38ccft87NmjVLdJ09VypVqpTs2bMnYDKxrUn4zjvvyODBg02dKlWqZL25SEIAAQQQQAAB7wWYf3tv5sQ7CAA6sVdt0CYGIBt0ElVEAAEEELClwIkTJ0Tf6ouZdEfdLFmyWKf0zTrXeoB6rOsFrlmzJmBt1fX+0qVLJ9euXTN1ePfdd2XQoEHm+NFHH5WjR48GrI4UjAACCCCAgJ0FmH/bufd8V3cCgL6zJCcvBBiAvMDiUgQQQAABBLwQ2Llzp1SoUMHcoW8DRkVFSbJkyaxzGvyL+Xmtrr+3ePFiL0rw/aWFCxeWX3/91WSsb//pW4CupAHCK1eumDb4vgbkiAACCCCAgHMFmH87t2+9aRkBQG+0uNZnAgxAPqMkIwQQQAABBNwEVq5cKQ0bNjTnChQoIMeOHTPH7dq1k9mzZ5vjLl26yHvvvRdQxTp16sjatWtNHXr37i3jx493q9PFixclc+bMAa0nhSOAAAIIIGBHAebfduw139eZAKDvTcnRAwEGIA+QuAQBBBBAAIEECGgwr1u3bubOihUryrZt28zxyy+/LKtWrTLHQ4YMkaFDhyagJN/d0qlTJ5k+fbrJsG3btjJnzhy3Ag4cOCBFihTxXaHkhAACCCCAQIgIMP8OkY6Op5kEAHkOAiLAABQQdgpFAAEEEAgBgQEDBsioUaNMSxs3bixLly41x5UrV3YLCE6ZMkW6du0aUBmtr9bblWrVqiXfffed6NqFrrRx40apXr16QOtJ4QgggAACCNhRgPm3HXvN93UmAOh7U3L0QIAByAMkLkEAAQQQQCABAm3atJH58+ebO7t37y6TJk0yx0WLFhV9m86VdP0/XQcwkCkiIkKaNWtmqlCwYEFJnTq16O7FrrRw4UIJDw8PZDUpGwEEEEAAAVsKMP+2Zbf5vNIEAH1OSoaeCDAAeaLENQgggAACCHgv8Oyzz8r69evNjaNHj5Z+/fqZ49y5c8uZM2fMse4ArDsBBzLt2rVLypUrZ6qQMmVK0TcV9a0/V7qzHYGsL2UjgAACCCBgJwHm33bqLf/VlQCg/2zJ+R4CDEA8HggggAACCPhHoFixYnG+ORcdHW29WXfz5k1T+O7du6V06dL+qYyHuWpAUgOTMZNuZLJixQpzqkePHjJx4kQPc+QyBBBAAAEEEHAJMP/mWVABAoA8BwERYAAKCDuFIoAAAgiEgEC2bNniXDsvMjJSMmXK5KagOwTrTsGBTBqYTJcunVy7ds1UQz/3XbRokTlu1KiRLFu2LJDVpGwEEEAAAQRsKcD825bd5vNKEwD0OSkZeiLAAOSJEtcggAACCCDgnYAG0NKmTet2U8zdc0+cOCH58+d3+/3ixYuSOXNm7wryw9WFCxeWX3/91eTcunVrt7UMS5YsaW0MQkIAAQQQQAAB7wSYf3vn5dSrCQA6tWeDvF0MQEHeQVQPAQQQQMCWAr/99ttdb/PFDPB9//33UqpUKdO2FClSyI0bNyRZsmQBb2+dOnVk7dq1ph66mcm8efPMsb65qG0JhroGHIsKIIAAAggg4IUA828vsBx8KQFAB3duMDeNASiYe4e6IYAAAgjYVWDHjh1SsWJFU339rPbKlSsmaKabg+gmIa70wAMPyNmzZ4OiuZ06dZLp06ebujRp0kSWLl3qVjetq9aZhAACCCCAAAKeCzD/9tzKyVcSAHRy7wZx2xiAgrhzqBoCCCCAgG0Fli9fLo0bNzb1L1iwoBw5csQcR0RESLNmzcyxfnZ78ODBoGjvqFGjZMCAAaYuNWrUkG3btllvKLrS9u3bpUKFCkFRXyqBAAIIIICAXQSYf9ulp/xbTwKA/vUl9zgEGIB4NBBAAAEEEPC9wJQpU6R79+4m40qVKsnWrVvN8fvvvy9dunQxxxpM06BaMKQ7g5MavEyZMqVbgHLu3LminwaTEEAAAQQQQMBzAebfnls5+UoCgE7u3SBuGwNQEHcOVUMAAQQQsK1A//79ZfTo0ab++hmtBtZc6Z133pEhQ4aY4/r168unn34aFO3dtWuXlCtXztRFg3+1a9eWL774wpx76623ZPjw4UFRXyqBAAIIIICAXQSYf9ulp/xbTwKA/vUl9zgEGIB4NBBAAAEEEPC9QKtWrWThwoUm4549e8qECRPMsb4dqG8JutKrr74qc+bM8X1FEpDjmTNnJHfu3G53tm/fXmbOnGnONWrUSJYtW5aA3LkFAQQQQACB0BVg/h26fR+z5QQAeQ4CIsAAFBB2CkUAAQQQcLhAzZo1ZePGjaaVY8eOlT59+pjjli1byqJFi8yx/qbXBEOKjo4W3bTk2rVrbvUbN26cOX7qqafkxx9/DIbqUgcEEEAAAQRsI8D82zZd5deKEgD0Ky+ZxyXAAMSzgQACCCCAgO8FihYtKgcOHDAZa7CvRYsW5rhevXry1VdfmeORI0eKfjYcLEk3Jfn1119NdXRTEK2jK2XIkEEuX75sdjUOlnpTDwQQQAABBIJZgPl3MPdO0tWNAGDSWVNSDAEGIB4HBBBAAAEEfC+QNWtWuXjxosl406ZNUq1aNXNctmxZ2b17tzmePn26dOjQwfcVSWCOderUkbVr15q79Q3FmG8A6g+nT5+WXLlyJbAEbkMAAQQQQCD0BJh/h16fx9ZiAoA8BwERYAAKCDuFIoAAAgg4WCAqKkrSp0/v1sJDhw5JoUKFzDndWffYsWPmeMWKFdKgQYOgUenUqZNoUNKVXnvtNVm8eLHbZ8G6q7HubkxCAAEEEEAAAc8EmH975uT0qwgAOr2Hg7R9DEBB2jFUCwEEEEDAtgIa2NMAX8x06dIlyZQpkzl15xuCmzdvlqpVqwZNm0eNGiX62a8r6ZqG+sbf/v37zbnZs2dL27Ztg6bOVAQBBBBAAIFgF2D+Hew9lDT1IwCYNM6UcocAAxCPBAIIIIAAAr4V2L59u9ubcfo2YGRkpFkv799//5UUKVK4Fbp3714pXry4byuSiNwiIiKkWbNmJgcNaBYrVkxWrVplzumahTHXBUxEcdyKAAIIIIBASAgw/w6Jbo63kQQA4yXiAn8IMAD5Q5U8EUAAAQRCWWDZsmXSpEkTQxAWFiaHDx82x+fOnZMcOXK4EZ06dUry5MkTNGy7du2ScuXKmfqkTJlSunXrJuPHjzfn9JNl/XSZhAACCCCAAAKeCTD/9szJ6VcRAHR6Dwdp+xiAgrRjqBYCCCCAgG0FJk36f+zdCbhN1f/48Y95yJQkikS6RShEhpKxKIUyRUhEoUKGpCjJPFWKKAkZIkQ0mClFZgmhxJMhmTPH/T+f8/2f9bvn3nPdc+7d95w9vNfz/J5+95w1fV5rf5e71t17r1HSpUsX0/8HHnhAli9fbn7W03X1lN246dy5c5I5c2bbxHzo0CHJnz9/QH/0seC4JxWXKlVKNm/ebJs+0xEEEEAAAQTsLsD62+4jFJn+sQEYGWdaiSfABMQlgQACCCCAgLUCPXr0kKFDh5pKmzZtKtOmTTM/r169WipXrmx+zpo1q5w5c8baTqSwttjYWNF+nT9/3tT07rvv+u4C9Cf9/t9//zWPNqewSYojgAACCCDgneVDgwAAIABJREFUegHW364f4pACZAMwJCYyWS3ABGS1KPUhgAACCHhdoEWLFjJlyhTD0LVr14BHZ+fPny+PPfaY+b5gwYKyb98+27HpXYp6t6I/xd8A1M/t9uiy7RDpEAIIIIAAAnEEWH9zOagAG4BcB1ERYAKKCjuNIoAAAgi4WKBGjRqydOlSE+GwYcPk5ZdfNj9/+umn8vTTT5uf7777btm4caPtRGrXri3ffvut6ddbb70lAwYMEH1c2Z/00WZ9xJmEAAIIIIAAAkkLsP5O2sgLOdgA9MIo2zBGJiAbDgpdQgABBBBwtECxYsVkx44dJoapU6cGnKg7YsSIgA1B3TBcvHix7WJ+7rnn5MMPPzT9atu2raxZs0a2bt1qPhs/frzo5yQEEEAAAQQQSFqA9XfSRl7IwQagF0bZhjEyAdlwUOgSAggggICjBXLmzCmnTp0yMSxbtkyqVq1qfu7du7fvTjp/atSokejJwXZLeuhHr169TLdq1qwpOXLkkNmzZ5vP9H2HgwcPtlvX6Q8CCCCAAAK2FGD9bcthiXin2ACMODkNqgATENcBAggggAAC1gnoYR7ZsmULqFDfoxcTE2M+i39nnf48ZswY6zphUU3Tp08PuHOxaNGi8vjjj8uQIUNMCw0aNAjYELSoaapBAAEEEEDAlQKsv105rGEHxQZg2GQUsEKACcgKRepAAAEEEEDgfwK7d++W2267LYBD7wbMnj27+Uzv+Js1a5b5We8I7N+/v+0If/rpJ6lYsaLpV4YMGWT06NHSvn1781mJEiUCHgm2XRB0CAEEEEAAARsJsP620WBEsStsAEYR38tNMwF5efSJHQEEEEDAaoGVK1cGHIqhG39xHwfW9qpXry76WLA/6TsBu3TpYnVXUlzfoUOHJH/+/AH1zJw5U3QD058yZ84setdj2rRpU9weFSCAAAIIIOB2Adbfbh/h0OJjAzA0J3JZLMAEZDEo1SGAAAIIeFog/mOz+uivPgIcN+mpv5s3bzYf6anALVu2tJ1bbGysZM2aVc6fP2/6NnfuXKlfv35AX/ft2ycFCxa0Xf/pEAIIIIAAAnYTYP1ttxGJTn/YAIyOu+dbZQLy/CUAAAIIIICAhQIjR46Url27mhr18I+4d/vpF7pZpv/++tP8+fOlbt26FvbCuqrin2g8efJk0XcW6l1//rR06VKpVq2adY1SEwIIIIAAAi4VYP3t0oENMyw2AMMEI7s1AkxA1jhSCwIIIIAAAirQvXt3GTZsmMFo1qyZfPbZZwE4elfduXPnzGerV68OeNeenSTr1Kkj33zzjemSvqtQHwOOewfjhx9+KO3atbNTt+kLAggggAACthRg/W3LYYl4p9gAjDg5DaoAExDXAQIIIIAAAtYJNG/eXKZOnWoq7NatmwwdOtT8rBt/ugEYN8U/Jdi63qS8pueff17Gjh1rKmrbtq2cOHEi4BCT+DGmvFVqQAABBBBAwJ0CrL/dOa7hRsUGYLhi5LdEgAnIEkYqQQABBBBAwCcQ/4CP4cOHBzwSHPffXT/ZP//8I9ddd50tBQcPHiyvvPKK6VvNmjWlXLlyMnDgQPNZvXr1RN8NSEIAAQQQQACBqwuw/uYKUQE2ALkOoiLABBQVdhpFAAEEEHCpwB133BFw6Me0adOkadOmJtotW7bIXXfdZX5OkyaNXLp0SdKlS2dLkRkzZgT0v2jRotKrVy9p06aN6W/x4sVl27Zttuw/nUIAAQQQQMBOAqy/7TQa0esLG4DRs/d0y0xAnh5+gkcAAQQQsFggR44ccvr0aVPrihUrpEqVKuZnPRBE7xL0p2uvvVaOHTtmcS+sq27NmjVSoUIFU2GGDBlk0aJFooeb+FOmTJnk7NmzkjZtWusapiYEEEAAAQRcKMD624WDmoyQ2ABMBhpFUi7ABJRyQ2pAAAEEEEBABf7991/Jnj17AMZvv/0mt912m/ls1qxZ0qhRI/Oz3lG3a9cu2wIePnxY8uXLF9C/DRs2SJkyZQI+27t3rxQqVMi2cdAxBBBAAAEE7CDA+tsOoxD9PrABGP0x8GQPmIA8OewEjQACCCCQCgK6kRcTExNQs94NmC1bNvOZnpj73HPPmZ/vvfde+emnn1KhN9ZUGRsb6zu05Pz586bCVatWiZ4OrBue/qR3Ber7AUkIIIAAAgggkLgA62+uDhVgA5DrICoCTEBRYadRBBBAAAEXCujjvnEfjdXHgU+ePBkQ6YABA6R3797ms4cfflgWLFhga41ixYrJjh07TB+nTJkierjJxo0bzWdjxowJ2Ni0dUB0DgEEEEAAgSgJsP6OErzNmmUD0GYD4pXuMAF5ZaSJEwEEEEAgtQX0wI9mzZqZZvRAkO3btwc0261bN9/mmT+1aNFCJk2alNpdS1H9erffN998Y+ro37+/6GEmn3/+ufmsa9euAXGlqEEKI4AAAggg4FIB1t8uHdgww2IDMEwwslsjwARkjSO1IIAAAgggoBt7usHnT9WqVZOlS5cGwLRu3VomTpxoPnvppZdk1KhRtsZ7/vnnZezYsaaPegKwvhfw7bffNp89+uijMm/ePFvHQecQQAABBBCItgDr72iPgD3aZwPQHuPguV4wAXluyAkYAQQQQCCVBOLf3de8eXPRx2Xjpscee0zmz59vPurXr5+8/vrrqdQja6odMmSI9OzZ01R2//33i24CPv300+azYHc7WtM6tSCAAAIIIOAeAdbf7hnLlETCBmBK9CibbAEmoGTTURABBBBAAIEAAX38Vx8D9qfu3buLbp7FTZUrV5bVq1ebj95//33p0KGDrSV1w1I3Lv0pd+7c8uWXX4puBPpTxowZ5ezZs5IuXTpbx0LnEEAAAQQQiKYA6+9o6tunbTYA7TMWnuoJE5CnhptgEUAAAQRSUUAPANGDQPxp5MiR0rlz54AW9U65nTt3ms+mT58uTZo0ScVepbzqP/74Q4oUKRJQkb4DsFSpUgGf/f7771K4cOGUN0gNCCCAAAIIuFSA9bdLBzbMsNgADBOM7NYIMAFZ40gtCCCAAAIIxMTEyK5du666uZc3b145cuSIybNo0SKpWbOmrfGuXLki2bNn993h50/fffedNGzYUE6dOmU++/bbb+XBBx+0dSx0DgEEEEAAgWgKsP6Opr592mYD0D5j4ameMAF5argJFgEEEEAgFQV0k+zff/81LaxcuTLgMdnY2FjJkCGDXL582eRZv369lClTJhV7ZU3V5cuXl59//tlUpnc36vsNtf/+NHr0aOnYsaM1DVILAggggAACLhRg/e3CQU1GSGwAJgONIikXYAJKuSE1IIAAAgggcPr0acmRI0cAxO7du+XWW281n504cUKuvfbagDx79+6VQoUK2R4w/unFbdu29W126iPM/qSPO+vGIAkBBBBAAAEEgguw/ubKUAE2ALkOoiLABBQVdhpFAAEEEHCZgL7XT9/vFzedOXNGsmbNaj7as2ePFC1aNCCPbhxmy5bN9hrDhw8XPeXYnypUqCC1atWSt956y3z2yCOPyFdffWX7WOggAggggAAC0RJg/R0teXu1ywagvcbDM71hAvLMUBMoAggggEAqCixbtkyqV69uWsiZM6foHX9x09q1a+Xee+81H+nJuefPn5c0adKkYs+sqfqbb76ROnXqmMr0cWd95LdVq1bmM30HYtwDTqxpmVoQQAABBBBwjwDrb/eMZUoiYQMwJXqUTbYAE1Cy6SiIAAIIIICAEZg6dao0b97c/FysWDH59ddfA4Tib6Llz59fDhw44AjFuL8v+Ds8Z84cadCggel/+vTp5dy5c6L/JSGAAAIIIIBAQgHW31wVKsAGINdBVASYgKLCTqMIIIAAAi4TGDZsmHTv3t1EVaNGDVm8eHFAlJ999pk89dRT5rMSJUrI1q1bHSGhB5jkypUr4NTfadOmyZNPPhnQ//jvPXREcHQSAQQQQACBCAmw/o4QtM2bYQPQ5gPk1u4xAbl1ZIkLAQQQQCCSAl27dg04AKNFixYyadKkgC68++678tJLL5nPqlSpIitWrIhkN1PUVuXKlWX16tWmjsGDB8vAgQMDHnX++uuvpXbt2ilqh8IIIIAAAgi4VYD1t1tHNry42AAMz4vcFgkwAVkESTUIIIAAAp4WaNq0qcyYMcMY9OjRQ3SDLG7q27ev9OvXz3ykj8/Onj3bMW7t2rWT8ePHm/7q+//0Meeff/7ZfKabnC+88IJjYqKjCCCAAAIIRFKA9Xckte3bFhuA9h0bV/eMCcjVw0twCCCAAAIREihfvnzARth7770nnTp1Cmhdf37//ffNZ23btg3YUItQV5PdTPw7GMuWLSu333676PsP/Uk3/zQfCQEEEEAAAQQSCrD+5qpQATYAuQ6iIsAEFBV2GkUAAQQQcJGAvh/v2muvlZMnT5qo9MCPhx56KCBKfV/e9OnTzWc9e/aUQYMGOUZiyZIlUrNmTdPfLFmy+N57GPeuRj0peOHChY6JiY4igAACCCAQSQHW35HUtm9bbADad2xc3TMmIFcPL8EhgAACCERA4MiRI5I3b96Alvbs2SNFihQJ+Ew3BL/77jvz2ZAhQwIODolAV1PUxOHDhyVfvnwBdQwfPlxefvll81nRokVl165dKWqHwggggAACCLhVgPW3W0c2vLjYAAzPi9wWCTABWQRJNQgggAACnhXQgzH0gAx/ypAhg5w9e1bSp08fYHLPPffI+vXrzWcfffSRtGnTxjFueqfj9ddfL0ePHjV9Hjp0aMAmZrp06eTcuXOiBiQEEEAAAQQQCBRg/c0VoQJsAHIdREWACSgq7DSKAAIIIOAigU8//VSefvppE5G+F2/Hjh0JIixcuLDs3bvXfD5nzhypX7++oySqVq0acHLxa6+9Jv379w+I4bfffpPbbrvNUXHRWQQQQAABBCIhwPo7Esr2b4MNQPuPkSt7yATkymElKAQQQACBCAroJtjbb79tWnz00Udl3rx5CXqQI0cOOX36tPl85cqVcv/990ewpylvqmPHjvLBBx+Yipo1ayb6vsNjx46ZzxYsWCAPP/xwyhujBgQQQAABBFwmwPrbZQOazHDYAEwmHMVSJsAElDI/SiOAAAIIINC4cWOZOXOmgejatavou/HiposXL0qmTJkCPtu2bZsUL17cUYBjxoyRDh06mD6XKlVK9DCQNWvWmM9GjRolL730kqPiorMIIIAAAghEQoD1dySU7d8GG4D2HyNX9pAJyJXDSlAIIIAAAhEUKF26tGzatMm0qJtkzz33XEAPgh2gcejQIbnhhhsi2NOUN6V3LT7wwAOmoowZM0rDhg1l6tSp5jO9S3D06NEpb4waEEAAAQQQcJkA62+XDWgyw2EDMJlwFEuZABNQyvwojQACCCDgbQE9GCN79uxy5swZA7F48WKpUaNGAMyvv/4qd955Z8BnFy5cEN1Ac1LSA0Dy5MkT0OVOnToFbPg9+OCD8u233zopLPqKAAIIIIBARARYf0eE2faNsAFo+yFyZweZgNw5rkSFAAIIIBAZgYMHD8qNN94Y0Ni+ffukYMGCAZ+tWrVKqlSpYj7TTcNTp05FppMWt5I/f37Ruxf9qXPnzqKP/fpTkSJFZM+ePRa3SnUIIIAAAgg4X4D1t/PH0IoI2AC0QpE6whZgAgqbjAIIIIAAAggYgfiPxGbOnNl3N2DatGkDlObOnSsNGjQwn91yyy3yxx9/OFKyVq1aonc5+lO7du1k3Lhx5meN/dy5c467u9GRg0GnEUAAAQQcJcD621HDlWqdZQMw1Wip+GoCTEBcHwgggAACCCRf4KOPPpJnn33WVFCiRAnZunVrggo//vhjadu2rfm8bNmysm7duuQ3HMWSesffO++8Y3pQv3590Q3OuGnHjh1y++23R7GXNI0AAggggID9BFh/229MotEjNgCjoU6bwgTERYAAAggggEDyBXr27ClDhgwxFehdfrNnz05Q4dChQ6VHjx7mcye/Jy/+pmexYsXkn3/+kSNHjpj45s+fL3Xr1k0+LCURQAABBBBwoQDrbxcOajJCYgMwGWgUSbkAE1DKDakBAQQQQMC7Ao8//rjMmTPHAOgm3+DBgxOAvPLKKwGfN23aVKZNm+ZIuB9//FEqVapk+p4+fXrROxrXrFljPhsxYoR06dLFkfHRaQQQQAABBFJLgPV3ask6q142AJ01Xq7pLROQa4aSQBBAAAEEoiBQsmRJ+eWXX0zLendcmzZtEvREHxPW7/ypY8eOASfnRqHryW5SDy/JmTNnQPlHH31U9K4/f3r++eflgw8+SHYbFEQAAQQQQMCNAqy/3Tiq4cfEBmD4ZpSwQIAJyAJEqkAAAQQQ8KTAlStX5JprrpHz58+b+FesWBFw2q//i/h3Cvbp00fefPNNx7rdfPPNsn//ftP/Ro0aycyZM83PNWvWlEWLFjk2PjqOAAIIIIBAagiw/k4NVefVyQag88bMFT1mAnLFMBIEAggggEAUBPbt2yeFChUKaPnAgQOSP3/+BL154IEHRE8M9ic9ROPFF1+MQq+tafLhhx+Wr7/+2lSm7z6M+yi0uuzdu9eaxqgFAQQQQAABlwiw/nbJQKYwDDYAUwhI8eQJMAElz41SCCCAAAIILFmyRPRON3/Kli2b6OOxadKkSYAT/1HhKVOmSPPmzR2L2L17dxk2bJjpf9WqVWX58uXmZzU4d+6cZMqUybEx0nEEEEAAAQSsFmD9bbWoM+tjA9CZ4+b4XjMBOX4ICQABBBBAIEoCY8eOFX3XnT/dfffdsnHjxqC9ufHGG+XgwYPmu4ULF0qdOnWi1POUN/vpp5/K008/bSoqUqSI/P777wEV//rrr6InBJMQQAABBBBA4H8CrL+5ElSADUCug6gIMAFFhZ1GEUAAAQRcIPDyyy+LnnbrT40bN5YZM2YkiCw2NlYyZ84sFy9eNN/pibnly5d3rMK6deukXLlypv96x9/1118vf//9t/nsyy+/lMcee8yxMdJxBBBAAAEErBZg/W21qDPrYwPQmePm+F4zATl+CAkAAQQQQCBKArq5Fffk2969e0v//v0T9Obff/+V7NmzB3y+e/duufXWW6PU85Q3e+bMGV9MurnpT3oH5KZNm8zP+oiwbpKSEEAAAQQQQOB/Aqy/uRJUgA1AroOoCDABRYWdRhFAAAEEXCBwxx13yM6dO00kEydOlFatWiWI7M8//5Rbbrkl4PPjx49Lrly5HK2gG5hxH/u9//77ZdWqVSam9u3biz4mTUIAAQQQQAABNgC5Bv5PgA1AroaoCLABGBV2GkUAAQQQcLjAf//9J1mzZpVLly6ZSH744QepVKlSgsj0vYBlypQxn6dLl85XLthhIU5iqVevnsybN890Of4GYPXq1UUPSiEhgAACCCCAABuAXANsAHINRFmADcAoDwDNI4AAAgg4UkDvfIv/CK++/07fgxc/LV68WGrVqmU+zpMnjxw5csSRccft9KuvvioDBw40H+km54YNG8zPBQsWlH379jk+TgJAAAEEEEDAKgHW31ZJOrse7gB09vg5tvdMQI4dOjqOAAIIIBBFgW+//VZq165teqCP8x47dizoXX16MEjTpk1N3ttvv1127NgRxd5b0/TUqVOlefPmprL8+fMHnHSsX5w9e1ayZMliTYPUggACCCCAgMMFWH87fAAt6j4bgBZBUk14AkxA4XmRGwEEEEAAARV477335MUXXzQYeiLu2rVrg+J88MEH0rFjR/OdPiasjws7PW3evFn04I+rpV9++UXuvPNOp4dK/xFAAAEEELBEgPW3JYyOr4QNQMcPoTMDYAJy5rjRawQQQACB6Aro5p9uAvpTs2bN5LPPPgvaqbfeekv69Oljvnv00UcD3p0X3UiS3/r58+clW7ZscvnyZVPJddddJ0ePHjU/z5kzR+rXr5/8RiiJAAIIIICAiwRYf7toMFMQChuAKcCjaPIFmICSb0dJBBBAAAHvCtSpU0e++eYbA9C3b1954403goJ07txZ3nnnHfPd008/LZ988okr8OKfhBwTEyO//fabiW3IkCHSvXt3V8RKEAgggAACCKRUgPV3SgXdUZ4NQHeMo+OiYAJy3JDRYQQQQAABGwgULVpU9uzZY3oyZcqUgPfhxe1iy5YtZfLkyeajl19+WYYNG2aDKFLehYYNG8oXX3xhKtLHfbdt22Z+fvbZZ2XcuHEpb4gaEEAAAQQQcIEA628XDKIFIbABaAEiVYQvwAQUvhklEEAAAQS8LXDx4kXJmjVrwKOv+v4/fQ9gsPTII4/IwoULzVdvv/226Am6bkh652O/fv1MKLfddpvs2rXL/Fy1alVZtmyZG0IlBgQQQAABBFIswPo7xYSuqIANQFcMo/OCYAJy3pjRYwQQQACB6Ars3LlT9NHXuOn48eOiJwEHSxUqVJA1a9aYr8aOHSvt27ePbhAWtT5z5kxp3LixqS137ty+05D96aabbhL9XYOEAAIIIIAAAuL7N7FgwYI+iv3790uBAgVg8aAAG4AeHHQ7hMwEZIdRoA8IIIAAAk4S+Oqrr0QP8vCnPHnyyJEjRxINQe+K2717t/leN8300Vk3pF9//TXJU37PnDnju2OShAACCCCAgNcFWH97/Qr4X/xsAHIdREWACSgq7DSKAAIIIOBggZEjR0rXrl1NBBUrVpTVq1cnGpHeFad3CPrT0qVLpVq1ag4W+L+uX7p0Sa655hrR/yaWtmzZIiVLlnRFvASBAAIIIIBASgRYf6dEzz1l2QB0z1g6KhImIEcNF51FAAEEELCBQIcOHWTMmDGmJ3rIx6effhq0Z5cvX5YMGTJIbGys+X7z5s1SqlQpG0RiTRd0c++XX34xlemj0CdOnDA/6yEhjz/+uDWNUQsCCCCAAAIOFmD97eDBs7DrbABaiElVoQswAYVuRU4EEEAAAQRUoFatWrJ48WKD0b9/f+ndu3dQnKNHj4o+Ihw3ue2dP08++aRMnz7dhKjv/fvrr7/Mz4MGDZKePXty8SCAAAIIIOB5Adbfnr8EfABsAHIdREWACSgq7DSKAAIIIOBggUKFCsm+fftMBDNmzAg4CCNuaL/99pvcfvvtAdGePXtWsmTJ4mCBwK7rBujrr79uPsyfP78cPHjQ/NymTRv56KOPXBMvgSCAAAIIIJBcAdbfyZVzVzk2AN01no6JhgnIMUNFRxFAAAEEbCBw/vx534EWcR/p3bBhg5QuXTpo73788UepVKmS+U43/nQD0E1p7ty50qBBAxOSvhNQD/7wpypVqsiKFSvcFDKxIIAAAgggkCwB1t/JYnNdITYAXTekzgiICcgZ40QvEUAAAQTsIbBt2zYpUaJEQGdOnTol2bNnD9rB+CcGFyhQQPQRYDelXbt2SUxMTKIh6R2BBw4ccFPIxIIAAggggECyBFh/J4vNdYXYAHTdkDojICYgZ4wTvUQAAQQQsIdA/Lvd8uXLF/C4a/xeTpo0SVq1amU+vuuuu2TTpk32CMaiXuhBJ9myZRO9OzKxdPr0aV8eEgIIIIAAAl4WYP3t5dH/v9jZAOQ6iIoAE1BU2GkUAQQQQMChAkOHDpUePXqY3if1eOvIkSOla9euJn+1atVk6dKlDo0+8W6XKVNGNm7cmGgG/e7uu+92XdwEhAACCCCAQDgCrL/D0XJvXjYA3Tu2to6MCcjWw0PnEEAAAQRsJvDss88GHGiR1AEXr732mrz99tsmioYNG8rMmTNtFlXKu9OyZUuZPHmyqSj+ewA1Zo2dhAACCCCAgJcFWH97efT/L3Y2ALkOoiLABBQVdhpFAAEEEHCoQNWqVQMOtBg0aJD07Nkz0Wief/55GTt2rPm+ffv2AT87lCFBtwcPHiyvvPKK+Txnzpxy8uRJ8/OAAQOkV69ebgmXOBBAAAEEEEiWAOvvZLG5rhAbgK4bUmcExATkjHGilwgggAAC9hC46aabAg60+OKLL+Txxx9PtHONGzcOuOPv1VdfDbgj0B5RpbwXCxYskLp165qKMmbMKBcvXjQ/t27dWiZMmJDyhqgBAQQQQAABBwuw/nbw4FnYdTYALcSkqtAFmIBCtyInAggggIC3Bc6cOZPgIIstW7ZIyZIlE4WpWbOmLFmyxHw/fPjwgHcCukV07969Urhw4UTDue+++2TVqlVuCZc4EEAAAQQQSJYA6+9ksbmuEBuArhtSZwTEBOSMcaKXCCCAAALRF9i8eXOCgyzOnj0rWbJkSbRzpUuXDjj195NPPpGnn346+sFY3IMrV66IPvb777//Bq35hhtukEOHDlncKtUhgAACCCDgLAHW384ar9TqLRuAqSVLvVcVYALiAkEAAQQQQCA0AT3IQh/p9aeCBQvKvn37rlr45ptvlv3795s88+bNk0cffTS0Bh2W695775W1a9cm2mt9J2COHDkcFhXdRQABBBBAwDoB1t/WWTq5JjYAnTx6Du47E5CDB4+uI4AAAghEVEAPsujdu7dps3r16gGP9wbrjJ6Gq3cJ+tMPP/wglSpVimi/I9WYnoh8tff8rV+/XsqUKROp7tAOAggggAACthNg/W27IYlKh9gAjAo7jTIBcQ0ggAACCCAQmoAeZDFx4kSTOakTfc+fP5/g8eAdO3bI7bffHlqDDss1YsQIefnll02v4x8EMn36dGnSpInDoqK7CCCAAAIIWCfA+ts6SyfXxAagk0fPwX1nAnLw4NF1BBBAAIGICuhBFnoHnz8NGzYsYMMrfmcOHDggempw3HTkyBHJkydPRPsdqca+++47eeihh0xz6dKlk8uXL5uf+/fvH3AHZaT6RTsIIIAAAgjYRYD1t11GIrr9YAMwuv6ebZ0JyLNDT+AIIIAAAmEK6EEWf//9tymV1Pv8tm7dKqVKlQpo5dKlS5I+ffowW3ZG9r/++ksKFCiQaGdbtWoVcAelM6KilwgggAACCFgnwPrbOksn18QGoJNHz8EoaCZLAAAgAElEQVR9ZwJy8ODRdQQQQACBiAnoARa5cuUKaG/79u1yxx13JNqH5cuXS7Vq1cz3Wv748eMR63OkG4qNjZXcuXPLiRMngjat7z6MewdlpPtHewgggAACCERbgPV3tEfAHu2zAWiPcfBcL5iAPDfkBIwAAgggkAyBdevWSbly5UzJtGnTyrlz50Tfc5dY+uKLL6Rhw4bm61tvvVV2796djNadUyT+Y9Jxe3799dcH3EHpnKjoKQIIIIAAAtYIsP62xtHptbAB6PQRdGj/mYAcOnB0GwEEEEAgogLTpk2TZs2amTYLFy4sv//++1X7MG7cONGDQvypfPnysmbNmoj2O9KNPffcc/Lhhx8m2qzeHZgzZ85Id4v2EEAAAQQQsIUA629bDEPUO8EGYNSHwJsdYALy5rgTNQIIIIBAeAL9+vWTvn37mkIPPvigfPvtt1etZODAgfLqq6+aPHXq1JGFCxeG17DDcr/33nvy4osvJtrrn3/+We655x6HRUV3EUAAAQQQsEaA9bc1jk6vhQ1Ap4+gQ/vPBOTQgaPbCCCAAAIRFWjRooVMmTLFtNmpUyfRza6rpe7du4ueFOxPzZs3D6gjogFEqLFly5ZJ9erVTWtp0qQRfTegP02dOlWefPLJCPWGZhBAAAEEELCXAOtve41HtHrDBmC05JNo988//5R3331XFixYIPv375dMmTKJvsOncePG0rFjR8maNatlPV+8eLFvYfD999/LwYMHfacE6omDeoJgjRo1RBcf2bJls6w9rYgJyFJOKkMAAQQQcKnAvffeK2vXrjXRvfPOO1e9000zPvPMM/LJJ5+YMnpnnJZzc9JTkvV3l8TSm2++KX369HEzAbEhgAACCCCQqADrby4OFWAD0IbXwfz58+Wpp56SU6dOBe1dTEyMb2OwaNGiKeq9ngjYunVr+fLLL69az8aNG+Xuu+9OUVvxCzMBWcpJZQgggAACLhXQ023jnuCrj/LqI71XS/Xq1ZN58+aZLF7Z/MqbN68cOXIkKI3+MXPSpEkuvUoICwEEEEAAgasLsP7mCmED0IbXgG62Va5c2XfCn95116tXL6lWrZrv5+nTp8v48eN9vdZNQD0ZMHv27MmK4uTJk767+9avX+8r36BBA9+JgXqXYbp06Xx3Ha5YsUL0JEHdkGQDMFnMFEIAAQQQQCDZAkePHpU8efIElN+1a1eSfwCMfyLu6NGjfU8PuD3p70vLly8PGmaFChXkxx9/dDsB8SGAAAIIIBBUgA1ALgw2AG14DVSpUkVWrVrlewx35cqVUrFixYBeDh06VHr06OH7TF8K/sYbbyQripYtW8rkyZN9jxZ//vnn8thjjwWtR9+fc/nyZV9/rExMQFZqUhcCCCCAgBsFfvrpp4DfA/TfYv2DYFL/JhcrVkx27NhhSPQk4aZNm7qRKCCmF154QXSzM1i67rrr5J9//nG9AQEigAACCCAQTID1N9cFG4A2uwb0HT/6rh9N7du3l7Fjxybo4ZUrV6REiRKyfft2yZUrl+g7bzJkyBBWJPquv/vvv99XRjcUu3XrFlZ5KzIzAVmhSB0IIIAAAm4W0D/U6R/s/Env/t+5c2eSIeu78PT3A3/SU4P19GC3J/296fnnn080zGPHjsm1117rdgbiQwABBBBAIIEA628uChXgHYA2ug5effVVGThwoK9H+ld//2Zg/C4OGjTI92iwpuT8Uq93AcyYMUNy5swphw4dksyZM0dcgQko4uQ0iAACCCDgMIHXX39d+vfvb3r9yCOPyFdffXXVKPTO/YwZM8p///1n8ukrQ8qWLeuw6MPvbtw/cAYrvWbNGilfvnz4FVMCAQQQQAABhwuw/nb4AFrUfTYALYK0ohr/47/XXHONnDhxItFHfPQdNpUqVfI1qSfa6cu9Q00XL170bfydP3/e986/mTNn+orqY74HDhzw/TdfvnypvinIBBTqiJEPAQQQQMCrAv4/2Pnj79y5s4wcOfKqHPqOX31CIG76448/5JZbbnE9ox6WooemJJamTJkizZs3d70DASKAAAIIIBBfgPU314QKsAFoo+vg+uuv972f5q677pJNmzYl2rO4v+A2atTI9w6/UNPPP/9s/vqtG4e6mNBNxE8//dS36ahJ7xzQzcjevXtL1apVQ606rHxMQGFxkRkBBBBAwIMCetfehg0bTOTvv/++dOjQ4aoSv//+u+9Ar7jp1KlTyT40zGnsN910k+8PmsFSSt6d7DQH+osAAggggEBcAdbfXA9sANroGtA78rJkyeLrUSiP+OgJwWfOnJFwT7XTjb6nn37a147+Ijx16lTREwWDpTRp0vgeSe7Zs2fYUjrBXC0dPHjQbETqicMFChQIuw0KIIAAAggg4FYBfZRX79g/ffq0CfG7776TWrVqXTXkuH/o04z6nuALFy6I/pvuhaTvOly0aFHQUJs1ayafffaZFxiIEQEEEEAAgQABNgC5IFSAOwBtch0cOXJE8ubN6+tNkyZNZPr06Vftmf8F33ogyNatW0OOQh8d6tq1qy+/vvtPNx5r164t/fr1k1KlSoneJfDFF1/IK6+8IvoYkaa5c+dKvXr1Qm7Dd2GFsdBgAzAsWjIjgAACCHhA4PDhw75XcsRNe/fulUKFCl01en03sP677k9ah/7RzStJf8dJ7DFpff+fvgeQhAACCCCAgNcE2AD02ogHj5cNQJtcB7oJdvPNN/t606JFC5k0adJVe6Z5tYw+5rN79+6Qo9CXietLxf1J7yT4+uuvJV26dAF16Iu0H3jgAdFTh4sVKybbtm0La1OPDcCQh4SMCCCAAAIIJBBYtWqV73Uc/pQpUyY5e/aspE2b9qpaemd/3PfcFS9e3PdvuFfSxx9/LG3btg0arp4ArCcBkxBAAAEEEPCaABuAXhtxNgBtPeKRugNw2LBh0r17d2Oh7xYqXbp0UBt9v+CsWbN8323evNl3h2CoiUeAQ5UiHwIIIIAAAgkFJkyYIG3atDFfhLqR995778mLL75oyt1///2ycuVKzxDrHX76epTEkr5r+brrrvOMB4EigAACCCCgAmwAch2oAHcA2uQ6iNQ7AD/88EN57rnnfFHroSN///13ogIfffSRPPvss77v9f+PuxBJKRsTUEoFKY8AAggg4GaBXr16yaBBg0yI+ioOfSVHUumNN94QPeTLn+rXry9z5sxJqphrvtd3JubIkSPReH788cerbhC6BoJAEEAAAQQQiCPA+pvLgQ1Am10DefLkkaNHj6bqKcALFy70HTKiSe/8i3u6YHyOuO8R0sNA9L2AViUmIKskqQcBBBBAwI0CDRs29L2T15+6desmQ4cOTTLUF154QUaPHm3y6R/v9I94Xkq33HKL/Pnnn0FD1les6KtWSAgggAACCHhJgPW3l0Y78Vi5A9BG14G+60ff+XPNNdfIiRMnJH369EF7p3+9rlSpku+7Pn36BPylP6lw9Bdi/cVYkz7Sq4/2JpbibhbqokMXH1YlJiCrJKkHAQQQQMCNAvpvdNxDvsaNG2fuyr9avPr+P30PoD/16NFDBg8e7EaiRGPSP3Tq7zDBkr4HWQ8+IyGAAAIIIOAlAdbfXhrtxGNlA9BG18Grr74qeqedpp9++knuvffeoL3TR4L00SBNepfegw8+GFYUeoLgvn37fI/I6EZjYgd2xH2PkC4mnnzyybDauVpmJiDLKKkIAQQQQMBlAnoAV7Zs2eTcuXMmsmXLlknVqlWTjFRPANbfDfxJf2fo2bNnkuXclEHjHTJkSNCQmjZtKtOmTXNTuMSCAAIIIIBAkgKsv5Mk8kQGNgBtNMxr1641m37t27eXsWPHJuidLgpKlCgh27dvl1y5cvne4ZchQ4awoujatauMHDnSV2bRokVSs2bNoOWrVasmy5cv932nG4YFCxYMq52rZWYCsoySihBAAAEEXCYQ999If2j62U033ZRkpOXKlZN169aZfOPHj0/0VNwkK3NoBn3Mt1WrVkF7X7Zs2QAfh4ZItxFAAAEEEAhLgPV3WFyuzcwGoM2G1v8YsD7+q6f2VaxYMaCH+iiuPs6jqW/fvqIv+46bdMNON+406S+/EydOTBChbubdfvvtogePlCxZUr7//vsEL8yeMmWKeUeOPkrz1VdfWSrFBGQpJ5UhgAACCLhIQO/2q169uokoa9as8u+//yZ6x37c0IsUKSJ//PGH+Wj27NnSoEEDF+kkHYq+31g3+oKlnDlzyvHjx0OyTLolciCAAAIIIOAMAdbfzhin1O4lG4CpLRxm/Rs3bpTKlSv7HvvRx3/0sWDd0NOfp0+fLvoOIE0xMTG+v2Bnz549oIVQNgC1QNyNRN0M1Mdl9H1Dp06dEl0sjBkzRi5fvuzbGNR2brvttjAjuXp2JiBLOakMAQQQQMBFAvpvvT4J4E9JvbM3bui6waX/lvvTihUrRP+46KV09uxZ3+9QsbGxQcPWpyeuv/56L5EQKwIIIICAxwVYf3v8Avj/4bMBaMPrYP78+fLUU08F/AIft5u6+bdgwQIpWrRogt6HugGoBfU9gvpi8MR+Qc6bN6/MnTs3wV2IVpAxAVmhSB0IIIAAAm4U0EO3hg8fbkLTE4FnzpyZZKiXLl2SjBkzBuT75Zdf5M4770yyrNsy6B8ud+/eHTSsH374wRym5ra4iQcBBBBAAIFgAqy/uS5UgA1Am14HelrvO++849vo0/+x6i/0uuHXqFEj6dSpk+jjQMFSOBuAWl5PFNa7/fT04YMHD0rmzJl9dxc+9thj8sILL4jeSZAaiQkoNVSpEwEEEEDADQL16tWTefPmmVD0D3YDBgxIMjS9s+2GG24IyHfgwAHJnz9/kmXdlqF+/fry5ZdfBg1LX4+S2DsC3eZAPAgggAACCKgA62+uAzYAuQaiJsAEFDV6GkYAAQQQsLlA8eLFfYd9+dOECROkdevWSfZay2jZuOnChQsJ7gpMsiIXZHjttdfk7bffDhpJ7969pX///i6IkhAQQAABBBAITYD1d2hObs/FHYBuH2GbxscEZNOBoVsIIIAAAlEV0Pfv6l3+Fy9eNP3Qu/Tvu+++JPulh3rdf//9Jp++B+/06dNJlnNjhmnTpkmzZs2Chta4cWOZMWOGG8MmJgQQQAABBIIKsP7mwlABNgC5DqIiwAQUFXYaRQABBBCwucDevXulcOHCAb08dOhQgkd7g4Whj7zqo6/+VKhQIdH6vJi2bt3qO9wsWCpdurToScEkBBBAAAEEvCLA+tsrI331ONkA5DqIigATUFTYaRQBBBBAwOYC3333nTz00EOmlzly5JATJ05ImjRpkuy5Pircpk0bk69MmTKyfv36JMu5MYM++nzNNdeI3lEZP+mdkXpSciimbrQhJgQQQAAB7wmw/vbemAeLmA1AroOoCDABRYWdRhFAAAEEbC7w/vvv+w778qeyZcvKunXrQur1sGHDpHv37iZvzZo1ZdGiRSGVdWOm+O9SjBvj/v37pUCBAm4Mm5gQQAABBBBIIMD6m4tCBdgA5DqIigATUFTYaRQBBBBAwOYCnTt3lnfeecf0smnTpqLvswsl6WnBgwYNMlmbNGki06dPD6WoK/M0atRIZs2aFTS2OXPmBDwu7UoAgkIAAQQQQOD/C7D+5lJgA5BrIGoCTEBRo6dhBBBAAAEbCzzyyCOycOFC08PXX39d+vXrF1KP27VrJ+PHjzd5O3ToIHpHoVfTm2++KW+88UbQ8F999dVETwn2qhdxI4AAAgi4V4D1t3vHNpzIuAMwHC3yWibABGQZJRUhgAACCLhIICYmRnbt2mUimjRpkrRo0SKkCJ944gmZPXt2sjYPQ2rAYZn07j+9CzBYqlWrluj7FkkIIIAAAgh4QYD1txdGOekY2QBM2ogcqSDABJQKqFSJAAIIIOBogUuXLkmWLFkCDq746aef5N577w0prqpVq8qKFStM3lGjRslLL70UUlk3ZtqxY4cUK1YsaGjXXnutHD16lINA3DjwxIQAAgggkECA9TcXhQqwAch1EBUBJqCosNMoAggggICNBfTOP70DMG7STarcuXOH1OtSpUrJ1q1bTd5w7h4MqQGHZfrvv/98JwFfvHgxaM/Vu2jRog6Liu4igAACCCAQvgDr7/DN3FiCDUA3jqoDYmICcsAg0UUEEEAAgYgK6Lv/9B2A/qQbf7oBGGq66aab5MCBAyb7ggUL5OGHHw61uCvz3XXXXbJly5agsU2dOlWefPJJV8ZNUAgggAACCMQVYP3N9aACbAByHURFgAkoKuw0igACCCBgYwE9/VdPAfYnffRXHwEOJcXGxvoeH75w4YLJHs7jw6G04cQ8zZo1S/QU5S5dusiIESOcGBZ9RgABBBBAICwB1t9hcbk2MxuArh1aewfGBGTv8aF3CCCAAAKRF+jUqVPAqb1PPfWUTJ48OaSOnDlzRrJlyxaQl0dcRQYMGCC9e/cOanjffffJqlWrQvIlEwIIIIAAAk4WYP3t5NGzru9sAFpnSU1hCDABhYFFVgQQQAABTwg8+OCDsmjRIhNrv3795PXXXw8p9n379kmhQoUC8h47dkz0sAsvpy+//FLq168flCBr1qxy8uRJSZ8+vZeJiB0BBBBAwAMCrL89MMghhMgGYAhIZLFegAnIelNqRAABBBBwtkDhwoVl7969Johp06ZJ06ZNQwpq06ZNUrp0aZM3bdq0oqcK63+9nPbs2XPVgz70/YAlS5b0MhGxI4AAAgh4QID1twcGOYQQ2QAMAYks1gswAVlvSo0IIIAAAs4V0Hf36R1pV65cMUGsW7dOypYtG1JQS5YskZo1a5q81113nfzzzz8hlXVzJvXUR6PPnTsXNMyPP/5YnnnmGTcTEBsCCCCAAALC+puLQAXYAOQ6iIoAE1BU2GkUAQQQQMCmAtu3b5fixYsH9E4fT82RI0dIPf7888+lSZMmJm9MTIzs3LkzpLJuz3TPPffI+vXrg4b53HPPyZgxY9xOQHwIIIAAAh4XYP3t8Qvg/4fPBiDXQVQEmICiwk6jCCCAAAI2FZg3b57Uq1fP9C5v3rxy+PDhkHurm1gdOnQw+StWrCirV68OubybM7Zq1UomTZoUNES9w1LvtCQhgAACCCDgZgHW324e3dBjYwMwdCtyWijABGQhJlUhgAACCDheYNiwYdK9e3cTR7gn1Pbv3z/gwJC6devK/PnzHe9iRQBDhw6VHj16BK0qQ4YMcvr0acmUKZMVTVEHAggggAACthRg/W3LYYl4p9gAjDg5DaoAExDXAQIIIIAAAv8n0L59exk3bpz5oHXr1jJhwoSQibp27SojR440+Vu2bCmffvppyOXdnHHhwoXyyCOPJBrimjVrpHz58m4mIDYEEEAAAY8LsP72+AXw/8NnA5DrICoCTEBRYadRBBBAAAGbClSvXl2WLVtmejdgwADp1atXyL2N/5hrly5dZMSIESGXd3PGffv2SaFChRINcfTo0dKxY0c3ExAbAggggIDHBVh/e/wCYAOQCyCaAkxA0dSnbQQQQAABuwkULFjQd3e8P82cOVMaNmwYcjf1kd8FCxaY/PpIcO/evUMu7+aMsbGxUqBAATlw4EDQMHXzdOLEiW4mIDYEEEAAAY8LsP72+AXABiAXQDQFmICiqU/bCCCAAAJ2Ejh79qxcc801AV3atGmT3HXXXSF3Uw/9+Omnn0x+PRRET7gl/U9AH6lObJNPT1/etm0bVAgggAACCLhWgPW3a4c2rMB4BDgsLjJbJcAEZJUk9SCAAAIIOF1gy5YtCTb7/v333wSbgleLMyYmRnbt2mWyfP7559KoUSOn01jW/+nTp8uTTz4ZtL40adLIyZMnJXv27Ja1R0UIIIAAAgjYSYD1t51GI3p9YQMwevaebpkJyNPDT/AIIIAAAnEEvvjii4DHfW+66aaAx4FDwcqTJ48cPXrUZF2yZInoewVJ/xP4559/JG/evKKPAwdLy5cvlwceeAAuBBBAAAEEXCnA+tuVwxp2UGwAhk1GASsEmICsUKQOBBBAAAE3CAwaNCjgwI+qVasGHAiSVIxXrlyRDBkyiP7XnzZu3Ch33313UkU99X25cuVk3bp1QWMeOnSodOvWzVMeBIsAAggg4B0B1t/eGeurRcoGINdBVASYgKLCTqMIIIAAAjYUaNOmjUyYMMH07Nlnn5Vx48aF3NNjx47JddddF5BfT77Vg0VI/yfw2muvydtvvx2UpHHjxjJjxgy4EEAAAQQQcKUA629XDmvYQbEBGDYZBawQYAKyQpE6EEAAAQTcIFClShVZtWqVCWXIkCHSvXv3kEPTd//pOwDjpjNnzkjWrFlDrsMLGdVYrYOlwoULy++//+4FBmJEAAEEEPCgAOtvDw56kJDZAOQ6iIoAE1BU2GkUAQQQQMCGAvny5ZPDhw+bns2dO1fq1asXck/19F89BdifMmfOLOfOnQu5vFcyXrp0yXen5OnTp4OGfOTIEdF3KZIQQAABBBBwmwDrb7eNaPLiYQMweW6USqEAE1AKASmOAAIIIOAKgVOnTknOnDkDYtm2bZsUL1485PgWLlwojzzyiMmfnENEQm7M4RkbNGggusEaLH399ddSu3Zth0dI9xFAAAEEEEgowPqbq0IF2ADkOoiKABNQVNhpFAEEEEDAZgIbNmyQsmXLml6lSZNGzp49K3oXX6hp8uTJ0rJlS5O9ZMmSsmXLllCLeyrfmDFjpEOHDkFjfvPNN6VPnz6e8iBYBBBAAAFvCLD+9sY4JxUlG4BJCfF9qggwAaUKK5UigAACCDhMQA+eaNq0qel1oUKFZO/evWFFMWrUKOnSpYspE+4pwmE15vDM+p6/W2+9NWgUdevWlfnz5zs8QrqPAAIIIIBAQgHW31wVKsAGINdBVASYgKLCTqMIIIAAAjYT6N+/v7z++uumVzVr1pRFixaF1Ustr/X40xNPPCGzZs0Kqw4vZb7ttttk9+7dCUK+4YYb5ODBg6J3YZIQQAABBBBwkwDrbzeNZvJjYQMw+XaUTIEAE1AK8CiKAAIIIOAaAX10Vx/h9Sd9PPX9998PKz4to4+2+lO7du3kww8/DKsOL2Xu1KlTosb79u2TggULeomDWBFAAAEEPCDA+tsDgxxCiGwAhoBEFusFmICsN6VGBBBAAAHnCejpvXqKrz+NHDlSOnfuHFYgTZo0kc8//9yU6dWrlwwYMCCsOryUWR/zfeyxx4KG/MUXX8jjjz/uJQ5iRQABBBDwgADrbw8McgghsgEYAhJZrBdgArLelBoRQAABBJwnkCdPHjl69Kjp+FdffRVwom8oEdWqVUsWL15ssg4dOlS6desWSlFP5jl9+rTkzp1b/vvvvwTxv/LKKzJw4EBPuhA0AggggIB7BVh/u3dsw4mMDcBwtMhrmQATkGWUVIQAAggg4FCBY8eOyXXXXRfQ+507d0pMTExYEZUpU0Y2btxoykyYMEFat24dVh1ey6wHpaxYsSJB2DVq1AjYTPWaC/EigAACCLhTgPW3O8c13KjYAAxXjPyWCDABWcJIJQgggAACDhZYs2aNVKhQwUSQLl06OXfunGTIkCGsqPTkYH13nT99+eWXiT7iGlbFLs6sd/m9+uqrCSLMmTOn6MZs2rRpXRw9oSGAAAIIeE2A9bfXRjx4vGwAch1ERYAJKCrsNIoAAgggYCOBKVOmSIsWLUyPihYtKrt27Qq7h9myZZMzZ86Yct9//71Urlw57Hq8VGDDhg1StmzZoCEn5y5ML9kRKwIIIICA8wRYfztvzFKjx2wApoYqdSYpwASUJBEZEEAAAQRcLtC3b1/p16+fibJOnTqycOHCsKK+cOGCZM6cOaDM9u3b5Y477girHq9lvnLliuTLl0+OHDmSIHTdmG3evLnXSIgXAQQQQMDFAqy/XTy4YYTGBmAYWGS1ToAJyDpLakIAAQQQcKZAs2bNZNq0aabzL774orzzzjthBXPw4EG58cYbA8ocPnxY8ubNG1Y9Xsz81FNPyWeffZYg9JdeeklGjRrlRRJiRgABBBBwqQDrb5cObJhhsQEYJhjZrRFgArLGkVoQQAABBJwrUK5cOVm3bp0J4L333pNOnTqFFdAvv/wiJUuWDChz6dIlSZ8+fVj1eDHzpEmTpFWrVglCr1Spkvzwww9eJCFmBBBAAAGXCrD+dunAhhkWG4BhgpHdGgEmIGscqQUBBBBAwJkCsbGxkitXLjl16pQJ4JtvvpGHHnoorID0JFs90daf9BCLEydOhFWHVzMfOnRI8ufPnyD8LFmy+MaFTVSvXhnEjQACCLhPgPW3+8Y0ORGxAZgcNcqkWIAJKMWEVIAAAggg4GCBv//+W2644YaACH7//XcpXLhwWFHNnj1bnnjiCVOmSJEismfPnrDq8HLmu+++WzZv3pyAYNOmTXLXXXd5mYbYEUAAAQRcJMD620WDmYJQ2ABMAR5Fky/ABJR8O0oigAACCDhfQB8xve+++0wgGTNmlLNnz0q6dOnCCm78+PHSrl07U0YfK167dm1YdXg5c8+ePWXIkCEJCNS1bdu2XqYhdgQQQAABFwmw/nbRYKYgFDYAU4BH0eQLMAEl346SCCCAAALOF5g4caK0bt3aBKKn9urpveGmwYMHyyuvvGKK6SPE+igxKTSBpUuXSo0aNRJk1k3VDz/8MLRKyIUAAggggIDNBVh/23yAItQ9NgAjBE0zgQJMQFwRCCCAAAJeFujdu7cMGDDAEDz66KMyb968sEl69OghQ4cONeX0ZOFgJ9uGXbFHCly4cEFy587tu/sybipdurRs2LDBIwqEiQACCCDgdgHW324f4dDiYwMwNCdyWSzABGQxKNUhgAACCDhKoFGjRjJr1izT565du8rw4cPDjqFNmzYyYcIEU+6FF16Qd999N+x6vFzgkUcekYULFwYQ6AEgp0+flsyZM3uZhtgRQAABBFwiwPrbJZ4G9i8AACAASURBVAOZwjDYAEwhIMWTJ8AElDw3SiGAAAIIuEMg/uETY8eOlfbt24cd3IMPPiiLFi0y5d544w3p27dv2PV4uYBumL700ksJCH788UepUKGCl2mIHQEEEEDAJQKsv10ykCkMgw3AFAJSPHkCTEDJc6MUAggggIDzBWJjYyV79uxy5swZE8ySJUukevXqYQV36dIlufbaawPqmTFjhjRu3DiseryeeefOnaLvYIyfdGNQ76gkIYAAAggg4HQB1t9OH0Fr+s8GoDWO1BKmABNQmGBkRwABBBBwjcD+/fvl5ptvDohn3759UrBgwbBi/Omnn6RixYoBZQ4fPix58+YNqx6vZ9YN2cKFC8uff/4ZQNGiRQuZNGmS13mIHwEEEEDABQKsv10wiBaEwAagBYhUEb4AE1D4ZpRAAAEEEHCHwNy5c6VBgwYmmJw5c8rx48clTZo0YQU4cOBAefXVV02ZO++8U3755Zew6iDz/wT01N/x48cHcCT3ZGZMEUAAAQQQsJsA62+7jUh0+sMGYHTcPd8qE5DnLwEAEEAAAc8KvP7669K/f38Tf7Vq1WTp0qVhe8R//1/Hjh1l9OjRYddDAZEvvvhCGjZsmIDi5MmTkiNHDogQQAABBBBwtADrb0cPn2WdZwPQMkoqCkeACSgcLfIigAACCLhJ4OGHH5avv/7ahNStWzcZOnRoWCFevHjR9/6/s2fPmnJ6qvATTzwRVj1k/p/AiRMnJE+ePHL58uUAEt2Y1Q1aEgIIIIAAAk4WYP3t5NGzru9sAFpnSU1hCDABhYFFVgQQQAAB1wjo++by5csnf//9t4lp2rRp0rRp07Bi/OGHH+S+++4LKHPkyBHfJhYpeQKVK1eW1atXBxQePHiw9OjRI3kVUgoBBBBAAAGbCLD+tslARLkbbABGeQC82jwTkFdHnrgRQAABbwv89ddfUqBAgQAEPYU2JiYmLBh9hFgfJfankiVLypYtW8Kqg8yBAv369ZO+ffsGfKiPBc+cORMqBBBAAAEEHC3A+tvRw2dZ59kAtIySisIRYAIKR4u8CCCAAAJuEZg3b57Uq1fPhJM9e3bf46dp06YNK8SaNWvKkiVLTJkXX3xR3nnnnbDqIHOgwJo1a6RChQoBH950002iv7OQEEAAAQQQcLIA628nj551fWcD0DpLagpDgAkoDCyyIoAAAgi4RkDvMNM7zfzpgQcekOXLl4cV34ULFyRXrlxy/vx5U27OnDlSv379sOohc6CAvv8vd+7ccurUqYAv9HHt66+/Hi4EEEAAAQQcK8D627FDZ2nH2QC0lJPKQhVgAgpVinwIIIAAAm4SePTRR+Wrr74yIXXt2lWGDx8eVogrV64U3Tj0pzRp0sg///zj27wipUygUaNGooepxE0LFiwQPbiFhAACCCCAgFMFWH87deSs7TcbgNZ6UluIAkxAIUKRDQEEEEDAVQI33nijHDx40MT02WefSbNmzcKKMf676u6++27ZuHFjWHWQObjAxx9/LG3btg34sk+fPvLmm29ChgACCCCAgGMFWH87dugs7TgbgJZyUlmoAkxAoUqRDwEEEEDALQK68acbgHHT9u3b5Y477ggrxGrVqgU8NtylSxcZMWJEWHWQObhA3N9P/DkqVaokeuoyCQEEEEAAAacKsP526shZ2282AK31pLYQBZiAQoQiGwIIIICAawT00V99BNifsmXLJidPngzrABB975++/0/fA+hPerBI3HpdAxalQPSUZj2t2Z+uueYaOX36tOij1iQEEEAAAQScKMD624mjZn2f2QC03pQaQxBgAgoBiSwIIIAAAq4S0MdI33jjDRPT/fffL/o+v3CSHhiidwD6k54efPToUd+mIMkagdatW8vEiRMDKvvzzz/l5ptvtqYBakEAAQQQQCDCAqy/Iwxu0+bYALTpwLi9W0xAbh9h4kMAAQQQiC9Qr1490bv1/Klz584ycuTIsKDinyJctmxZWbduXVh1kPnqAl9//XWCQz8+/fRTadmyJXQIIIAAAgg4UoD1tyOHzfJOswFoOSkVhiLABBSKEnkQQAABBNwkEP/R0smTJ8tTTz0VVohVqlSRVatWmTLdunWToUOHhlUHma8ucPbsWcmePbtcuXLFZKxfv77MmTMHOgQQQAABBBwpwPrbkcNmeafZALSclApDEWACCkWJPAgggAACbhE4fPiw5MuXLyCcbdu2SfHixUMOUTem9FHfS5cumTL6XsFHHnkk5DrIGJpAkSJF5I8//jCZ8+fPLwcOHAitMLkQQAABBBCwmQDrb5sNSJS6wwZglOC93iwTkNevAOJHAAEEvCWwcOHCgI06PVhCDwBJly5dyBBLliyRmjVrmvxa9tixY5IjR46Q6yBjaALx3wOoB4Doxms44xVaS+RCAAEEEEAg9QVYf6e+sRNaYAPQCaPkwj4yAblwUAkJAQQQQCBRgbfeekv69Oljvq9cubJ8//33YYm99tpr8vbbb5sy5cuXlzVr1oRVB5lDE1i8eLHUqlUrILNu4tapUye0CsiFAAIIIICAjQRYf9toMKLYFTYAo4jv5aaZgLw8+sSOAAIIeE+gQYMGMnfuXBP4iy++KO+8805YELppuHr1alOmR48eMnjw4LDqIHNoArGxsZI+ffqA9wDq+xr1vY0kBBBAAAEEnCbA+ttpI5Y6/WUDMHVcqTUJASYgLhEEEEAAAS8J3HzzzbJ//34Tcrinyp45c8b3/r///vvP1KGn1dauXdtLjBGNNf6YFSpUSPbu3RvRPtAYAggggAACVgiw/rZC0fl1sAHo/DF0ZARMQI4cNjqNAAIIIJAMgSNHjkjevHkDSm7dulVKlCgRcm3fffedPPTQQya/vovuxIkTki1btpDrIGN4Ao0bN5aZM2eaQmnTphU9iCVTpkzhVURuBBBAAAEEoizA+jvKA2CT5tkAtMlAeK0bTEBeG3HiRQABBLwr8M033wS8Oy5Llixy6tQp3yOmoaZevXrJoEGDTPYKFSrIjz/+GGpx8iVDQDf/dBMwbtKxjLsRm4xqKYIAAggggEDEBVh/R5zclg2yAWjLYXF/p5iA3D/GRIgAAggg8D+BAQMGSO/evQ1HxYoVA97lF4qTlvnpp59MVt0Q1HpJqSdw9OhRyZMnT0ADrVq1kokTJ6Zeo9SMAAIIIIBAKgiw/k4FVAdWyQagAwfNDV1mAnLDKBIDAggggEAoAk888YTMnj3bZO3UqZO89957oRT15Tl9+rRce+21cvnyZVNGHwmOf0ptyBWSMWQBdddHrf2pQIECAe9yDLkiMiKAAAIIIBBFAdbfUcS3UdNsANpoMLzUFSYgL402sSKAAALeFrjlllvkzz//NAgTJkyQ1q1bh4yih308/PDDJn+GDBnk+PHjcs0114RcBxmTJ1CjRg1ZunRpQOGDBw9Kvnz5klchpRBAAAEEEIiCAOvvKKDbsEk2AG04KF7oEhOQF0aZGBFAAAEEgj1GunnzZilVqlTIOD179pQhQ4aY/JUrV5bvv/8+5PJkTL6Auqt/3BTuCc7Jb52SCCCAAAIIWCPA+tsaR6fXwgag00fQof1nAnLowNFtBBBAAIGwBOKf3ps5c2bfI73hHABSvnx5+fnnn027r732mrz11lth9YPMyRNYuXKlPPDAAwGF9WCQGTNmJK9CSiGAAAIIIBAFAdbfUUC3YZNsANpwULzQJSYgL4wyMSKAAAII6Mm9emCHP917770Bh3kkJXTy5EnJnTu3XLlyxWRdsmSJVK9ePamifG+BwL///is5cuSQ2NhYU1uuXLlE7+xMmzatBS1QBQIIIIAAAqkvwPo79Y2d0AIbgE4YJRf2kQnIhYNKSAgggAACCQQaNWoks2bNMp936NBB3n///ZClFixYIHXr1jX5M2bM6DuUIkuWLCHXQcaUCcTExMiuXbsCKlm/fr2UKVMmZRVTGgEEEEAAgQgJsP6OELTNm2ED0OYD5NbuMQG5dWSJCwEEEEAgrkCRIkXkjz/+MB999NFH0qZNm5CRunXrJsOHDzf5q1SpIitWrAi5PBlTLqAHtkycODGgogEDBgTc2ZnyVqgBAQQQQACB1BNg/Z16tk6qmQ1AJ42Wi/rKBOSiwSQUBBBAAIGgAseOHZPrrrsu4LuNGzfK3XffHbJY2bJlZcOGDSZ/37595Y033gi5PBlTLvDBBx9Ix44dAyrS9wIuX7485ZVTAwIIIIAAAhEQYP0dAWQHNMEGoAMGyY1dZAJy46gSEwIIIIBAXIHFixdLrVq1zEeZMmXyHQCSIUOGkKD0UV99/1/c988tW7ZMqlatGlJ5MlkjoAew6EEscZMe4qIbvNmzZ7emEWpBAAEEEEAgFQVYf6ciroOqZgPQQYPlpq4yAblpNIkFAQQQQCCYwJAhQ6Rnz57mq3LlysnatWtDxpo3b57Uq1cvYANRNwX1JGFS5AQuXLgg2bJlk//++y+g0S+//FIee+yxyHWElhBAAAEEEEimAOvvZMK5rBgbgC4bUKeEwwTklJGinwgggAACyRVo0qSJfP7556b4c889J2PGjAm5ui5dusioUaNM/mrVqsnSpUtDLk9G6wR083bdunUBFepjwaNHj7auEWpCAAEEEEAglQRYf6cSrMOqZQPQYQPmlu4yAbllJIkDAQQQQCAxgaJFi8qePXvM1+PGjZNnn302ZLDSpUvLpk2bTP4333xT+vTpE3J5MlonoKc3x9+81fGNfzqwdS1SEwIIIIAAAtYJsP62ztLJNbEB6OTRc3DfmYAcPHh0HQEEEEAgSQF9VPfaa68NyLd+/XopU6ZMkmU1g75fLk+ePAHv/1u5cqXcf//9IZUnk7UCn3zyiTzzzDMJKtUNXj3pmYQAAggggICdBVh/23l0Itc3NgAjZ01LcQSYgLgcEEAAAQTcLKCHdVSvXt2EmDFjRt8BIPrfUNKcOXPk8ccfN1mzZMkix48fFz1IhBR5gV9++UVKliyZoOF3331XXnjhhch3iBYRQAABBBAIQ4D1dxhYLs7KBqCLB9fOoTEB2Xl06BsCCCCAQEoFhg0bJt27dzfVlC1bNsE75K7WxosvvijvvfeeyVKjRg3RU4VJ0RG4fPmy5MyZU86cORPQgXAPdolO72kVAQQQQMDrAqy/vX4F/C9+NgC5DqIiwAQUFXYaRQABBBCIkMCTTz4p06dPN621a9dOPvzww5BbL1WqlGzdutXk79+/v/Tu3Tvk8mS0XqBKlSqyatWqBBXr3YF33nmn9Q1SIwIIIIAAAhYJsP62CNLh1bAB6PABdGr3mYCcOnL0GwEEEEAgFIGYmJiAAyLGjh0r7du3D6WoHDlyRPLmzRuQ94cffpBKlSqFVJ5MqSPQrVs3GT58eILK9fOhQ4emTqPUigACCCCAgAUCrL8tQHRBFWwAumAQnRgCE5ATR40+I4AAAgiEInDy5EnJlStXQNaff/5Z7rnnnlCKy6xZs6RRo0Ymb9asWX3v/wv1/YEhNUKmsAVmzJghTZs2TVDuhhtukP3790uGDBnCrpMCCCCAAAIIREKA9XcklO3fBhuA9h8jV/aQCciVw0pQCCCAAAIismLFCqlataqx0I0hPQAk1AM8OnXqJO+//74p/+CDD8q3336LbZQFfv/9d7n11luD9mL+/PlSt27dKPeQ5hFAAAEEEAguwPqbK0MF2ADkOoiKABNQVNhpFAEEEEAgAgIjRoyQl19+2bRUunRp2bBhQ8gt6/vkfv31V5N/4MCB8sorr4RcnoypIxAbGyvXX3+9HD16NEEDTzzxhO/OTRICCCCAAAJ2FGD9bcdRiXyf2ACMvDktiggTEJcBAggggIBbBZo3by5Tp0414bVp00Y++uijkMI9fPiw5MuXLyDvjz/+KBUqVAipPJlSV6B27dpB78bUuzwPHDggefLkSd0OUDsCCCCAAALJEGD9nQw0FxZhA9CFg+qEkJiAnDBK9BEBBBBAIDkCd9xxh+zcudMU/eCDD+T5558PqarPP/9cmjRpYvJmy5ZNjh07xvvlQtJL/UxDhgyRnj17Bm3o3XfflRdeeCH1O0ELCCCAAAIIhCnA+jtMMJdmZwPQpQNr97CYgOw+QvQPAQQQQCA5Avquv5w5c4o+LupPa9askfLly4dUnW4U6onB/lSnTh1ZuHBhSGXJlPoCe/bskaJFiwZtKNxHvVO/t7SAAAIIIIDA/wRYf3MlqAAbgFwHURFgAooKO40igAACCKSywKpVq6RKlSqmlfTp0/sOAMmcOXNILce/e3Dw4MHSo0ePkMqSKTICutG3adOmoI3p53fddVdkOkIrCCCAAAIIhCjA+jtEKJdnYwPQ5QNs1/CYgOw6MvQLAQQQQCAlAqNGjZIuXbqYKnQzKLHNovjtHDx4UG688caAj9euXSvlypVLSZcoa7FA//795fXXXw9aa+fOnWXkyJEWt0h1CCCAAAIIpEyA9XfK/NxSmg1At4ykw+JgAnLYgNFdBBBAAIGQBFq0aCFTpkwxeVu3bi0TJkwIqey0adOkWbNmJm+OHDl8J87qXYQk+wjs2LFDihUrFrRDegjIX3/9JRkzZrRPh+kJAggggIDnBVh/e/4S8AGwAch1EBUBJqCosNMoAggggEAqCxQvXly2b99uWhk9erR07NgxpFbbtWsn48ePN3nr1q0r8+fPD6ksmSIrcOedd8qvv/4atNG5c+dKvXr1ItshWkMAAQQQQOAqAqy/uTzYAOQaiJoAE1DU6GkYAQQQQCCVBM6cOSPZs2cPOADkxx9/lAoVKoTUYkxMjOzatcvkHTZsmLz88sshlSVTZAX69Okjb731VtBGdfNPNwFJCCCAAAII2EWA9bddRiK6/eAOwOj6e7Z1JiDPDj2BI4AAAq4V+OGHH+S+++4z8aVLl853AEiWLFmSjFkfGy1QoEBAvvXr10uZMmWSLEuGyAts2bIl0cM+9JFtHc+8efNGvmO0iAACCCCAQBAB1t9cFirABiDXQVQEmICiwk6jCCCAAAKpKPDuu+/KSy+9ZFooWbKk6EZRKEnfG6jvD/SnXLlyyT///CO6iUiyn0BsbKzoHZu7d+8O2rkRI0YEHAZjvwjoEQIIIICAlwRYf3tptBOPlQ1AroOoCDABRYWdRhFAAAEEUlGgVatWMmnSJNOC/jxx4sSQWmzbtq18/PHHJu9jjz0mX375ZUhlyRQdgV69esmgQYOCNq6bv5s3b5Y0adJEp3O0igACCCCAQBwB1t9cDirABiDXQVQEmICiwk6jCCCAAAKpKFCiRAnZtm2baUHvCHzhhRdCavHWW2+V33//3eQdOXKkdO7cOaSyZIqOwLp166RcuXKJNs4j3NEZF1pFAAEEEEgowPqbq4INQK6BqAkwAUWNnoYRQAABBFJB4OzZs74DQK5cuWJq13cCVqpUKcnW9u3bJ4UKFQrIt2nTpkTfMZdkhWSIiIA+Bly4cGH5888/g7anm7+6CUxCAAEEEEAg2gKsv6M9AvZonzsA7TEOnusFE5DnhpyAEUAAAVcL6Gm/cTf70qZN6zsAJGvWrEnGrY8N6+PC/pQ7d245cuSIaB0kewvoKc36vr9gScfxwIEDkilTJnsHQe8QQAABBFwvwPrb9UMcUoBsAIbERCarBZiArBalPgQQQACBaAqMHj064HHfO++8U3755ZeQutS6deuAdwU2aNBAZs+eHVJZMkVXYPXq1VK5cuVEOzFr1ix54oknottJWkcAAQQQ8LwA62/PXwI+ADYAuQ6iIsAEFBV2GkUAAQQQSCWB+Jt4eqJv3ANBrtbsLbfcEvAYaTjvDkylcKg2RAF95LtgwYK+O/2Cpbp168r8+fNDrI1sCCCAAAIIpI4A6+/UcXVarWwAOm3EXNJfJiCXDCRhIIAAAgj4BEqVKiVbt241GqNGjZKXXnopSZ29e/f63iMXN23ZskX0FFmSMwT0XX96B2iwlC5dOtHfefLly+eMYOglAggggIArBVh/u3JYww6KDcCwyShghQATkBWK1IEAAgggYAeBc+fO+Q4AuXz5sunOqlWr5L777kuye5988ok888wzJl+ePHnk8OHDvP8vSTn7ZFi+fLlUq1Yt0Q4NHTpUunXrZp8O0xMEEEAAAc8JsP723JAHDZgNQK6DqAgwAUWFnUYRQAABBFJBYM2aNVKhQgVTc5o0aeTUqVOSLVu2JFtr2bKlTJ482eRr2LChzJw5M8lyZLCPgG785s+f33dwS7BUvHhx3/sg9bogIYAAAgggEA0B1t/RULdfm2wA2m9MPNEjJiBPDDNBIoAAAp4Q+OCDD6Rjx44m1mLFismvv/6aZOyxsbFy8803+x4R9Sd9lDRuXUlWQgZbCLRv317GjRuXaF/Wrl0r5cqVs0Vf6QQCCCCAgPcEWH97b8yDRcwGINdBVASYgKLCTqMIIIAAAqkg0KZNG5kwYYKpuXnz5jJlypQkW9qzZ48ULVo0IN+2bdtE7xgjOUvgu+++k4ceeijRTnfo0EHef/99ZwVFbxFAAAEEXCPA+ts1Q5miQNgATBEfhZMrwASUXDnKIYAAAgjYTaB06dKyadMm060RI0ZIly5dkuzmRx99JM8++6zJlzdvXjl06BCPiiYpZ78Mly5dkhtuuEGOHz8etHO5cuWSgwcPSubMme3XeXqEAAIIIOB6Adbfrh/ikAJkAzAkJjJZLcAEZLUo9SGAAAIIREPg/PnzvgNA/vvvP9P8ihUrpEqVKkl2R+8UnDp1qsnXuHFjmTFjRpLlyGBPgdatW8vEiRMT7ZyOrY4xCQEEEEAAgUgLsP6OtLg922MD0J7j4vpeMQG5fogJEAEEEPCEwM8//yzly5cPiFUPANFNwaslff9fgQIF5MCBAybbmDFj5LnnnvOEmxuD/Oqrr+TRRx9NNLTatWvL119/7cbQiQkBBBBAwOYCrL9tPkAR6h4bgBGCpplAASYgrggEEEAAATcIjB07Vp5//nkTSkxMjOzcuTPJ0H777Te5/fbbA/Lt2LEjwWdJVkQG2whcuHBBrr/+ejl9+nTQPqVNm1b27dsnN910k236TEcQQAABBLwhwPrbG+OcVJRsACYlxPepIsAElCqsVIoAAgggEGEBfYefvsvPn5588smAx3oT686HH34YcLdf/vz55a+//uL9fxEeP6ubi/9Yd7p06eTy5cummYEDB8orr7xidbPUhwACCCCAwFUFWH9zgagAG4BcB1ERYAKKCjuNIoAAAghYLFC2bFnZsGGDqXXYsGHy8ssvJ9mKbhROnz497I3DJCsmQ1QFZs+eLU888USifdC7Prdv385Gb1RHicYRQAAB7wmw/vbemAeLmA1AroOoCDABRYWdRhFAAAEELBTQRz71XX96Aqw/LVu2TKpWrXrVVvT9f3rH3+HDh02+cePGBZwIbGE3qSqCAmfPnvU9Bqz/TSytXr1aKlasGMFe0RQCCCCAgNcFWH97/Qr4X/xsAHIdREWACSgq7DSKAAIIIGChwPr16+Wee+4JqPHEiROSM2fOq7YS7P1/u3btkqJFi1rYO6qKlkCjRo1k1qxZpvmsWbMGbAi2a9dO9BFwEgIIIIAAApESYP0dKWl7t8MGoL3Hx7W9YwJy7dASGAIIIOAZAb1rr3379iZe3cDTjbyk0ieffCLPPPOMyZYvXz7facBp0qRJqijfO0BgxowZ0rRpU9NTPfzjypUr5uccOXLIoUOHJEuWLA6Ihi4igAACCLhBgPW3G0Yx5TGwAZhyQ2pIhgATUDLQKIIAAgggYCsB3fzTTUB/atKkScB7/RLrbNu2beXjjz82Xzds2FBmzpxpq9joTPIF9BRgfQxYHxH3J93c1Ue//emzzz6TZs2aJb8RSiKAAAIIIBCGAOvvMLBcnJUNQBcPrp1DYwKy8+jQNwQQQACBUATKlSsn69atM1mHDBki3bt3T7LoHXfcITt37jT5Ro4cKZ07d06yHBmcI1CvXj2ZN2+e6XCePHnkn3/+MT/XqlVLvvvuO+cERE8RQAABBBwtwPrb0cNnWefZALSMkorCEWACCkeLvAgggAACdhO4ePGi7wAQ/a8/LVmyRKpXr37VruomkN4dFjetXbtWdDOR5B6ByZMnS8uWLU1A6dOnl//++8/8rHcE7t27V26++Wb3BE0kCCCAAAK2FWD9bduhiWjH2ACMKDeN+QWYgLgWEEAAAQScLLBx40YpU6ZMQAjHjx+XXLlyXTUsvStM7w7zJz0gQg8OyZAhg5M56Hs8AR3TvHnzBpwQre/8O3funMnZv39/6d27N3YIIIAAAgikugDr71QndkQDbADadJj+/PNPeffdd2XBggWyf/9+yZQpk9x6663SuHFj6dixo+iCwep09uxZKVGihPzxxx++qgsVKuT763RqJCag1FClTgQQQACBSAl89NFH8uyzz5rmihQpInv27Emy+Z49e4o+KuxPVatWlWXLliVZjgzOE6hTp4588803puOFCxc2v2Pph3pojJ4IzeEvzhtbeowAAgg4TYD1t9NGLHX6ywZg6rimqNb58+fLU089JadOnQpaT0xMjG9jUH9xtDJ169ZNhg8fbqpkA9BKXepCAAEEEHCTQIcOHWTMmDEmpEaNGsnnn3+eZIj33Xef/PDDDybfa6+9Jm+99VaS5cjgPAE96EUPfPEn/WNu3INB9PNVq1aJXhMkBBBAAAEEUlOADcDU1HVO3WwA2mys9JGiypUr+x4RyZYtm/Tq1UuqVavm+3n69Okyfvx4X491E1BfPK7vH7Iiabv6/iF9BEn/T0+wYwPQClnqQAABBBBwo8C9994r+u4+fxo0aJDo3X1XS+fPn5ecOXMGvDfw66+/ltq1a7uRyPMx6fse8+XLJ5cvXzYWN954oxw4cMD83KZNG9G7SUkIIIAAAgikpgAbgKmp65y62QC02VhVqVLF99dgfVn0ypUrpWLFigE9HDp0qPTo0cP3Wd++rFgQxAAAIABJREFUfeWNN95IcQT6i6kuZNavXy/9+vUT/Yu1PoLMBmCKaakAAQQQQMCFApcuXfL9AS7u3VyLFi2SmjVrXjVavfMv7t1e+uinvjdQNwVJ7hSoUaOGLF261AR31113yebN/4+9s4CWsur6+JbukBYQJFVKQBpEOhWRkhIQkC4J6S5FOgVEWkRAeClRaSSlOyUWDdJd3/qf95vnnbl37p1n5s7ME/Pfa911gXtin995OHPPfnbs1/6Ol71XrlyR+PHj2xMAV0UCJEACJGAKAjQAmmIbDFeCBkDDt+B/CsCTAIY4SIsWLWTKlCnhtHv58qXK03f06FGVaPzatWtRThw+atQo6dy5s2TPnl0OHDigvAtpADTRg0FVSIAESIAETEUABpz33nvPRaebN2/K66+/HqmeyP3n7CWYK1cu9blLsS8BhIkjXNwhMPQhqgO/zzlk9uzZ0rBhQ/tC4MpIgARIgAQMJ0ADoOFbYAoFaAA0xTb8V4mePXvKsGHD1J+3b9+uGQPDqogwI4QGQ9asWSPly5f3eRUw9OXIkUMePHigkpAjGXnGjBlpAPSZKDuSAAmQAAnYncCMGTMEoZsOweemo4BWZGtH9V9UAXZIy5YtXfII2p1bKK4P3n0I+3316pW2fFSP3rNnj/Z3pHpx9hIMRU5cMwmQAAmQQGAJ0AAYWL5WGZ0GQBPtlCP8F2+Hb9++rcKA3cm2bdukaNGi6kd9+/aVAQMG+LyKKlWqyKpVq9SbZ7yBhtAA6DNOdiQBEiABEggBAm3btpWJEydqK61Ro4YsWrQo0pXDAJQiRQqBp6BD5s6dK/Xr1w8BYqG9RMfvdw4KJUuWlI0bN7pAgQEZv39RSIAESIAESCAQBGgADARV641JA6CJ9gwXAySMRn6Yffv2RagZ8gU5woz0Vh10NxiKitStW1eSJk0qx48fVxcTGgBN9EBQFRIgARIgAVMSQH5eeOo7ZOjQoZpnfkQKHzt2TN555x0afUy5o4FVauzYsdKxY0dtEuR8RP5HvOx1iL/yOgd2JRydBEiABEjAqgRoALTqzvlXbxoA/cvT59FQGTBu3LiqP7zyVqxYEelYSBqNsN3ChQsLPAK9FRgRcRG5evWqfP/99/Lll19qQ/jDAxAHTGRy+fJlKViwoGpy4cIFSZcunbdLYHsSIAESIAESCDqB58+fS6JEiVQeN4foSceBAlvNmjXT+iAsFJ+VMARR7E0Av+e8+eabLousWrWqy+96ceLEUWHAYYu/2ZsMV0cCJEACJBAsAjQABou0ueehAdAk+3P9+nVJmTKl0qZOnToC77zIJFWqVKoACAqCHDx40OtV4BKCywh+0URVQucLiD8MgN5caGgA9Hr72IEESIAESMAgAvjMzZ07t8vs+AxPnjx5pBp98cUX8uOPP2ptouLBb9DSOW0UCOCF7Y4dO7QRPvnkE1m6dKnLiMmSJVMvdbNmzRqFmdiVBEiABEiABMIToAGQTwUI0ABokufA+e2wcz6+iNTDm2T0yZw5s5w6dcqrVWzatEkV+4gePbrs3r073EWGBkCvcLIxCZAACZBACBGYOXOmNGnSRFsxPo9RUMuTZM+eXU6cOKE1GzNmjHTo0MFTN/7cJgRGjBgh3bp101aDtCvVq1eXqVOnuqwwS5YssnXrVi0ti02Wz2WQAAmQAAkYTIAGQIM3wCTT0wBoko0IlgfgkydPVI5B5Pzr3LmzfPfdd+EI+MMAyBBgkzxYVIMESIAESMCvBNq3by/jx4/XxoQRZ8mSJZHO4fwZ72j4999/S/78+f2qGwczL4EzZ86ol7bO8vvvv8uoUaPkt99+c/l3eAsiHNiRGsa8q6JmJEACJEACViFAA6BVdiqwetIAGFi+ukcPVg5AVA0eNGiQpE+fXo4ePSqoOBxW/GEA9LRwHkCeCPHnJEACJEACZiRQrFgx5aHlkMGDB0uvXr0iVXXZsmWCkE+H4LMXBSBixIhhxiVSpwARyJcvn+zdu1cbvU2bNjJs2DBBleCwxd9gWP7ll19UtAaFBEiABEiABKJKgPfvqBK0R38aAE20j8gfdPPmzYBWAY4dO7Y8ffpUhS+VL1/e7erbtWunqhFDH4eXA/ITli5d2m+0eAD5DSUHIgESIAESCBKBFy9eqAIgDx8+1GZcvXq1VKxYMVINunbt6uJxj8/TtWvXBklrTmMWAkOGDJHevXtr6qRJk0YVgrly5YrKyXz+/HkXVVE5ePTo0WZRn3qQAAmQAAlYmADv3xbePD+qTgOgH2FGdSi8Ad68ebPyyovMMwAJoosWLaqmg0ffgAEDdE/tTXEO50FLliwpGzZs0D2Pp4Y8gDwR4s9JgARIgATMRuDw4cOq+JazXL16VSviFZG++MzGZ7dD+vTpIwMHDjTb8qhPgAkg/crbb7/tMsuWLVsEXqV4tvD9zp07Lj+HARCGQAoJkAAJkAAJRIUA799RoWefvjQAmmgve/bsqUJBINu3b5dChQq51W748OHSo0cP9bM1a9ZE6MnnrjMNgCbacKpCAiRAAiRgKQKzZ8+WRo0aaTqnS5dOFeSKTJDiI3HixMr73iHI+VahQgVLrZ3K+ocADMgw9jmkU6dOKg8gZP369eq5ePbsmfZz/N6GUOAaNWr4RwGOQgIkQAIkEJIEaAAMyW0Pt2gaAE30HOzcuVMz+rVo0UKmTJkSTruXL18q7wPk70uSJIlcu3ZNYsaM6ddVMAegX3FyMBIgARIgAZsQgPEPRkCHVKtWTZYuXRrp6uDhVaJECa1NtGjR5NatWyqUmBJ6BPr16+fi/Ykq0mfPnhXHC9p58+ZJgwYNXMDEiRNHhYw7oj9CjxpXTAIkQAIkEFUCNABGlaA9+tMAaLJ9dIQBIzH4pk2bVE4YZxkxYoR069ZN/RN+iezfv7/LzxGmW6pUKfVvuKjMnDnT6xXSAOg1MnYgARIgARKwOQHk/0uVKpXK1esQ5Mlt27ZtpCv/5ptvpHv37lqbPHnyhCv4YHN0XJ4TgYMHD0ru3LldmOAFcIECBbR/Gzp0aLjCMsmSJVNh5FmzZiVPEiABEiABEvCaAA2AXiOzZQcaAE22ragOhxwwjx49kgQJEgjCgmHQw98XLFggU6dOVRpny5ZN/v77b0mYMCENgCbbQ6pDAiRAAiRgPwJhPfmwQnhuZciQIdLFfvTRR7JixQqtTevWrWXixIn2A8QV6SLw6tUryZ49u5w8eVJr//XXXwvSuzgEbRAJMm3aNJcxM2fOrIyAKVKk0DUXG5EACZAACZCAgwANgHwWQIAGQBM+B8uXL1fhH3fv3nWrHYx/K1eulCxZsoT7OT0ATbihVIkESIAESMDyBOB9Dy98h8CLa//+/ZGuC2k7YKz5999/tXYI8axXr57leXABvhNAHmdngx9+nztx4oQWBoyRnz9/LjAeI1+ksyA/9Lp16yRevHi+K8CeJEACJEACIUeABsCQ23K3C6YB0KTPwblz52Ts2LHK0If/rLFixVIGv1q1aqlwo4h+8aMB0KQbSrVIgARIgAQsTQDVW1HF1SG9e/eWQYMGRbom5Ot99913Xdro8Rq0NCgq75HA7t275f3333dpt2/fPkF4uLPcu3dPSpYsKYgOcZbq1aurwiDRo0f3OBcbkAAJkAAJkAAI0ADI5wAEaADkc2AIAR5AhmDnpCRAAiRAAj4QgHcWwjadJWzeNnfDTp8+XZo3b679CFWDz58/7+Lp5YM67GJxAgjxzZQpkwohd0ifPn1cioM4/v3SpUsqHzSeG2fp0KGDjBkzxuIkqD4JkAAJkECwCPD+HSzS5p6HBkBz749tteMBZNut5cJIgARIwHYERo4cKV26dNHWlTp1arl48aKgom9k0qRJE5diXHXq1FH5fCkkgOcJz5VDYByGh6m7CI/Dhw+r/NB37txxATd69Gjp2LEjYZIACZAACZCARwK8f3tEFBINaAAMiW023yJ5AJlvT6gRCZAACZCAewIIw9y0aZP2Q3j1OYpyRcYMFVtPnTqlNRk3bpy0a9eOmElAduzYIYULF3Yh0a9fP+nfv79bOuvXr5cKFSrIs2fPtJ+/9tprKhS4Ro0aJEoCJEACJEACkRLg/ZsPCAjQAMjnwBACPIAMwc5JSYAESIAEvCRw8+ZNSZkypaCgh0NQrKtq1aqRjnT16lWBp6CzIPdbvnz5vNSAze1IAGHAZcuWVQU9HBInThxB3siMGTO6XTIKyKBInLPEjh1bjVG0aFE7YuKaSIAESIAE/ESA928/gbT4MDQAWnwDrao+DyCr7hz1JgESIIHQIjB37lxp2LChtui4ceMKjIL4Hpn8+uuv8umnn2pN4sePL7dv35YYMWKEFkCuNkIChw4dkvfee09evHihtYE336JFiyLsM2zYMOnZs6fLz5MlSyZbt26VbNmykTYJkAAJkAAJuCXA+zcfDBCgAZDPgSEEeAAZgp2TkgAJkAAJeEmgdu3aKszSIR9//LEsW7bM4yhhc7yVKVNG/vzzT4/92CC0CLRv317Gjx/vsui1a9dK6dKl3YKA52DLli3DhaCjqMi2bduUtyqFBEiABEiABMIS4P2bzwQNgHwGDCPAA8gw9JyYBEiABEhAJ4EnT55IihQp5N69e1oPVPZt2rSpxxFQuXX79u1au8jyu3kcjA1sS+DWrVuCXJHwKnVIjhw5ZN++fRF6iz5//lyqVasmq1atcuFSqFAhFQ7srpCIbQFyYSRAAiRAAroI8P6tC5PtG9ED0PZbbM4F8gAy575QKxIgARIggf8R+P3331XhBYeg6MLly5clVapUkWJ69OiRJE6c2KVgA8YqV64c8ZJAOAIoKNOiRQuXf/dUMOb+/fuC4jR79uxx6Ve9enVZvHix4FmlkAAJkAAJkICDAO/ffBZAgAZAPgeGEOABZAh2TkoCJEACJOAFgbZt28rEiRO1HqjaijBLT4KKwTDOOCRatGgq/1/ChAk9deXPQ5AAcgAWKFBA9u7dq60+SZIkcuLECeWBGpHAGI1n8vz58y5N8My2bt06BElyySRAAiRAAhER4P2bzwYNgHwGDCPAA8gw9JyYBEiABEhABwHkWkM1VmfjypAhQ8IVYHA3VNhCDSj04Gzc0TE9m4QYgS1btkiJEiVcVv3ll1/K999/HymJI0eOqArAd+7c0dqhQM3+/ftVaDGFBEiABEiABECA928+BzQA8hkwjAAPIMPQc2ISIAESIAEdBGBAgeHOWQ4ePCg5c+b02Ltq1aqycuVKrV2bNm1kwoQJHvuxQWgTqF+/vsyfP1+DgDDev//+W/LlyxcpmDVr1kjFihVd2sAzcPPmzaw6HdqPFFdPAiRAAhoB3r/5MNAAyGfAMAI8gAxDz4lJgARIgAR0EBg0aJD07dtXa/nWW2/J6dOnPeZWe/nypSRPnlxQ3MEhP/30k3z22Wc6ZmWTUCZw8eJFyZ49uzx48EDDUKxYMWXI85TTL2y4OgbQ67Eaysy5dhIgARIIFQK8f4fKTke+TuYA5HNgCAEeQIZg56QkQAIkQAI6CSAnG7yvHNKhQwcZM2aMx94IyUQVV2dBGHH69Ok99mUDEhg6dKj06tXLBcS8efOkXr16kcKB0TBv3rxy8uRJrV2MGDFk586d6t8pJEACJEACoU2A9+/Q3n/H6mkA5HNgCAEeQIZg56QkQAIkQAI6CFy6dEnSpk3r0nLt2rVSunRpj73DVnSF4S9skQaPg7BByBJ4/PixMiCfOXNGY/DGG2/I8ePHJUGCBJFy2b59u8BjEF6oDkHI+q5duyROnDghy5QLJwESIAESYA5APgP/JUADIJ8EQwjQAGgIdk5KAiRAAiSgg0BYI17ixInl+vXrEjNmTI+9GzVqJLNnz9baIfQXIcAUEtBL4D//+Y9Uq1bNpXmPHj0E3oGepHfv3ir011m6du0q3377raeu/DkJkAAJkICNCfD+bePN9WJpNAB6AYtN/UeAB5D/WHIkEiABEiAB/xIIW8TDGyNelixZVK5Ah4wfP16Qn41CAnoJoAJ1pUqVBMU9HBIrVixBeHnmzJkjHebp06dSqFAh2bdvn9YO+QM3btwYrsqwXn3YjgRIgARIwPoEeP+2/h76YwU0APqDIsfwmgAPIK+RsQMJkAAJkEAQCCCXWrJkyeTJkyfabKjMWrduXY+zX716VVKnTu3Sbu/eveGqCXsciA1CnsCxY8ckV65c8vz5c43Fxx9/LMuWLfPI5tChQ5I/f36BMdAhKGKDytYJEyb02J8NSIAESIAE7EeA92/77akvK6IB0Bdq7BNlAjyAooyQA5AACZAACQSAAAwsn3zyiTYyCilcu3ZNkiZN6nG2JUuWSI0aNbR2MLagGnD06NE99mUDEghLoHPnzjJq1CiXf169erVUrFjRI6zvvvtOEPrrLM2bNxeEt1NIgARIgARCjwDv36G35+5WTAMgnwNDCPAAMgQ7JyUBEiABEvBAoGnTpjJjxgytValSpWTdunW6uH311VcyevRorW25cuXk999/19WXjUggLIE7d+5ItmzZlAHaIdmzZ5cDBw4IQoIjkxcvXgie3c2bN7s0W7FihVSpUoWwSYAESIAEQowA798htuERLJcGQD4HhhDgAWQIdk5KAiRAAiQQCQEYTdKkSaMKfjgEBr2OHTvq4obcazt37tTa9u/fX/r166erLxuRgDsCP/74o3zxxRcuPxo5cqTA2OxJUEk4T548cv/+fa1pqlSpBCHCyZMn99SdPycBEiABErARAd6/bbSZUVgKDYBRgMeuvhPgAeQ7O/YkARIgARIIDIFt27ZJ0aJFXQY/deqUx8IL6PDw4UNBtWDnnG1//PGHlC1bNjDKctSQIPDy5UspXLiw7Nq1S1svQstPnDgRLt+kOyDTp08XhP46S82aNWXhwoWC4iAUEiABEiCB0CDA+3do7LOnVdIA6IkQfx4QAjyAAoKVg5IACZAACUSBQM+ePWXYsGHaCDly5FDeUnoEVVY//PBDrSny/iH/H4su6KHHNpER2L59uxQpUsSlSZMmTVxC1SPqj4rCKB6C0F9nmTdvntSrV4/gSYAESIAEQoQA798hstEelkkDIJ8DQwjwADIEOyclARIgARKIhEDOnDnl8OHDWovu3bu7GAQjgzd06FDp1auX1iRfvnyye/du8iYBvxBo3LixzJo1y2WsHTt2SMGCBT2Of+XKFcGzffPmTa1tkiRJ5ODBg5IuXTqP/dmABEiABEjA+gR4/7b+HvpjBTQA+oMix/CaAA8gr5GxAwmQAAmQQAAJnD59WrJkyeIyw9atW8N5XkWkAgorrFq1Svtxu3btZNy4cQHUmEOHEoHLly+rgiDO+fyQcxLPaLRo0TyiWLx4sSD011kQnr5mzRpd/T1OwAYkQAIkQAKmJsD7t6m3J2jK0QAYNNScyJkADyA+DyRAAiRAAmYiMGbMGOnUqZOmUsqUKeXSpUuCUF5PgjxtyZIlk9u3b2tNFyxYIHXq1PHUlT8nAd0ERowYId26dXNpP3PmTGnUqJGuMRo2bChz5851aTthwgRp06aNrv5sRAIkQAIkYF0CvH9bd+/8qTkNgP6kybF0E+ABpBsVG5IACZAACQSBQOnSpWX9+vXaTKi8+sMPP+iaGXkCc+XK5dL2woULDK/URY+N9BJ4+vSpes5QAMQhqOqLvydKlMjjMDBQIxT44sWLWtu4cePKvn37lHchhQRIgARIwL4EeP+27956szIaAL2hxbZ+I8ADyG8oORAJkAAJkEAUCaBYR4oUKeTFixfaSL/++qt88sknukb+/vvvpWXLllrbDBkyyNmzZ3X1ZSMS8IbA6tWrpXLlyi5dunTpIvAO1COoTF2+fHmXpggl3rJli8SIEUPPEGxDAiRAAiRgQQK8f1tw0wKgMg2AAYDKIT0T4AHkmRFbkAAJkAAJBIfATz/95FIRNXbs2KpgQvz48XUp8Pnnn8ucOXO0tqiuiiqrFBIIBIGqVavKypUrtaFhuIMXavbs2XVNh/yUCP11lsGDB7sUsdE1EBuRAAmQAAlYhgDv35bZqoAqSgNgQPFy8IgI8ADis0ECJEACJGAWAnXr1hXk7HMICnqsWLFCt3qZM2eWM2fOaO0nTpworVu31t2fDUnAGwInT56UHDlyyLNnz7RuFStWVEVoXnvtNY9DPXz4UPLmzesSSgwj4s6dO9W/U0iABEiABOxHgPdv++2pLyuiAdAXauwTZQI8gKKMkAOQAAmQAAn4gQCMKAj/vXPnjjYaQnq//PJLXaOjOusbb7zh0hY51fLkyaOrPxuRgC8EunfvLt98841L1+XLlwu8A/XIjh07pGjRooICNg6BUfHvv/+WOHHi6BmCbUiABEiABCxEgPdvC21WAFWlATCAcDl0xAR4APHpIAESIAESMAOBdevWSZkyZVxUQZGEsEa9iHRdtGiR1KpVS/sxijH8+++/uqoHm2H91MGaBO7du6dCfmGAdgg8UQ8fPiwIYdcjffr0EYT+Oos3+QT1zME2JEACJEAC5iDA+7c59sFoLWgANHoHQnR+HkAhuvFcNgmQAAmYjEDHjh1l7Nixmlbvv/++7Nq1S7eWnTp1kjFjxmjtK1SoIL/99pvu/mxIAr4SQN5J5J90lmHDhgm8A/UIqgoXLlxY9u7dqzVHCPGGDRvkgw8+0DME25AACZAACViEAO/fFtmoAKtJA2CAAXN49wR4APHJIAESIAESMJrAq1evBF5T//zzj6bKwIEDBZ5ReqVgwYIuBkNv++udh+1IICwBhO8WL15ctm3bpv0IhWuOHDkib775pi5g8BjMnz+/PHnyRGufMWNGOXDggCRMmFDXGGxEAiRAAiRgfgK8f5t/j4KhIQ2AwaDMOcIR4AHEh4IESIAESMBoAqicmitXLhc1vMnf9+DBA0mSJIk8f/5cG2Pt2rVSunRpo5fG+UOEAHL2wQgNY7ZDypUrJ2vWrNFVEAR9Ro4cKQj9dZZmzZrJtGnTQoQil0kCJEAC9ifA+7f991jPCmkA1EOJbfxOgAeQ35FyQBIgARIgAS8JIFyyZ8+eWi94TZ09e1a34WT9+vUuxr7o0aOrYiLwwqKQQLAIoGBNWGOdN4VsXrx4oZ7jTZs2uag8aNAg6dGjB/NZBmsjOQ8JkAAJBJAA798BhGuhoWkAtNBm2UlVHkB22k2uhQRIgASsSaBIkSKyfft2Tfk2bdrIhAkTdC8GBRScw4URSgmPLAoJBJPA7du3JWfOnILiNQ5JkCCBwMM1Q4YMulRBGHzu3Lnl/v37Lu0RYoxcgwgLppAACZAACViXAO/f1t07f2pOA6A/aXIs3QR4AOlGxYYkQAIkQAIBIHDlyhVV6dc5dBJhk+XLl9c9W6VKlVwKfrRv396loIjugdiQBKJIYPXq1VK5cmWXUVDd+o8//tDt0frDDz8IQn/DCnIBTpw4URo0aKB7rCguh91JgARIgAT8TID3bz8DtehwNABadOOsrjYPIKvvIPUnARIgAWsTCGvsgJHj+vXrEjt2bF0LQwGG119/XYX8OmThwoVSq1YtXf3ZiAT8TQDGOzzXzjJ58mRp2bKlrqlgDB86dKj07dtX8HyHldq1a8uUKVMkadKkusZjIxIgARIgAfMQ4P3bPHthpCY0ABpJP4Tn5gEUwpvPpZMACZCACQh88sknsmzZMk0TGO5gwNMrBw8eVCGTzoIQTHgVUkjACAIwRiMUGL9jOQShwHhWvQnh3bp1q/L2c66O7RgvXbp0MmvWLBa6MWKDOScJkAAJRIEA799RgGejrjQA2mgzrbQUHkBW2i3qSgIkQAL2IvDo0SNJliyZ4LtDZs+eLQ0bNtS9UHhCtWrVSmsPA4s7g4nuAdmQBPxAAGHsFStWdBkJBT4QChwtWjTdM9y9e1c6dOggM2fOdNunc+fOMmTIEN0es7onZkMSIAESIIGAEOD9OyBYLTcoDYCW2zJ7KMwDyB77yFWQAAmQgBUJrFixQj766CNNdRhGrl27poyCegUeUvPmzdOa169fX+bOnau3O9uRQMAING/eXKZPn+4y/qRJk1wM1nonX7RokaDK8K1bt8J1gQfs/PnzJUeOHHqHYzsSIAESIAGDCPD+bRB4k01LA6DJNiRU1OEBFCo7zXWSAAmQgPkIwKAxbdo0TbEPPvhANm7c6JWib731lpw9e1br46uBxatJ2ZgEdBCA9x5CgS9cuKC1jh8/vgoFxnPrrSC0vVGjRrJ27dpwXZEz89tvv5W2bdt65WHorQ5sTwIkQAIkEDUCvH9HjZ9detMAaJedtNg6eABZbMOoLgmQAAnYhACKGyCP2eXLl7UVfffdd4KQRr1y6dIlSZs2rUvzAwcOSK5cufQOwXYkEFACCPkNW9G6VKlS8ueff/pkqMP/m7Fjx0r37t3l6dOn4XSvUKGCzJgxgzkwA7qrHJwESIAEfCfA+7fv7OzUkwZAO+2mhdbCA8hCm0VVSYAESMBGBHbt2iUFCxZ0WdHx48clW7Zsulf5yy+/CCqiOiRx4sTy77//+mRY0T0pG5KAlwRatGghU6dOdek1ceJEad26tZcj/a85vAjr1asnhw4dCjcGQujhWVu9enWfx2dHEiABEiCBwBDg/TswXK02Kg2AVtsxm+jLA8gmG8llkAAJkIDFCPTp00cGDx6saZ09e3Y5duyYV6vo2LGj8oZyCIourF692qsx2JgEAk0AocDwSj1//rw2Vbx48VQocKZMmXye/vHjx9KzZ08ZPXq02zG++OIL9f8DFYgpJEACJEAC5iDA+7c59sFoLWgANHoHQnR+HkAhuvFcNgmQAAkYTCBPnjyCcF2HdO3aVeUw80bef/992b17t9Zl0KBB0rt3b2+GYFsSCAoBhPyWK1fOZa6SJUvKunXrouyxijDjxo0bC0Liw0rmzJlVUZzChQsHZZ2chARIgARIIHICvH/zCQEBGgD5HBhCgAdIRuE2AAAgAElEQVSQIdg5KQmQAAmENIFz585JxowZXRhs3rxZihcvrpvL/fv3JUmSJPLixQutD4wpyK9GIQEzEmjZsqV8//33LqqNHz9eFe6Iqty8eVMQarx48eJwQ0WPHl0ZxvEVI0aMqE7F/iRAAiRAAlEgwPt3FODZqCsNgDbaTCsthQeQlXaLupIACZCAPQhMmDBB2rVrpy0GOcuuXr0qMFToFRj7ypQpozWHYeP27duCKqsUEjAjgXv37qlQYBjAHYJQYHjCwlMvqvLq1SuZNWuW+r8FA3lYyZ07tyD3oDeG9qjqxP4kQAIkQAKuBHj/5hMBAjQA8jkwhAAPIEOwc1ISIAESCGkCqIqKsEWHfP7558pw4Y0g3Ldv375alwIFCsjOnTu9GYJtSSDoBNauXStly5Z1mfeDDz6Q9evXRzkU2DHo6dOnpWHDhrJt2za362vUqJF88803kipVqqCvnxOSAAmQQKgT4P071J+A/66fBkA+B4YQ4AFkCHZOSgIkQAIhS+DOnTuSIkUKefbsmcZg0aJFUqNGDa+YoODHmjVrtD4oCBJRMQSvBmZjEggwAVT/nTx5ssss48aNc/GKjaoKz58/l2HDhsmAAQNcwuQd46JiNozorVq1YlhwVGGzPwmQAAl4QYD3by9g2bgpDYA23lwzL40HkJl3h7qRAAmQgP0ILFy4UOrUqaMtLFasWHLjxg1JmDCh7sUi71/SpEkFIZUO+eWXX6RmzZq6x2BDEjCKAMJzEQp89uxZTQV/hgI7r2vHjh3SrFkzOXTokNvlIix40qRJUqxYMaNwcF4SIAESCCkCvH+H1HZHuFgaAPkcGEKAB5Ah2DkpCZAACYQsAYQmoiqpQ+DJt3r1aq947N+/X9577z2XPqiAmiZNGq/GYWMSMIoAQn5Lly7tMn2JEiVkw4YNfgsFdgwOb1vk/kPIvLPR3HlyhgUb9SRwXhIggVAjwPt3qO24+/XSAMjnwBACPIAMwc5JSYAESCAkCSAsMWXKlHLr1i1t/TBMICTSG0H+su7du2tdMmXKJMh7RiEBKxFo06aN8r5zljFjxkiHDh0CsozLly9Lt27dXAzwzhMxLDgg2DkoCZAACbgQ4P2bDwQI0ADI58AQAjyADMHOSUmABEggJAls3LhRPvzwQ5e1nz9/XtKnT6+bB8InYfC7fv261gfeSzNnztQ9BhuSgBkI4FlGCO4///yjqRM3blyBh2vWrFkDpuKmTZsExseIwoLz5MmjPAYZFhywLeDAJEACIUyA9+8Q3nynpdMAyOfAEAI8gAzBzklJgARIICQJdO7cWUaNGqWtPW/evLJnzx6vWAwZMkR69+7t0gfVTgsXLuzVOGxMAmYggJDfUqVKuahSvHhxgbE8WrRoAVNRT1hw48aNVbVgeO1SSIAESIAE/EOA92//cLT6KDQAWn0HLao/DyCLbhzVJgESIAGLEXjy5IlkzpxZLl68qGner18/6d+/v+6VIHT4rbfeElQSdkjVqlVl+fLlusdgQxIwG4F27drJhAkTXNRCRWtUtg606AkLHjx4sLRs2ZLVggO9GRyfBEggJAjw/h0S2+xxkTQAekTEBoEgwAMoEFQ5JgmQAAmQQFgCCCls27atyz/D+w9egHoFnn/wAHSWvXv3hisIonc8tiMBMxB48OCBCgU+c+aMpk4wQoGd1+4pLBhFd/B/uGjRomZARh1IgARIwLIEeP+27Nb5VXEaAP2Kk4PpJcADSC8ptiMBEiABEvCVwOPHj5X3Hyr1OgS5AFEJVa9cu3ZN5f6DscQhtWvXlp9//lnvEGxHAqYl4C4/JnLw4d+jR48eFL0ZFhwUzJyEBEggxAnw/h3iD8D/L58GQD4HhhDgAWQIdk5KAiRAAiFFYNy4ceEqm8Kw8cEHH+jmEDZ/IPKjHT58WN5++23dY7AhCZiZAKr/4v+KsyBnZqdOnYKqNsKCu3btKvPmzXM77+uvvy4zZsyQatWqBVUvTkYCJEACdiDA+7cddjHqa6ABMOoMOYIPBHgA+QCNXUiABEiABHQTePTokfLcu3LlitanTJky8ueff+oeA3kD4UGIPIIOYeVf3fjY0CIE4N2KCrynT5/WNI4TJ45s3rxZ3n///aCvAkZ6hO1HVC0YPxsxYoRARwoJkAAJkIA+Arx/6+Nk91Y0ANp9h026Ph5AJt0YqkUCJEACNiGAYgZfffWVy2q2bNkiCG/UK61atZIpU6ZozWPEiCEnTpxQBUEoJGAnAjD2lSxZUl69eqUtK3bs2DJp0iT54osvgr5UhAWjQAkK9ty7dy/c/DBYLliwgJ64Qd8ZTkgCJGBVArx/W3Xn/Ks3DYD+5cnRdBLgAaQTFJuRAAmQAAl4TQAeTfD+Q/4+h5QvX17WrFmje6x//vlHsmXLJs+fP9f6oCLp5MmTdY/BhiRgJQKo/jt27NhwKjdr1kzGjx9viMcdwoLh8bdkyZJwesWLF0/p1aRJE3nttdeshJq6kgAJkEDQCfD+HXTkppyQBkBTbov9leIBZP895gpJgARIwCgCCA/s1q2by/Tbtm2TwoUL61apcePGMmvWLK09wg1PnToladOm1T0GG5KAlQg8fPhQKleurAqAhJV8+fLJokWLDPF+hVfitGnTVD5PFPYJK5999pny1E2cOLGVcFNXEiABEggqAd6/g4rbtJPRAGjarbG3YjyA7L2/XB0JkAAJGEXg/v37ykhx48YNTYVKlSrJqlWrdKt09OhRyZkzp7x8+VLrg3DikSNH6h6DDUnAigQQeotCHO48AZMmTaoKdOD/kxGC4jt16tRRRXjCCv7P//TTT1KoUCEjVOOcJEACJGB6Arx/m36LgqIgDYBBwcxJwhLgAcRnggRIgARIIBAEhg8fLj169HAZeufOnVKgQAHd08HIsHDhQq19/Pjx5cyZM5IyZUrdY7AhCViZAPLrIfQX4fTOglDbPn36SN++fSV69OhBXyKK+8AY75yb06EEcnQOHjxYGTBRrZtCAiRAAiTwPwK8f/NpAAEaAPkcGEKAB5Ah2DkpCZAACdiawN27d5X337///quts2rVqrJ8+XLd6963b5/kzZvXpX2vXr2UYYFCAqFE4MiRI/Lpp5/K8ePHwy27QoUKyhswWbJkhiBZvHixMlDevn073PzlypWT2bNnS+rUqQ3RjZOSAAmQgBkJ8P5txl0Jvk40AAafOWcUER5AfAxIgARIgAT8TWDIkCHSu3dvl2F3794tyF+mVz766CNZsWKF1jxJkiSCgiD4TiGBUCMAo3rTpk1V/r+w8uabb6p/98a71p/8zp07J/Xr15e//vor3LDw1oUREIZKCgmQAAmQAO/ffAb+S4AGQD4JhhCgAdAQ7JyUBEiABGxL4M6dO8r779atW9oaq1WrJkuXLtW95u3bt0uRIkVc2sPzDx6AFBIIVQIowjF69GhVWOfFixcuGGLFiqUq8TZv3tyQSryo0j1w4EDloQs9w0qXLl0ELwagJ4UESIAEQpkA79+hvPv/WzsNgHwODCHAA8gQ7JyUBEiABGxLAEaAfv36uaxv79698t577+lec9myZWXt2rVa+xQpUqjcfwkSJNA9BhuSgF0JbN68WWrXri1XrlwJt8RGjRrJpEmTJF68eIYsf8OGDcob8NKlS+Hmh4ciCoRkzpzZEN04KQmQAAmYgQDv32bYBeN1oAHQ+D0ISQ14AIXktnPRJEACJBAQAsgDljFjRoEXoEOQuwx5wvTK+vXrpXTp0i7NR40aJZ06ddI7BNuRgO0JXL58WVXihTEwrOTJk0f9nzPK0IbK302aNHEJ4XfomDBhQlU4pF69erbfIy6QBEiABNwR4P2bzwUI0ADI58AQAjyADMHOSUmABEjAlgTg+QcPQGc5cOCA5MqVS9d6ETpYvHhx2bp1q9b+jTfekFOnTkncuHF1jcFGJBAqBJ49e6YqbY8cOTLckhMnTixz5swR5NI0QvB/GSHJqAT89OnTcCo0btxY/ZxevUbsDuckARIwkgDv30bSN8/cNACaZy9CShMeQCG13VwsCZAACQSMACr+IvcfihU4BGGKP//8s+45V61aJVWqVHFpP3nyZGnZsqXuMdiQBEKNAAqAwOPu/v374Zbes2dPZZSPHj26IVgQ/v/ZZ5/JiRMnws2fNWtW+frrr1U4MzwDKSRAAiQQCgR4/w6FXfa8RhoAPTNiiwAQ4AEUAKgckgRIgARCkACq/iLJv0Nee+01OXTokLz77ru6aLx8+VLef/99gcHAITAoHjt2jIUDdBFko1AmcPz4cUG4/ZEjR8JhQE7N+fPnC3JpGiEwTLZr105mzpzpdvr48eMrI+AXX3whxYoVM6SIiRFcOCcJkEBoEuD9OzT3PeyqaQDkc2AIAR5AhmDnpCRAAiRgKwLI+QVjnbMHUt26dZXRQa8gZ1nNmjVdmsNggKIGFBIgAc8E8P8PVYAXLFgQrnG6dOlkyZIlgkIcRgnOA3jz3rt3L0IVsmXLpgyBn3/+uaRJk8YoVTkvCZAACQSMAO/fAUNrqYFpALTUdtlHWR5A9tlLroQESIAEjCKAPGTDhw/Xpo8WLZocPnxY3n77bV0qvXjxQuUJPHr0qNYefeFBaFTooi7F2YgETEbAkXuvc+fO8vz5cxftEiVKJCiyky9fPsO0Pn36tCoAsnPnzkh1wP/7ypUrK2Mg0gLEjBnTMJ05MQmQAAn4kwDv3/6kad2xaAC07t5ZWnMeQJbePipPAiRAAoYTuH79uvL+e/DggaZLgwYNVAECvYK28PhxloULF0qtWrX0DsF2JEACTgT++usvFVZ76dIlFy7JkyeXTZs2yTvvvGMYLxj8V6xYITNmzJCVK1cK/h6ZpEyZUp0PMAYaqbdhwDgxCZCArQjw/m2r7fR5MTQA+oyOHaNCgAdQVOixLwmQAAmQQLdu3WTEiBEaCHj/wZMPoXx6BJVM4e135swZrXmePHlkz549grEoJEACvhG4evWqKsCxYcMGlwFQWXvLli3KcG+0XL58Wb0s+OGHH9wWCgmrX5EiRZQhsE6dOiwcYvTmcX4SIAGfCPD+7RM223WiAdB2W2qNBfEAssY+UUsSIAESMCMBGBhgRHj06JGmHnL2RZTs390apk6dKi1atHD50fLly6Vq1apmXDJ1IgFLEXj8+LEKoV23bp2L3vh/u3nzZkmbNq0p1oPQ5a1btypDILx/nT2K3SkYL1485eHYtGlTFg4xxQ5SCRIgAb0EeP/WS8re7WgAtPf+mnZ1PIBMuzVUjARIgARMTwB5xkaNGqXpibxdqEaaOXNmXbrDOJE1a1bBZ5FDChcurAwBqCJMIQESiDoBFAcpV66cbN++3WUwhNMiHBhhwWYSFAn55ZdflDEQZ4EngbcxQoTr168vGTNm9NScPycBEiABQwnw/m0oftNMTgOgabYitBThARRa+83VkgAJkIC/CCB0L1OmTAIjnkMQmodLu14ZO3asdOzY0aX5n3/+KWXKlNE7BNuRAAnoIHDr1i0pVaqU7N+/36V1/vz5Ze3atZI4cWIdowS/ybFjx1SuwNmzZws8jj1JiRIlBDlIkT80adKknprz5yRAAiQQdAK8fwcduSknpAHQlNtif6V4ANl/j7lCEiABEggEARjuYMBzSIwYMVQOL715xRDiBwPitWvXtDFgoAgbqhgI3TkmCYQiARjQPvjgg3C59ooXLy5r1qwRhNWaVZArdNWqVboLh8SKFUuFPsMYiO+xY8c269KoFwmQQIgR4P07xDY8guXSAMjnwBACPIAMwc5JSYAESMDSBC5evKjCfJ88eaKto3nz5oJ8fnpl2LBh0rNnT5fmqFxatGhRvUOwHQmQgJcELly4IDD4nT9/3qVnhQoVZNmyZZYwlHlbOCRJkiQqXyCMgcWKFWNxIS+fGTYnARLwLwHev/3L06qj0QBo1Z2zuN48gCy+gVSfBEiABAwg0LZtW5k4caI2c8yYMeXkyZOSIUMGXdrcvn1beQriu0MqV64sK1eu1NWfjUiABHwngP+rCJUNG1Jbo0YNWbBggcCb1wriKBwyd+5c+fnnnwVhzp4EZxRyBcIYiByIFBIgARIINgHev4NN3Jzz0QBozn2xvVY8gGy/xVwgCZAACfiVADyIsmTJIk+fPtXGbdmypUyePFn3PH379pVBgwa5tN+zZ4/kzZtX9xhsSAIk4DuBgwcPSsmSJcMZzVDFGzn3okWL5vvgBvSEN/Lq1asFxkBUEXc+nyJSB/kPYQj87LPPJHXq1AZozSlJgARCkQDv36G46+HXTAMgnwNDCPAAMgQ7JyUBEiAByxJo1aqVTJkyRdMfubZOnTol6dOn17Wm69evq9x/qEzqkJo1a6qqnxQSIIHgEdi5c6cquOP8fxGzw8N33Lhxlq3EDc/iRYsWKWPgxo0bPQKFsRNVkmEM/OSTTyRBggQe+7ABCZAACfhKgPdvX8nZqx8NgPbaT8ushgeQZbaKipIACZCA4QTOnTsnWbNmFSTkdwiMBePHj9etW5cuXWTkyJFa+9dee00OHTok7777ru4x2JAESMA/BDZs2CCVKlVyqeaNkZGfc8iQIf6ZxMBRcGbNnz9f5syZI0ePHvWoSdy4caVq1aoqZyDSEpi5MIrHxbABCZCAKQnw/m3KbQm6UjQABh05JwQBHkB8DkiABEiABPQS+PLLL2XatGlac1TWPHPmjLzxxhu6hrh06ZIqHvL48WOtfcOGDWX27Nm6+rMRCZCA/wkg9yY8354/f+4y+PDhw+Xrr7/2/4QGjIh8gfv27VNegTAIXrlyxaMWMP45jIEwktIY6BEZG5AACeggwPu3Dkgh0IQGwBDYZDMukQeQGXeFOpEACZCA+Qj8888/ki1bNhcjQYcOHWTMmDG6lQ1bPATFBo4dO6aMghQSIAHjCCxcuFDq1q0rL1++dFECxX5at25tnGIBmPnFixeybt06ZQxcvHixPHjwwOMs8ePHl48++kh5BlasWFHgKUghARIgAV8I8P7tCzX79aEB0H57aokV8QCyxDZRSRIgARIwnEDTpk1VcQCHxIkTR3n/pUmTRpdu8P5D5V/n5PzwKPz+++919WcjEiCBwBL44YcfpFmzZuEmQfgs8uPZUWD8W7ZsmQoR/uOPPwTGQU+CHIEff/yxMgZWqFBBcBZSSIAESEAvAd6/9ZKydzsaAO29v6ZdHQ8g024NFSMBEiAB0xA4ffq0ZM+e3eVy/NVXX7nk8vOkLNqPHj1aa+Zt8RBP4/PnJEACUScAj95OnTq5DBQ9enRVVANhwnaWGzduyK+//qoKEsFDUI8xMGHChC7GQKRFoJAACZBAZAR4/+bzAQI0API5MIQADyBDsHNSEiABErAUgcaNG8usWbM0nRH+hpDgVKlS6VoHKv9myJBBHj16pLVv0aKFSzVhXQOxEQmQQMAJDBw4UPr16+cyDwz2K1asUNVyQ0FwZsEYiNDo9evXhwuNdscgUaJEUq1aNeUZCE40BobCk8I1koD3BHj/9p6ZHXvQAGjHXbXAmngAWWCTqCIJkAAJGEjg4MGD8t5777lcgLt27Srffvutbq1QUXTYsGFae3gUnTx5UoUEU0iABMxFAAUzUK171KhRLoqhCMbvv/8uxYoVM5fCAdbm2rVrsmTJEmUM3Lhxoy5jYLRo0VRoML5gCAz73d2/uWsLo2KZMmUkZ86cAV4lhycBEggWAd6/g0Xa3PPQAGju/bGtdjyAbLu1XBgJkAAJRJkACgLgsr99+3ZtLCTDh/dfihQpdI1/69Yt5f137949rX2jRo1k5syZuvqzEQmQQPAJwAiIHJ3Tp093mTxx4sTKIy5v3rzBV8oEM6J6MIyBCBOGMRCcgiEIv+7fv7/kyZMnGNNxDhIggQAS4P07gHAtNDQNgBbaLDupygPITrvJtZAACZCAfwlMmjRJ2rRp4zJo3759ZcCAAbonGjRokKCPQ1577TU5evSoyilIIQESMC8B5MBD8Y8FCxa4KAlPwHr16kmrVq0kX7585l1AgDW7fPmy5hm4efPmoBgDP/30U2UIzJUrV4BXx+FJgAQCRYD370CRtda4NABaa79soy0PINtsJRdCAiRAAn4lcPHiRXnnnXdcPPeyZs0qBw4c0F31El5/GTNmlH///VfTrU6dOuEMCn5VnIORAAn4jcCzZ88ERifk/3MnhQoVUoZA5L1DbtBQFVQ5X7x4sQoT3rJlS8Ax1KxZU+VpZGhwwFFzAhLwOwHev/2O1JID0gBoyW2zvtI8gKy/h1wBCZAACQSCAC79SILvLKiMWapUKd3TjRgxQrp16+bSfv/+/ZI7d27dY7AhCZCAsQRQvKdKlSoq9Dcief3116VJkybSsmVLyZIli7EKGzw7qgnj9+snT56or8ePH/v8HWHGSKPgTuBNXatWLWUIfPfddw1eNacnARLQS4D3b72k7N2OBkB7769pV8cDyLRbQ8VIgARIwDACS5culerVq7vMj8v9jBkzdOsEowGKfFy9elXr8/HHH8uyZct0j8GGJEAC5iBw//596dChg6oGjtDgyAQVcFu3bi1Vq1aVGDFimGMBFtXi7t27Mm7cOBk5cqTcvn07QkMgPKuRagFe2xQSIAFzE+D929z7EyztaAAMFmnO40KABxAfCBIgARIgAWcCuHDCmwQhwA5BwQ/k7UuWLJluWBMmTJB27dq5tN+xY4cULFhQ9xhsSAIkYC4CCHVFYZCpU6e6nBHutEyXLp00b95cfaVJk8ZcC7GYNnfu3FGGQFRmjswQ+NlnnylD4Ntvv22xFVJdEggdArx/h85eR7ZSGgD5HBhCgAeQIdg5KQmQAAmYlgCMdjDeOcvcuXOlfv36unV++vSpZM6cWYXBOaR8+fKyZs0a3WOwIQmQgHkJPH/+XJYvXy6TJ0+WP/74I1JF4QWIKrbIFYgUAghdpfhGAMa/sWPHKkMgXta4k2jRokndunWVITBbtmy+TcReJEACASPA+3fA0FpqYBoALbVd9lGWB5B99pIrIQESIIGoEti+fbsULVrUpZolDHe//fabV5d2eAjB68dZkMvqgw8+iKqK7E8CJGAyAidPnpQpU6bIjz/+GGG+OofK8ExDnsBGjRpJkiRJTLYS66iDvIBjxoxRX5EZAvHipk+fPoICThQSIAFzEOD92xz7YLQWNAAavQMhOj8PoBDdeC6bBEiABMIQQLXP/Pnzy8GDB7WfoKrnoUOHJFOmTLp5wTMoe/bscubMGa1PiRIlZNOmTbrHYEMSIAHrEUDez59//ll5Be7cuTPSBeBsadiwoQwZMkSSJ09uvcWaRGNUWB89erTyCkTVdXcSPXp0adCggXTv3l2dzfTANMnmUY2QJcD7d8huvcvCaQDkc2AIAR5AhmDnpCRAAiRgOgLDhw+XHj16uOj17bffSteuXb3Sdd68eeqy6SwI/YUnIYUESCA0COzZs0cZAnEewDAYkeDlAjyM6aEWtefi5s2bKiwYeQJRsCUigddlrly5tC9UZM+ZM6ckSpQoagqwNwmQgG4CvH/rRmXrhjQA2np7zbs4HkDm3RtqRgIkQALBInD69Gl1CXz8+LE2ZZ48eWTXrl0SM2ZM3Wq8fPlSjYOCIQ4pUKCAoPgHvU50Y2RDErANAeSsmz17tjIGHjt2zO26UFwI+QSLFClim3UbtZAbN26oisHjx4+XBw8e6FYjQ4YMAmOgwziIPyN/IKs460bIhiSgmwDv37pR2bohDYC23l7zLo4HkHn3hpqRAAmQQDAIvHr1Snnn/fnnn9p0MNbBaAfjnTeyePFiqVmzpkuXpUuXSrVq1bwZhm1JgARsRgDnDPKATpo0SX799VdBqgBniRMnjsyfP1+qV69us5Ubs5zr16/Ld999pwo6PXz40CclYsWKJe+88044wyAqOvOFjk9I2YkEFAHev/kggAANgHwODCHAA8gQ7JyUBEiABExDYM6cOfL555+76NOhQweVXN4bwQU/X758sm/fPq0bvEnwd1SlpJAACZAACFy4cEFVBUaYsLPAqIRzp3379gTlJwIwBI4YMUJ++OEHQb5AfwjCiNOmTSswBKZOnVr7HvbPaEdDoT+Icwy7EeD922476tt6aAD0jRt7RZEAD6AoAmR3EiABErAwAYSLoSon8kc5JF26dHLkyBFJmDChVytbuXKlVK1a1aXPggULpE6dOl6Nw8YkQAL2J4A8dbVq1VL5/8LKV199pYxWfHHgv+cAL2jOnz8vBw4cUIWe8IU/Hz9+XF68eOG/iZxGih07tjIQRmQkTJUqlTIQIvVERF/IHxnZzx0/gzGycePGzDUbkJ3koP4mwPu3v4laczwaAK25b5bXmgeQ5beQCyABEiABnwngwjRr1iyX/v/5z3/ko48+8mpMXC6LFi0q27dv1/ohfxQMiahASSEBEiCBsARQebxVq1bKOy2swDiI3IEIDaYEjsCTJ09UbsawhsFLly4FbtIAjlyuXDllPEYOWwoJmJUA799m3Zng6kUDYHB5c7b/J8ADiI8CCZAACYQmgbVr10rZsmVdFo/8fb/88ovXQNatWydlypRx6ffjjz8qjwwKCZAACUREAC8PhgwZIn369AnXpHjx4rJs2TJ5/fXXCTDIBBAu7PASdHgM4rs3hUWCrLI2HbwKkdZi8ODBAo92CgmYjQDv32bbEWP0oQHQGO4hPysPoJB/BAiABEggBAkgrAr5+VD91yGJEiVS1XvfeOMNr4mULl1a1q9fr/VDRcmTJ096VUHY60nZgQRIwDYE4O3XtGnTcMVBsmfPLqtXr5a33nrLNmu16kJQ5f3s2bNy5swZuXLlily+fNnlu+PfUPnZDALv0U6dOsnXX38tiRMnNoNK1IEEFAHev/kggAANgHwODCHAA8gQ7JyUBEiABAwl0LNnTxk2bJiLDpMnT5aWLVt6rdfWrVulWLFifhnL68nZgQRIwDYE/gmaTG4AACAASURBVPjjD6lRo4bcu3fPZU3IFbdixQp5//33bbNWOy8EefmuXr2qGQidjYXOf7527ZpKEQFDnTdfcePGdWn/9OlTmThxokQUtpw8eXLp16+ftGjRgi+l7PzgWWhtvH9baLMCqCoNgAGEy6EjJsADiE8HCZAACYQWAYRxoVrv8+fPtYUjf9/mzZt9SrpfpUoVWbVqlTYWPAjhWcjcXaH1XHG1JOAPAshFV7lyZbl48aLLcPHixZOFCxcKzhsKCYQlgNDk0aNHyzfffCMoMONOsmbNKsOHD5fq1auzOjEfIUMJ8P5tKH7TTE4DoGm2IrQU4QEUWvvN1ZIACYQ2AVR7hLfejh07NBAxY8aUvXv3So4cObyGs2fPHsmfP79LP1zCOnbs6PVY7EACJEACIIDfTStVqiSHDh1yAYKqwPBU/vLLLwmKBNwSgOfhgAEDZOrUqRFWN8YLr++++06KFClCiiRgCAHevw3BbrpJaQA03ZaEhkI8gEJjn7lKEiABEgABhEm1bdvWBUbv3r1l0KBBPgFCuN6SJUu0vgi1Qo6o+PHj+zQeO5EACZAACNy5c0c+/fRTQYGhsIIUBijwgGIPFBJwRwCVjbt3766KyEQk+PyCR2CWLFmiBPHmzZuyf/9+l68jR45I7NixJXfu3Koi8Xvvvae+58yZU+DNSgltArx/h/b+O1ZPAyCfA0MI8AAyBDsnJQESIIGgE0BI3TvvvOOSXwshUQi58yVc9/Dhw+oy4yxDhw6VHj16BH1tnJAESMB+BJDbrVmzZjJnzpxwi2vQoIH88MMPEitWLPstnCvyGwGktujSpYvs3LnT7ZgxYsSQVq1aSd++fQUvsCITeNAjvQWMffv27dMMfrhL6RV4sWbLls3FKAjjYOrUqWnQ1gvRBu14/7bBJvphCTQA+gEih/CeAA8g75mxBwmQAAlYkQC8aX799VcX1eFdU6pUKZ+WU79+fZk/f77WN0mSJHLu3DlBNWEKCZAACfiDwKtXr6RPnz4yZMiQcMOh+jg8kFnh1R+k7TsGnqFffvlFvZxCBWN3gs8t/LxDhw6CIiMoRIN8uQ7PPhj88PeHDx8GBFSKFCk0L0GHtyAqYCNFB8V+BHj/tt+e+rIiGgB9ocY+USbAAyjKCDkACZAACZiewNKlS1Xic2dp0qSJzJgxwyfdT506JbicvHz5UusPDwrkXqKQAAmQgL8JIKdb69atw+V1gxcyihClT5/e31NyPJsRePLkicohiZQX//77r9vVoYgVQnTxGWe0wLsVzzdCh5Gj991331Xf8awz/N3o3Yna/Lx/R42fXXrTAGiXnbTYOngAWWzDqC4JkAAJeEng7t276uLgXFUT3gZHjx6VZMmSeTnaf5sjLA/hdw5Bzj94//k6nk9KsBMJkEBIEYChr3bt2oKKr86SNm1aVRgE5xCMN47vkf0ZXl7Ro0cPKX5c7H8J3Lp1S4YNGybjxo0TGAX9Icj3B+OcI98fcv/BW9A5XPjEiRMCb8SoSoIECVQ6D3yuO74wd4YMGQQhxhTzE+D92/x7FAwNaQAMBmXOEY4ADyA+FCRAAiRgbwLt2rWTCRMmuCxy7ty5ghBeX+T8+fOSOXNmef78uda9a9eu8u233/oyHPuQAAmQgG4Cu3fvlipVqgiqvUZVkPsURkKHoTBhwoRStWpV6dSpE1MZRBWuBfrjpVWvXr1k3rx5XmmbMmVKLVzXYfBDXj9P4bowXKOytXP+QBgIwxq0vVLGqTGM2u4Mg2+99RaN3b5CDVA/3r8DBNZiw9IAaLENs4u6PIDsspNcBwmQAAmEJ7B9+3YpWrSoi9dB+fLl5bfffvM5hAhVhFFN2CG4RP/zzz8qiTmFBEiABAJNAOdNpUqV5Pjx4wGZKleuXLJixQp58803AzI+BzUXgT179gheYoWtOA0PUaS6cOTkg7EPX/78rEMaDeQldBgFHd8vXLjgN0jwTnz77beVt2DJkiWlYcOGrETsN7q+DcT7t2/c7NaLBkC77ahF1sMDyCIbRTVJgARIwEsCz549k/z586vE5Q6BhwA8EDJlyuTlaP9tfuXKFcmYMaNL2BQ8DBFKRSEBEiCBYBFADrdq1arJli1bAjIljDwwAuIMpdifAEJzYQDctGmTMvzC6IewWrzgMkLwfDvChw8fPiz4OnLkiCClR1QF1Y5R7KRNmzaSNGnSqA7H/j4Q4P3bB2g27EIDoA031QpL4gFkhV2ijiRAAiTgPYF+/frJwIEDXToiTBeeDr4K+n733Xdad4Q8nT59mgn4fQXKfiRAAj4TQP42eCPDgwthlMi5hi93f378+LHX8yA0GJXOYWikkIDRBGCkvHTpkjIEOn/BOIi8ht4KQt5btmypQt7TpEnjbXe2jwIB3r+jAM9GXWkAtNFmWmkpPICstFvUlQRIgAT0EUCIb+XKlV1CfxG6tGvXLo95iiKa4caNG8r7zzlfEYqBTJs2TZ9SbEUCJEACBhFAqKXDQOjOSHjv3j3BS5OwYcWotjpy5Ejp2LGjz2kTDFoypw0RAjAMIidmWMMg/n79+nWPFBAi3KRJE/Vy0NfoAI+TsIELAd6/+UCAAA2AfA4MIcADyBDsnJQESIAEAkYAic3z5csnCCFyCHIZbdu2TQoUKODzvH369JHBgwdr/VFtEFUNURCEQgIkQAJWJwAvqho1asj69evDLaVVq1Yq1UGMGDGsvkzqH0IEYAA8evSoCiFGSDsqaUck+Ez/7LPPpHv37oI8mJTAEeD9O3BsrTQyDYBW2i0b6coDyEabyaWQAAmEPAGExBUvXlz+/vtvFxYI2+3cubPPfO7cuSMZMmQQfHdIgwYNZM6cOT6PyY4kQAIkYDYCT58+lRYtWsjMmTPDqVaxYkX5+eefWSHYbJtGfXQTQF7B4cOHy8KFCwVesREJqmH36NFDFRGj+J8A79/+Z2rFEWkAtOKu2UBnHkA22EQugQRIgAT+nwC8VKZMmeLC49NPP5VFixZFKXxt6NCh0qtXL21chMWhmAiqClJIgARIwE4EEFI5bNgwlzPPsT54Rq1cuZJ5T+204SG4llOnTglyAs+aNUtg9I5IPvjgA+nZs6eUL18+Sr9DhCDiSJfM+zefCBCgAZDPgSEEeAAZgp2TkgAJkIDfCcyePVsaNWrkMm7WrFmVN2CiRIl8ng95hEqUKOESUowwORgVKSRAAiRgVwLw9sOZCs9qZ0HBhOXLl7NCsF03PoTWdfHiRRk9erR6ceic3zcsgrx58yqPQLxQREoRStQI8P4dNX526U0DoF120mLr4AFksQ2juiRAAiTghsCBAwekcOHC8ujRI+2nqGC5Y8cOyZkzp8/Mfv/9d6lVq5bcvXvXZQxU3cSFgEICJEACdiawdetWVQUYRZCchRWC7bzrobe2mzdvyoQJE1SeS+f8wWFJZMuWTbp16yYNGzaUWLFihR4oP62Y928/gbT4MDQAmnQDkUwdhyHc/S9cuCColISE57Vr15Y2bdoIfgHwVVCFDJUa//jjD+WhAXfs+/fvK08NHLAVKlRQ5dlTp07t6xQe+/EA8oiIDUiABEjA1ASQl+/9999XnyHOMnfuXKlfv77Puk+ePFnatWsnL168cBnjk08+kV9//dXncdmRBEiABKxE4PTp01KlShVWCLbSplFXnwjgHjpt2jRV+RregRFJypQp5e2331Z3VHjE4ivsn5MlSyYoLEIJT4D3bz4VIEADoAmfA7j3I8l5WM8Hh6ow0sEwmCVLFq+1h7dGsWLFlMEvMoExcOrUqVKnTh2v59DTgQeQHkpsQwIkQALmJIBcVQjJWbp0qYuCrVu3lokTJ/qkNAx+Xbp0kTFjxoTrX7BgQfW5lzx5cp/GZicSIAESsCKByCoE47wdO3as3yoE4wxGsYYNGzbImTNnpGzZssoLEblXKSQQDAIIe8dLRBQMCftyUe/8qJgNo6DDMOjOWIh/S5AggXKoiRMnTsg847x/632K7N2OBkCT7e/evXuVgQ7hVDiYkPegVKlS6u8LFixQb0cgMALCey9hwoRerWDLli0qpxIE86DaEjw48LYEJduXLFmi5kCFJuRagDGyUqVKXs2hpzEPID2U2IYESIAEzElgxIgRKhzHWWCk27Rpk/JY91bu3bsn9erVkxUrVoTrCs93VMaMGzeut8OyPQmQAAlYnkBkFYLxOzruB77kW3U2+MHoh/PbueI6wOHOACMjUy9Y/jGy1ALwbC5evFgVxdm3b1/AdYcREMZA/J7h+O78Zz3/ht9hzB6ezPt3wB8lS0xAA6DJtglVjzZv3qze5uGDuEiRIi4aOl+6+vXrJ/379/dqBcgpgg9y9I2oiuKyZcukevXqAg8PhB2fPHnS729GeAB5tW1sTAIkQAKmIYCLYpkyZdSLIofgJRLy87355pte64k0F3gZBQ/1sNK7d28ZMGAAw3m8psoOJEACdiIQWYXg3Llzq5cn6dOnj3TJegx+7gaAB+CXX34pgwcPphe2nR4qC6wFz/2aNWuUIRD3YjMLUmyZ/UUl799mfoKCpxsNgMFj7XGmnTt3SqFChVS7Fi1aqMpIYQUXLiRWP3r0qCRJkkSuXbsmMWPG9Di2tw1q1qyp3rxAdu/eLfny5fN2iEjb8wDyK04ORgIkQAJBIXDp0iX1eXD16lVtPlwOkVe2fPnyXuuwa9cu+fjjj+XKlSsuffG5Nn36dPn888+9HpMdSIAESMCuBLypEOyrwS8idrh34IVMq1atAnL3sOuecV3+IXD48GE5dOiQ+n3h8uXL6svxZ3xHJJuRgju62cPlef828gkxz9w0AJpnL6Rnz57qDQdk+/btmjEwrIrIi4DQYAjeivhy6fK0bORwatu2rWq2cOFCVY3Rn8IDyJ80ORYJkAAJBJ7As2fPpHTp0oJUEs4ycOBA6dOnj9cK4CUTKvo5VxDGIPAmRLEPR7oKrwdmBxIgARKwMYHIKgQjygc5xCMK6dWDJWvWrIJcbOfPn3fbHBFEmAc5AikkYBYC+B0FLyfdGQjDGgsRVu9PgecfPADNLrx/m32HgqMfDYDB4axrFkf4b/z48eX27dsRJvXdtm2bFC1aVI3Zt29f9TbO3zJq1Cjp3LmzGhaXNCR796fwAPInTY5FAiRAAoEngM8EfDY4C/JPIfTMm4p7COn55ptvtBdZzuNlz55djedLkavAE+AMJEACJGAOAhFVCPZFOxj8PvzwQ/VVsmRJSZs2rTx+/FhVZB06dGiEhg1UZkebTJky+TIt+5CAIQTwOwiM5DDY4QsvIR3fnf/szb8h99/atWsNWY83k/L+7Q0t+7alAdBEe5siRQq5ceOG5MmTJ9KEp6gI9vrrryvN4ZkHDz1/C6p+/ec//1HDHjlyRN555x2/TsEDyK84ORgJkAAJBJTAokWLwnmCZ8iQQeX9c3we6VEAb91btmwpP/74Y7jm8C7EPEmTJtUzFNuQAAmQQEgTiKxCcGRg3Bn8ImqP39e//vprmT9/vtsmKPqEl0OITELxQgoJkIB5CfD+bd69CaZmNAAGk3Ykc+FNmyNxaJUqVdxWQnTujg/ZBw8eSOHChQUegf6U/fv3S/78+QW5Q3LlyuU2Mbun+XDARCZwxUbFSAgSwKdLl87TkPw5CZAACZCAAQSOHz+uqsXfv39fmx1vuxGGhs8KvXLz5k2pUaOGbNy4MVyXZs2ayaRJk5hXSi9MtiMBEiABEYmsQrADkDcGv4ig/vXXX9K+fXv10sedvPHGG/Ltt9+qau5mz4PGB4cEQpUADYChuvOu66YB0CTPARKXpkyZUmlTp04dWbBgQaSapUqVShUAQUGQgwcP+m0VyPlRvHhx+fvvv9WY8AL86KOPvB7fmw9/GgC9xssOJEACJBAUAjD6oTgVPMGdZerUqdK8eXPdOqCaPF5u4buz4LMCl0Z4kHjzuaF7YjYkARIgAZsTQEgjztH+/fur0F1/GPzcIYNjwIwZM1TOckQsuROkKBo3bpxXL4dsvj1cHgmYhgANgKbZCkMVoQHQUPz/mxxGsDfffFP9A5Kiz549O1LN0BZ9MmfOLKdOnfLbKnChQ+VFSKNGjWTmzJk+je3NRY4GQJ8QsxMJkAAJBJQALpX169eXn376yWWexo0bq0ug3nMeyeiRRxbhas4SL148mTdvniCPFIUESIAESCBqBO7duycohOBNWgZfZkSecuQfnzBhgjx//jzcEPhs+OKLL1T+QIdzgy/zsA8JkIB/CdAA6F+eVh2NBkCT7JwZPABRgRhv9SAFChSQ9evXCwqS+CIMAfaFGvuQAAmQgHkIOFeDd2iFHLUI/YXxTo8g11+LFi3UpdRZEC62fPlyyZcvn55h2IYESIAESMBkBI4ePSodO3aU33//3a1miRIlkn79+knbtm0FaSMoJEACxhKgAdBY/maZnQZAk+yE0TkAv//+e5WYHfL222/L5s2bJXny5AGjwwMoYGg5MAmQAAlEmcD27dsFlemdDXeJEydW6SH0VOh9+fKl9OrVS4YPHx5Ol7x58yrjHypNUkiABEiABKxLAJ7iOM+/+uorQWVid5I+fXoVEpwtWzaXL3gH6vUkty4hak4C5iHA+7d59sJITWgANJJ+mLlhcEOS9GBXAUZ4V4MGDQQXNlR13LJlS8CLcvAAMtGDR1VIgARIwIkAPNLhmRfWk3vp0qWCCvGe5NGjRyqVxeLFi8M1/fjjj1XYL6tFeqLIn5MACZCAdQggh/jo0aNl8ODBqkihHoGHIIyCyFnobBzE3/HCiUICJOBfArx/+5enVUejAdBEOwdvC3jeIewW+TVixIjhVjtU/UWSXUjfvn1VHg5fBUU+UJUROTzSpEmj5kdewUALD6BAE+b4JEACJOA9ASR5r1ixovz5558unb/++mu33nxhZ8BnCfL9wSMkrKDQxzfffCPRo0f3XjH2IAESIAESMD2BS5cuSffu3WXOnDlR0hXFDsN6DCJCKXv27PQajBJZdg5lArx/h/Lu/2/tNACa6DlA/j3k4YMg/AqVF90JQqp69OihfrRmzRopX768T6tYu3atqsqIt3bJkiWTjRs3So4cOXway9tOPIC8Jcb2JEACJBB4An369FEeHM7y4Ycfyh9//BHhSylHW3iRI/H7rFmzXPrjZdakSZO8qhoc+JVyBhIgARIggUARgLNChw4dZNeuXX6dAqkj4EmOr1KlSkns2LH9Oj4HIwE7E+D92867q39tNADqZxXwljt37tSMfkiaPmXKlHBz4oKVM2dOQeLdJEmSyLVr1yRmzJhe64Yk7jAcwk0fbvYwBiI/R7CEB1CwSHMeEiABEtBHAF57uFQ5CzzD9+7dK/DGiEyQBwoefggBcxaEeCEUuGzZsvqUYCsSIAESIAFbEMDnwu7du+XgwYNy4sQJ7evkyZPK+SCqglQS8FhHaorKlSsHvPpxVPVlfxIwmgDv30bvgDnmpwHQHPugaeEIA4bHxKZNm6RIkSIuGo4YMUK6deum/g2Vtfr37+/y8w0bNqg3YpBGjRrJzJkzw61w3759qg3CjBFuDC/CYsWKBZUED6Cg4uZkJEACJBAhAVzSUAiqXbt2Kh2EQ/A5hM8UPZ8PzlXkHf3jxo2rqkMWL16c9EmABEiABEhAEUCqCdwDnI2Cjj+fPXtW5ST3VpBaokSJEuolFgyCmTJl8nYIticB2xPg/dv2W6xrgTQA6sIUvEbwtMBlC0nU8WYLYcEw1uHvCxYskKlTpyplkBcD1RgTJkzoopwnAyAqdCF/IDwHIfDW8OSZgSpd+PKn8ADyJ02ORQIkQAK+EYAXRtu2bWX69OnhBsDnQ8eOHT0OjM8leK07C4yHy5YtU14ZFBIgARIgARLQQwCfSWfOnAlnHDx+/LhcvXpVzxCqDVIawRAIg2CBAgUkWrRouvuyIQnYlQDv33bdWe/WRQOgd7yC0hphWKjKe/fuXbfzwfi3cuVKyZIlS7ifezIAwiOwSZMmXq3DnaehVwO4acwDKKoE2Z8ESIAEokYAydpRBAo5Z8NKvXr1ZO7cuR6TrS9atEhq164t8CJ0FvStX79+1BRkbxIgARIgARIQUZ8xx44dUy+WUMAQn1thP3ciApU6dWr56KOPlEGwTJkyEidOHDIlgZAkwPt3SG57uEXTAGjS5+DcuXMyduxYZejDf9ZYsWIpg1+tWrWUt0a8ePHcak4DoEk3lGqRAAmQgIkIIEE7qvVeuXIlnFao+DtkyBCP1XpRKRiFpJ4+feoyBj672rdvb6LVUhUSIAESIAE7EYA34IoVK5QxEEWqECmlR3B/qlChgvIKTJEihSRPntzlO/Kr01tQD0m2sSIBGgCtuGv+15kGQP8z5Yg6CPAA0gGJTUiABEggAASmTZsmbdq0kWfPnrmMjovRjBkzpE6dOh5nRdGq0qVLq0JSzoIqwgMHDvTYnw1IgARIgARIwB8EHj58KHghBe9ARFFdv37d52GRSzBZsmRujYPuDIZIkeRLMUafFWRHEogCAd6/owDPRl1pALTRZlppKTyArLRb1JUESMAOBOCpB888FPwIKxkzZpSlS5dKnjx5PC4VVeiRbP3mzZsubVu1aiUTJ070GDbscQI2IAESIAESIAEfCKDAyI4dO5RnIL7weRVIQTHFhg0bSvfu3SVDhgyBnIpjk0CUCfD+HWWEthiABkBbbKP1FsEDyHp7Ro1JgASsSwChvjVr1pS//vor3CJQCApFpuD14EnOnz+vClXhDHcWeA3OmzfPY9iwp/H5cxIgARIgARLwF4GTJ08qQyC8A/H550uFYT26oPBV48aNVfHGt956S08XtiGBoBPg/TvoyE05IQ2AptwW+yvFA8j+e8wVkgAJmIMAvCGQ7w9FP8JKly5dZNiwYYLLiydBWBU8/1CN0VnKly+vwq6Qq5ZCAiRAAiRAAmYkcOPGDZVbfePGjaqiMD7T8G/4fv/+fb+ojBDizz//XHr16iWZM2f2y5gchAT8RYD3b3+RtPY4NABae/8sqz0PIMtuHRUnARKwEAHk9ENobthCHXHjxpXp06cLqv3qkXv37qmcf3///bdL80KFCqncSwkSJNAzDNuQAAmQAAmQgOkIPH78WDMGOhsGHQbCsP+GFBiReRPCEFi/fn1lCMyWLVvA14vPeBg2169fLyhk0qRJE5XHkEICzgR4/+bzAAI0API5MIQADyBDsHNSEiCBECGAAh+dOnVSOfnCCvIU/frrr5I3b15dNJ48eSKVK1eWdevWubR/9913ZdOmTbpCh3VNxEYkQAIkQAIkYAECyDWIlBhjxoyRqVOnCgyI7gQVhevWrasMge+8845fV3br1i1ZvXq1CnHG97t372rjo6hX27ZtBV7+NAT6FbulB+P929Lb5zflaQD0G0oO5A0BHkDe0GJbEiABEtBPAKFNtWrVks2bN4frBC++n3/+WZInT65rQFxyateuLUuWLHFpDyMi8imlTZtW1zhsRAIkQAIkQAJ2JHD58mUZMWKETJkyRR49euR2ia+99pr6LO3Tp4/kyJHDZwz//POPVuAEL+CeP38e6VgoUuIwBOr93PdZOXY0PQHev02/RUFRkAbAoGDmJGEJ8ADiM0ECJEAC/iewa9cule8vbJEOzASPwG+//VZXvj+0f/XqlXz55ZcqVNhZ4E2wZcuWoIQ1+Z8QRyQBEiABEiAB/xPAy7eRI0cqz/uHDx9GOAEKcsEQmDt3bo9KIMwYqTccVY0PHjzosY+7BkjT0a5dO+ncuXPQvPaROgR6O35faNasmSRMmNAn/dnJPwR4//YPR6uPQgOg1XfQovrzALLoxlFtEiAB0xKYNWuWtGjRQhCy6yxx4sSRadOmSYMGDbzSvUePHjJ8+HCXPvjlHTmG8ufP79VYbEwCJEACJEACoUAA+QJHjRolEyZMiLS4SPXq1ZUhMGw6DngRIuUGjGcosAUPQ72SM2dOOXLkSIT5CWEIbN++vTIEvv7663qH1d0Ohk8UWkGkAb47h0bDA7F3797SsmVLiR07tu4x2dB/BHj/9h9LK49EA6CVd8/CuvMAsvDmUXUSIAFTEUC+P+T5GTduXDi90qdPL0uXLpV8+fJ5pTO8GDCms+AX9t9++00+/PBDr8ZiYxIgARIgARIINQIoFIIcgfhsds7PF5bDRx99pAxyCO9dtmyZ/P7775F6EIb9XC5btqx8/PHHgnHSpEkjJ0+elEGDBsm8efMiNATiZV6HDh3kq6++kqRJk0Zpa/DScc2aNcroB/0fPHgQ6XhvvvmmDBgwQBo2bCgolkIJHgHev4PH2swz0QBo5t2xsW48gGy8uVwaCZBA0AhcuXJFPvvsM1X9L6yULFlSFi5cKClTpvRKn5kzZ6oKgs6CROaLFy+WTz75xKux2JgESIAESIAEQpkAinWMHTtWGQPv3LkTZRTwpKtatapUq1ZNypUrJ8jz505OnDihDIHz58+P0BCYKFEiZQhEihBvDIF48QgvRRj9kCPYl3WhkNjgwYPV7xXIkUgJPAHevwPP2Aoz0ABohV2yoY48gGy4qVwSCZBAUAls2LBBVReEETCsIMTnu+++k5gxY3qlE97e16hRQ1D8w1lmzJgRzijo1cBsTAIkQAIkQAIhTOD27dsyfvx4GT16tMAo6I1kz55dGfzg6Ve4cGGvPOeOHz+uGQKR29edwBDYsWNHZQhMkiSJ2zb4vQDFxWD0W7Rokdy4ccPjEmLEiKGKnuzfvz/CtgULFlTpRkqVKuVxPDaIGgHev6PGzy69aQC0y05abB08gCy2YVSXBEjANASQFBy/LCN3EP7sLAjT/f7776VRo0Ze64vcfpUqVQqXQxCFQ7p27er1eOxAAiRAAiRAAiTgSgDhwCgUglQbCBN2J/C6L1asmBbaCwNgVOXYsWPKEPjTTz+pIl/uJHHixMoICGMg/ox227dvV0Y/RBToyUcI3WHMQ3QC8hwmecCGzwAAIABJREFUS5ZMtm7dKt27d1cGxIikfPnyMnToUOYYjupGR9Kf9+8AwrXQ0DQAWmiz7KQqDyA77SbXQgIkECwCuCwgb87q1avDTZkuXToVilOgQAGv1MEv+FOmTFFhQAjrcZZu3brJN99849V4bEwCJEACJEACJBA5AVTJnTx5svLWR+EQhPJWqFBBGf0qV64sKVKkCAjCo0ePysCBA5VRLyJDILwAEZqLF4Pnzp3TpUeJEiWkTp06girHqVKlCtcHcyGPcM+ePWXfvn0RjlmrVi1lqPSH0VOX4iHUiPfvENrsSJZKAyCfA0MI8AAyBDsnJQESsDABvIWvXbu2XLhwIdwqKlasKHPmzBHkBvJGUG2wdevWgrx/YaVp06aqejBz83hDlG1JgARIgARIQD+Bp0+fypkzZyRjxowSJ04c/R2j2BLVgmEIhGdfRIZAT1MgfBdGPxjtUHRMjyByAXOiIvDp06fddkFxkC+++EL69u0reLlJ8Q8B3r/9w9Hqo9AAaPUdtKj+PIAsunFUmwRIIOgE8Is5qggiDDeshx5CbfALfI8ePQR/9kbwVh/5/nbv3h2u26effqq8A5C/h0ICJEACJEACJGBPAocPH9YMgXpWmCdPHhXeixeSmTJl0tPFbRv8PvPDDz+ouSMKLUZak3bt2qnwYYQSU6JGgPfvqPGzS28aAO2ykxZbBw8gi20Y1SUBEjCEACrrwRMPFXjDCkJskMvHl8TZa9euVW/t3eUf+vrrr2XIkCFeJRk3BA4nJQESIAESIAES8AuBQ4cOKWPcL7/8Em68t99+Wxn98HsD/uxPefjwoSqOgtzGKJTiTlCkBC9BkZswQYIEymMREQwPHjwQ9Mf3iL7c/RwFTfLmzategr711lv+XI6px+L929TbEzTlaAAMGmpO5EyABxCfBxIgARKInABy5CCs5tSpU+EalixZUhn/0qRJ4xVG/NKMfEN4mx62gAjyD82aNUv9QkwhARIgARIgARIIPQIHDx5UBUrwu8cHH3ygDH+5cuUKeDoQVEYeMWKEjBkzRhn33EncuHFVtAOMer6GLYcdN3/+/Op3LXxFxaPRCk8K799W2KXA60gDYOAZcwY3BHgA8bEgARIgAfcE8EstwmLatm0briIveiDcF2/pvQ3PvX//vsqp4+7tfrZs2eTXX3+Vd999l9tCAiRAAiRAAiRAAoYQQDgwioAgB/Hz58+DqgO8Ah3GwCxZsgR17mBMxvt3MCibfw4aAM2/R7bUkAeQLbeViyIBEogiAYSwtGrVShX0CCtJkyZV/16lShWvZzl58qSq6Iek32EFFQdnz54tiRMn9npcdiABEiABEiABEiABfxNAgRAUAZk/f76/h9Y1HnIdOoyBeElqB+H92w67GPU10AAYdYYcwQcCPIB8gMYuJEACtiZw9OhR9csmEnKHlUKFCqmiHBkyZPCawfLly6VBgwZy9+5dl76o7gtPwp49e3pdQMRrJdiBBEiABEiABEiABLwksH//funVq5esXLky0p6ooIxUJu6+4sWL5/LvyH+8bNkyt3mQ3U2CEGiHMdDfORC9xBGl5rx/RwmfbTrTAGibrbTWQngAWWu/qC0JkEBgCSCfX/PmzVUS67DSvn17lRcnVqxYXimBHH8DBgxQRr6wkiRJEpk3b55UrlzZqzHZmARIgARIgARIgASCTeDcuXMqL2FYYx4Mfvi36NGje6USwos3bNig0qIsWbJEbty4oat/jhw5NGOg1dKm8P6ta4tt34gGQNtvsTkXyAPInPtCrUiABIJL4PHjx/LVV1/J5MmTw02cMGFCmTFjhtSsWdNrpZBMG15/q1atCtcXb7KR7y9z5sxej8sOJEACJEACJEACJGAnAjAGbtq0STMGXrt2Tdfy3nnnHc0YCMMgIivMLLx/m3l3gqcbDYDBY82ZnAjwAOLjQAIkEOoEzpw5o35x3LNnTzgUuXPnlkWLFknWrFm9xoQKftWrVxfkzwkrdevWVYm18cacQgIkQAIkQAIkQAIk8D8CL168kM2bNytj4OLFi+Xq1au68EyfPl2aNm2qq61RjXj/Noq8uealAdBc+xEy2vAACpmt5kJJgATCEHj06JFMmTJFhefeuXMnHJ9mzZrJuHHjJG7cuF6zW7BggfoF9OHDhy59ERqDMOKOHTua/g2114tmBxIgARIgARIgARLwMwEYA//66y/NGIgKxRHJhQsXJF26dH7WwL/D8f7tX55WHY0GQKvunMX15gFk8Q2k+iRAAl4TePLkifK+Gzp0qLj7JRIGP4QCN2rUyOuxEb7SvXt3GTlyZLi+KVKkkIULF8qHH37o9bjsQAIkQAIkQAIkQAKhTgB5lbdu3aqMgYjQuHTpkoakSJEi6mdmF96/zb5DwdGPBsDgcOYsYQjwAOIjQQIkECoEnj59KjNnzpTBgwcL3hC7k+zZs6tfKHPmzOk1FuSqqVOnjkpmHVYKFiyoQljM/lba60WzAwmQAAmQAAmQAAkYQADGwO3bt2vGQORy7tSpkwGaeDcl79/e8bJraxoA7bqzJl8XDyCTbxDVIwESiDIBeOXNmTNHVeE9e/ZshOPVr19fef6h6Ic38urVK0H14C5durj1KEQo8fjx/9fefUBLVZ0LHP9ol3oRqdK5CDxQUEiogvSOGImCaLBSRAQLiJQo5RFpSggoQUR8WGLuk8SGgBSlikRASAi9KBJQ4FKkK8W3vp3MvAvM3Htm5pyZc87891p3Idxz9tn7t7d7zflml5ckX758kWTLtQgggAACCCCAAAIWBDQYeP78ecmbN6+FqxN7Ce/fifV3y9MJALqlJZKsHAxASdbgVBeBJBLQPWM0MKd7/O3atStszVu3bm2Cg7p0JNL097//XQYMGGA2qr4ypaSkyMsvvyy9e/eONFuuRwABBBBAAAEEEPChAO/fPmzUKKpEADAKNG6JXYABKHZDckAAAXcJ6LfAuox31KhRsnXr1rCFa9q0qQn8NWvWLOIKHD16VEaMGGFmDOrzrkxly5Y1S34bNGgQcd7cgAACCCCAAAIIIOBPAd6//dmukdaKAGCkYlxviwADkC2MZIIAAi4Q0KW4H3zwgYwcOVI2bdoUtkQ602/MmDHSsmXLiE/i1VmFr7/+ugwfPlwyMjJCPqN9+/Zmr8FSpUq5QIUiIIAAAggggAACCLhFgPdvt7REYstBADCx/kn7dAagpG16Ko6AbwQ08Dd//nwzI++rr74KW6+6deuawF+7du0iDvxppn/729+kf//+sm7dupDPSEtLk8mTJ8vtt98eVf6+aRAqggACCCCAAAIIIBBSgPdvOoYKEACkHyREgAEoIew8FAEEbBDQwN/ixYtN4E+Dc+HSzTffbJb6du7cOarA3MGDB2Xo0KFmVl+opId7DBs2TAYPHiz58+e3oWZkgQACCCCAAAIIIOBHAd6//diqkdeJAGDkZtxhgwADkA2IZIEAAnEX+Pzzz01QbtWqVWGffeONN5oDQLp06SI5c+aMuIx6mty0adPMkuITJ06EvP/Xv/61TJo0SSpVqhRx/tyAAAIIIIAAAgggkFwCvH8nV3uHqy0BQPpBQgQYgBLCzkMRQCBKAZ2NN2TIEHnjjTfC5lCtWjVzAEi3bt0kV65cUT3ps88+k8cff1w2b94c8v7q1avL1KlTpU2bNlHlz00IIIAAAggggAACySfA+3fytXmoGhMApB8kRIABKCHsPBQBBCIU0MM39MTdZ599Vn744YeQd1euXNnM1rv33nsld+7cET7h35fv27dPBg0aJHPmzAl5f2pqqnnGgAEDJCUlJapncBMCCCCAAAIIIIBAcgrw/p2c7X5lrQkA0g8SIsAAlBB2HooAAhEIfPHFF/LYY4/Jhg0bQt5VsWJFee655+T++++XPHnyRJDz/1967tw5s5R37NixcubMmZB53HfffTJhwgQpXbp0VM/gJgQQQAABBBBAAIHkFuD9O7nbP1B7AoD0g4QIMAAlhJ2HIoCABYHDhw+bff5ef/31kFcXLlzY7PHXr1+/qGfj6UEi8+bNkyeffFJ2794d8jm1a9eWl19+WRo3bmyh1FyCAAIIIIAAAggggEBoAd6/6RkqQACQfpAQAQaghLDzUAQQyEJAl/vOnDlThg8fLseOHQt5ZY8ePWTixIlRz8a7dOmSfPjhhzJ+/Hj58ssvQz6jaNGi8vzzz0vv3r2j3kuQhkYAAQQQQAABBBBAICDA+zd9gQAgfSBhAgxACaPnwQggEEJg7dq1ZkbfunXrQvroyb5//OMfpWnTplH5/fTTT/LOO++Ypbzbtm0LmUeOHDnkkUcekd/97ndSrFixqJ7DTQgggAACCCCAAAIIXCnA+zd9ggAgfSBhAgxACaPnwQggkEngyJEjZsafzvzTZblXpkKFCpnlvnr4RjT7/J0+fVpee+01s8+fHvQRLt1yyy1muW+dOnVoHwQQQAABBBBAAAEEbBXg/dtWTs9mxhJgzzadtwvOAOTt9qP0CHhdQJfizpo1y+z1d/To0ZDVueeee+TFF1+UMmXKRFxdzVMDelOnThUNMoZLaWlpJsCoS4t1BiAJAQQQQAABBBBAAAG7BXj/tlvUm/kRAPRmu3m+1AxAnm9CKoCAZwXWr19vlvuG24OvRo0aJnjXsmXLiOuoY9vkyZNlxowZorP/wqVatWqZ4GO3bt0kd+7cET+HGxBAAAEEEEAAAQQQsCrA+7dVKX9fRwDQ3+3r2toxALm2aSgYAr4V0IM9nn32WZk+fXrI5b4FCxaUESNGmJN5U1JSInLYvn27vPDCC/Lmm2/K+fPnw97bpEkTE/jr2LEjM/4iEuZiBBBAAAEEEEAAgWgFeP+OVs5f9xEA9Fd7eqY2DECeaSoKioCnBfTwjU2bNsny5ctl3LhxkpGREbI+Xbt2Nfv0lS9fPqL66mxCzfe9994LGVQMZNapUycT+NMAIAkBBBBAAAEEEEAAgXgK8P4dT233PosAoHvbxtclYwDydfNSOQQSIqD7+u3YsUP0RF9d3qt/bty4UX788cew5alWrZpZ7tumTRvLZdbDQpYuXWoCf0uWLAl7X86cOaV79+4yZMgQuemmmyznz4UIIIAAAggggAACCNgpwPu3nZrezYsAoHfbztMlZwDydPNReAQSLqBBuP379wcDfRrwW7dunZw4ccJS2fLnzy/PPfecDBw4UPLmzWvpnnPnzpmZflOmTAm7f6BmpPk9/PDD8vTTT0vlypUt5c1FCCCAAAIIIIAAAgg4JcD7t1Oy3sqXAKC32ss3pWUA8k1TUhEE4iKgp+pqgC8ws0///P7776N6dpcuXcxBHRUrVrR0vy4hfu211+Stt94S3UcwXCpcuLA5XET3ECxVqpSlvLkIAQQQQAABBBBAAAGnBXj/dlrYG/kTAPRGO/mulAxAvmtSKoSArQI6w0/37fuf//kfWb16tezatSum/KtWrSr169eXBx98UFq3bp1tXidPnpT09HQT+At3WnAgk5IlS8pTTz0ljz76qFxzzTXZ5s0FCCCAAAIIIIAAAgjEU4D373hqu/dZBADd2za+LhkDkK+bl8ohELWAHtrx7rvvyu9//3vZsGFDVPmULl3aBPv0p169elK3bl259tprs81Lg45/+9vfTNBPg3+nT5/O8p60tDQZPHiwCSrqkmISAggggAACCCCAAAJuFOD9242tEv8yEQCMvzlPFBEGILoBAghkFtAlvq+++qq89NJLcuDAAcs4OuNOg3z6Ewj4lS1b1vL9euGRI0fM8l4N/G3evDnbe1u1aiW9e/eWO++8U3Lnzp3t9VyAAAIIIIAAAggggEAiBXj/TqS+e55NANA9bZFUJWEASqrmprIIhBXYuXOnOVRDl/qeOXMmSyk9XKNOnTrBQJ8G/KpUqSJ62m6kSU8M1pN8NeinB3vozMOsks4qfOihh6Rnz54c7BEpNtcjgAACCCCAAAIIJFSA9++E8rvm4QQAXdMUyVUQBqDkam9qi0BmAV1qu3LlSrPM96OPPhL9e7ikp+jqwRotWrSQmjVrSkpKSkyYOrtw9uzZMmvWLNmzZ0+WeeXKlUs6deokvXr1kg4dOjDbLyZ5bkYAAQQQQAABBBBIlADv34mSd9dzCQC6qz2SpjQMQEnT1FQUgaDA+fPnZc6cOSbwt379+ixlbr31VnOwxu233y4aiIsl6Wy/BQsWyIwZM2TevHmif88qadBRZ/rp3n5lypSJ5dHciwACCCCAAAIIIIBAwgV4/054E7iiAAQAXdEMyVcIBqDka3NqnLwCx44dk5kzZ8rUqVNl//79YSE00NetWzcT+NM9/WJNFy5cMAeKjBs3Tv75z39mmZ3OLNQ9/XS2X/PmzaNaVhxrebkfAQQQQAABBBBAAAEnBHj/dkLVe3kSAPRem/mixAxAvmhGKoFAlgK7du0K7u+X1Ym6epBHnz59ZMCAAVK+fPmYVX/88Ud54403ZMKECdku873xxhvNgR49evSQYsWKxfxsMkAAAQQQQAABBBBAwG0CvH+7rUUSUx4CgIlxT/qnMgAlfRcAwKcCGujTwzV0j70PP/ww2/39nnzySbPUNjU1NWaRU6dOmWW+kyZNku+++y5sfgULFpR77rnHzPbTg0Ry5MgR87PJAAEEEEAAAQQQQAABtwrw/u3WlolvuQgAxtebp/1HgAGIroCAPwT0AI+tW7fKJ598Yn5WrFghOgMvq9SkSRMZOHCgLfv76XOOHDkiL730kllirMuNw6UaNWqY5cXdu3e3JeDojxakFggggAACCCCAAAJ+F+D92+8tbK1+BACtOXGVzQIMQDaDkh0CcRT44Ycf5NNPPw0G/fbt25ft03V/v65du5oAnM66syPpib56oMgrr7wiWS0x1v0Ehw8fbgKOOXPmtOPR5IEAAggggAACCCCAgGcEeP/2TFM5WlACgI7yknk4AQYg+gYC3hHQU3M3btwYDPitXr1aLl68aKkChQsXDu7vV6FCBUv3ZHfR7t27ZeLEiTJ79mz56aefwl7esmVLGTZsmLRq1Yplvtmh8nsEEEAAAQQQQAAB3wrw/u3bpo2oYgQAI+LiYrsEGIDskiQfBJwRyMjIkMWLF5ug38KFC+XgwYOWH6Sz/Ro3bix33XWXbfv76cM3bdok48ePl/T0dNGgZLikM/008NewYUPLZeZCBBBAAAEEEEAAAQT8KsD7t19bNrJ6EQCMzIurbRJgALIJkmwQsEFA9/E7dOiQbNmyRZYtW2aCfmvXrs3yAI8rH6un93bo0EHat28vOvNOT/a1K61Zs0bGjh0rc+fODZulLu3Vvf2GDh0qtWrVsuvR5IMAAggggAACCCCAgOcFeP/2fBPaUgECgLYwkkmkAgxAkYpxPQKxC1y4cEG+/vprc2jHtm3bLvvJ6vCMUE9OSUmRZs2amYCf/ugBG1ZO09Vg47lz50T3ETx+/Lj5yeq/9+zZIxoADJe0HA899JAMHjxYrr/++tiRyAEBBBBAAAEEEEAAAZ8J8P7tswaNsjoEAKOE47bYBBiAYvPjbgSyEjh16tRVAT4N+u3cuVPOnz8fNV7VqlWDAT8N/hUsWPCqvHRvwI8++kgWLVokuow4VHAvq337rBZOn/3oo4+aQ0XKlClj9TauQwABBBBAAAEEEEAg6QR4/066Jg9ZYQKA9IOECDAAJYSdh/pQYNeuXWavPl2+G5jVp/9/2ZEKFChgDtDQGX7t2rXLcoadBvXefvttmTBhguzYscOOx4fM49prr5UnnnhC+vfvL8WKFXPsOWSMAAIIIIAAAggggIBfBHj/9ktLxlYPAoCx+XF3lAIMQFHCcVvSC+gS2nXr1smHH34oH3zwgWzevNk2k3z58pmlvIGgX5MmTSRv3rxZ5n/69GmZOXOmTJo0SewKPIZ6YOnSpeXpp582JwoXKlTItjqTEQIIIIAAAggggAACfhfg/dvvLWytfgQArTlxlc0CDEA2g5KdrwV0dt3y5ctNwE8Df/v374+pviVKlJDq1aubHw34Bf67YsWKoodpWEm6Z+DLL78sU6ZMkSNHjli5JeQ1+fPnlyJFiphDQ/TPUP9drVo1ue2227INRkZdCG5EAAEEEEAAAQQQQMDHArx/+7hxI6gaAcAIsLjUPgEGIPssycmfAidOnDCn8WrQb/78+WYvvUiSBvLS0tJCBvpiWTr73Xffye9//3t55ZVXRPcaDJdq164tnTp1El2ym1VwTw/xICGAAAIIIIAAAggggIBzArx/O2frpZwJAHqptXxUVgYgHzUmVbFNQINrc+fONUG/Tz/9VKwellGyZElp2bKlmc0XmNGnB3bokl670u7du2XixIkye/bsLMvVtGlTGTZsmNkz0MqpwHaVj3wQQAABBBBAAAEEEEAgtADv3/QMFSAASD9IiAADUELYeagLBbZv324CfvqzZs0ayyXUAF+XLl3kV7/6lTRo0EBy5cpl+d5ILvzHP/4h48ePl//93/+VS5cuhb1VZ/tp4K9x48aRZM+1CCCAAAIIIIAAAggg4LAA798OA3skewKAHmkovxWTAchvLUp9AgJ6SMfZs2dF98jL7kcP89CTe62m+vXryx133GF+dN8+J2fYff755zJu3DiZN29e2OLpMuO7775bhg4dKjfddJPVanAdAggggAACCCCAAAIIxFGA9+84Yrv4UQQAXdw4fi4aA5CfW9e/ddMluh9//LHs27cvy+Ce1aW72UnlyZPHLO3VgN/tt98uZcqUye6WmH6vwcuFCxeawN+KFSvC5qX79j344IMyePBgqVKlSkzP5GYEEEAAAQQQQAABBBBwVoD3b2d9vZI7AUCvtJTPyskA5LMG9XF1Tp48Ke+//768/fbbZl++rJbB2sGQmppqDs/Qpb0dOnQwB2jEmn788UfJyMiQw4cPh/wJ/E4Dm998803YxxUsWFD69u0rAwcOdDwYGWuduR8BBBBAAAEEEEAAAQT+LcD7Nz1BBQgA0g8SIsAAlBB2HmpR4Pz587J48WIT9NO9+XRJr5OpdOnSJuCnM/2aN28uefPmtfw4Ddjpcl2dnRguwKdBzFhS0aJF5YknnpD+/fuL/jcJAQQQQAABBBBAAAEEvCPA+7d32srJkhIAdFKXvMMKMADROdwmoMtf165da4J+6enpJphmR9IZfNdee23InxIlSkizZs2kbt26ovvpWUkazFu6dKksWrTI/OzcudPKbVFdU7ZsWRk0aJD07t1bChUqFFUe3IQAAggggAACCCCAAAKJFeD9O7H+bnk6AUC3tESSlYMBKMka3MXV3bVrl/zpT38yP1aCaRoIa9WqlZQsWTJsYC8Q8NPgX6yn8168eFG++uqrYMBv9erVcuHCBUdF9YThIUOGSI8ePSKajehoocgcAQQQQAABBBBAAAEEohLg/TsqNt/dRADQd03qjQoxAHmjnfxaSp3d9+6775rZfmvWrMm2mrlz55b27dvLb37zG3MYR4ECBbK9J5YLdC8+XYKsB3IsWbJEjh49Gkt2wXt1lmGxYsVEZx5e+VO8eHHzb5UqVZJ69erFHLi0pcBkggACCCCAAAIIIIAAAjEL8P4dM6EvMiAA6Itm9F4lGIC812ZeL/GZM2dk7ty5Juj3ySefWJpF17BhQzMLrlu3biY45lQ6ffq0LF++PDjLb+vWrRE9SoN3tWvXDhnYCwT69Brdv8/qUuOICsDFCCCAAAIIIIAAAggg4FoB3r9d2zRxLRgBwLhy87CAAAMQfSErgSNHjpgZcHrqrvYVPXk31p8DBw7IqVOnsoWvUqWKCfrde++9okth7U4//fSTqZMe3qF7Duo+fqtWrRL9d6spT5480rhxY2nXrp20bdvWBP8I7FnV4zoEEEAAAQQQQAABBJJLgPfv5GrvcLUlAEg/SIgAA1BC2F37UN3T7ssvvzQz83TZqwbG9FCOeCWdHde9e3cT+Ktfv77kyJEj6kfrTMNvv/3WBPj27t0b/An8XQOR0dStevXqJtinP3pwCIdyRN1E3IgAAggggAACCCCAQFIJ8P6dVM0dtrIEAOkHCRFgAEoIu6seqvvcabBPg3460+/48eNxLV++fPnkjjvuMEE/DarprDor6cSJE8HgXqggn12nB+tBIq1btw4G/SpUqGCleFyDAAIIIIAAAggggAACCFwmwPs3HUIFCADSDxIiwACUEPaEPvTs2bOyYsWKYNAv0n3u7Ci8zuzTE3w16NelSxcpXLjwVdmeO3fOzNr7+uuvr/rZs2ePHDt2zI6iXJWHHjTSqFGjYMDvl7/8JQdxOCJNpggggAACCCCAAAIIJJcA79/J1d7haksAkH6QEAEGoISwx/WhusxVg3w6y09/9JALDa5ZTXrSbvPmzc1ed/nz5zd73Fn90UDfldempKTIL37xCylVqpTZgy9UgE//TZfoxiOlpqZKWlqaNGnSxAT9WrRoETIgGY+y8AwEEEAAAQQQQAABBBDwrwDv3/5t20hqRgAwEi2utU2AAcg2yoRlpHvd6WEdGRkZwT8D/60z6JYsWSK6zDeSVKtWLXOwRfv27U1gLG/evJHcftW1erDGF198YQ4U0T0GdQaf7s93/vz5mPK1cnOxYsWkUqVKUrFixeBP5r8XKVIkpr0GrZSBaxBAAAEEEEAAAQQQQAAB3r/pAypAAJB+kBABBqCEsGf50JMnT8rOnTtNQC9zUC8Q5Lvy33RJb6xJ97nT2W+B02zLli0bU5Y663DLli0m4Kc/Ouvw9OnTMeUZ7ubSpUuHDfDpfn0c0uEIO5kigAACCCCAAAIIIIBAhAK8f0cI5tPLCQD6tGHdXi0GoMS3kAbLtm3bJvPmzZP58+fLypUrRU/jdTLpstwGDRqYGX4a9Ktbt27M+9x9//33ZrahBvz0T7uW8OoMPl2iG+pHZ/XFOjvRSWfyRgABBBBAAAEEEEAAAQQCArx/0xdUgAAg/SDMyoMPAAAgAElEQVQhAsk+AK1du1Y2bNgg11xzjehhD9dff31cloPqst1ly5YFg356iq3TqVy5cibYpz96qq3O+oslaR30MJHALL9NmzZFlZ3uMRguwKf/HuqAkKgexE0IIIAAAggggAACCCCAQAIFkv39O4H0rno0AUBXNUfyFCZZB6DPP/9cRowYIZ999tllja2BQD2gQoOBgR8NCuqMuViTHmyhM/x0pt/SpUsjOojDyrNz5colRYsWleLFi4vOmgv8ecMNN5ign/6ph3JEmy5evGiCpYGAnxrq3n6RpDp16pjgo/4ZCPqVLFkypnJF8nyuRQABBBBAAAEEEEAAAQQSJZCs79+J8nbrcwkAurVlfF6uZBuA1qxZIyNHjpRFixZZblmdgRYICgb+rFq1arZBQQ2OrVq1KjjLT5f5Wk0azNMA3pXBvFB/D/ybBi8zByp1z739+/ebvff01F/dK1D/vPLHyr/rNRs3bpSjR49arYK5rnz58tKmTRvz06pVKylRokRE93MxAggggAACCCCAAAIIIOAXgWR7//ZLu9ldDwKAdouSnyWBZBmA1q1bZwJ/OgPPjpSammpmsWWeKahBwYMHD8qCBQtM0E9nyp06dcry43SJbseOHc2PBsuyOrzi0qVLonvu6Um64X700JB4J3Vp0aJFMOhXrVo1ZvfFuxF4HgIIIIAAAggggAACCLhSIFnev12J76JCEQB0UWMkU1H8PgDpklUN/M2dOzdss+oSVD2I4/DhwzE1ff78+c0sO6tJZ/ndcsstwaBfrVq1gsEyPQl43759YYN72m7nz5+3+ijHrtM66GEigVl+9evXlzx58jj2PDJGAAEEEEAAAQQQQAABBLwq4Pf3b6+2S7zLTQAw3uI8zwj4dQD6xz/+IaNGjZL3338/bEtfd911MmzYMOnTp485SVYt1q9fL1999ZX5U390Rp+dSZfAdujQwQT92rZtaw7i0GW1OkNRf/RQEv3RpbtuTTqrLxDwa968uTlAhYQAAggggAACCCCAAAIIIJC1gF/fv2n3yAQIAEbmxdU2CfhtANq8ebOMHj1a5syZE1ZIZ/wNHTpU+vbtKzprL1zSWYEHDhwIBgMDgcHvvvsuIv169epJp06dTNDvv/7rv8xeepmDfbt3744ov0gvTklJkXz58oX80fqH+53+e+bf68EiTZs2lQoVKkRaBK5HAAEEEEAAAQQQQAABBJJewG/v30nfoFECEACMEo7bYhPwywCkB2z893//t6Snp5vlvKGSBrCGDBki/fr1k4IFC0YNpwHAwAzBwJ8aKAwknRGnp+7qDL8yZcqInv4bmNm3detW0f377Eoa3NOAXLgfPYSjQIECdj2OfBBAAAEEEEAAAQQQQAABBKIU8Mv7d5TV57b/CBAApCskRMDrA9DOnTtN4O+dd94JG1jTZbaDBw+W/v37ix5SEU3SoKLuuac/errvlT8aANyyZYtZMqx7CWpgUJchx7pPny4Zzhzcq1ix4mV/199nPvk3mrpxDwIIIIAAAggggAACCCCAgPMCXn//dl4oOZ5AADA52tl1tfTqALRnzx4ZM2aMvPXWW3Lx4sWQrkWKFJFBgwbJ448/LoULFw5ek5GRYZbhBn40iHju3DkT1AsX4Is1kJddw+sehHqqcN26dUWXDOvpwpUrV85yiXJ2efJ7BBBAAAEEEEAAAQQQQAAB9wh49f3bPYL+KAkBQH+0o+dq4bUB6JtvvpHnn39eZs+eLRcuXAjprcG+p556ygT+jh07ZgJ9ehpwIOCX6AM29ORcPfE3EOzTgF/NmjU5Pddz//dQYAQQQAABBBBAAAEEEEDAuoDX3r+t14wrIxEgABiJFtfaJuC1AWjChAnmAI9QSfe6a9GihZQuXVp0T8C///3vcvLkSdusoskoR44c5uCPzMG+2rVrM7MvGkzuQQABBBBAAAEEEEAAAQQ8LOC1928PU7u66AQAXd08/i2c1wagU6dOSVpamugy3kDSIJumcId/xKP1dFZfnjx55Lrrrrss2KdLeTMvP45HWXgGAggggAACCCCAAAIIIICA+wS89v7tPkF/lIgAoD/a0XO18NoAtHz5cmnevHnMzvny5ZObbrpJdDae/qkHheiJupl/NKB35b8F/p75d/rfGgAkIYAAAggggAACCCCAAAIIIBBOwGvv37SkMwIEAJ1xJddsBLw2AOkJuyVLloyoXYsXL24O2NBgX+DPqlWrSu7cuSPKh4sRQAABBBBAAAEEEEAAAQQQiFbAa+/f0daT+7IWIABID0mIgBcHoHLlykm4gzw0sKeBvsw/uidgYJlwQpB5KAIIIIAAAggggAACCCCAQNILePH9O+kbzQEAAoAOoJJl9gJeHIA6d+4sixcvNifpZg706VLe1NTU7CvNFQgggAACCCCAAAIIIIAAAgjEWcCL799xJkqKxxEATIpmdl8lvTgA6QEgRYoUYQmv+7oTJUIAAQQQQAABBBBAAAEEEAgj4MX3bxrTfgECgPabkqMFAQYgC0hcggACCCCAAAIIIIAAAggggECMArx/xwjok9sJAPqkIb1WDQYgr7UY5UUAAQQQQAABBBBAAAEEEPCiAO/fXmw1+8tMANB+U3K0IMAAZAGJSxBAAAEEEEAAAQQQQAABBBCIUYD37xgBfXI7AUCfNKTXqsEA5LUWo7wIIIAAAggggAACCCCAAAJeFOD924utZn+ZCQDab0qOFgQYgCwgcQkCCCCAAAIIIIAAAggggAACMQrw/h0joE9uJwDok4b0WjUYgLzWYpQXAQQQQAABBBBAAAEEEEDAiwK8f3ux1ewvMwFA+03J0YIAA5AFJC5BAAEEEEAAAQQQQAABBBBAIEYB3r9jBPTJ7QQAfdKQXqsGA5DXWozyIoAAAggggAACCCCAAAIIeFGA928vtpr9ZSYAaL8pOVoQYACygMQlCCCAAAIIIIAAAggggAACCMQowPt3jIA+uZ0AoE8a0mvVYADyWotRXgQQQAABBBBAAAEEEEAAAS8K8P7txVazv8wEAO03JUcLAgxAFpC4BAEEEEAAAQQQQAABBBBAAIEYBXj/jhHQJ7cTAPRJQ3qtGgxAXmsxyosAAggggAACCCCAAAIIIOBFAd6/vdhq9peZAKD9puRoQYAByAISlyCAAAIIIIAAAggggAACCCAQowDv3zEC+uR2AoA+aUivVYMByGstRnkRQAABBBBAAAEEEEAAAQS8KMD7txdbzf4yEwC035QcLQgwAFlA4hIEEEAAAQQQQAABBBBAAAEEYhTg/TtGQJ/cTgDQJw3ptWowAHmtxSgvAggggAACCCCAAAIIIICAFwV4//Ziq9lfZgKA9puSowUBBiALSFyCAAIIIIAAAggggAACCCCAQIwCvH/HCOiT2wkA+qQhvVYNBiCvtRjlRQABBBBAAAEEEEAAAQQQ8KIA799ebDX7y0wA0H5TcrQgwABkAYlLEEAAAQQQQAABBBBAAAEEEIhRgPfvGAF9cjsBQJ80pNeqwQDktRajvAgggAACCCCAAAIIIIAAAl4U4P3bi61mf5kJANpvSo4WBBiALCBxCQIIIIAAAggggAACCCCAAAIxCvD+HSOgT24nAOiThvRaNRiAvNZilBcBBBBAAAEEEEAAAQQQQMCLArx/e7HV7C8zAUD7TW3Jce/evTJ16lSZN2+e7Nu3T/LmzSvXX3+9dOvWTR577DEpUKCALc9ZsGCBvPrqq7J27Vo5fPiwlChRQurVqyd9+vSRDh062PKMUJkwADlGS8YIIIAAAggggAACCCCAAAIIBAV4/6YzqAABQBf2g7lz50qPHj3kxIkTIUtXrVo1ExisUqVK1KW/dOmSCfLNmjUrbB69evWSGTNmSM6cOaN+TrgbGYBsJyVDBBBAAAEEEEAAAQQQQAABBK4S4P2bTkEA0IV9YMOGDdK4cWM5e/asFCpUSIYNGyYtWrQwf09PT5eZM2eaUmsQcN26dZKamhpVLTTf8ePHm3vr1KkjzzzzjJlhuHv3bpk4caJoOTTpdWPHjo3qGVndxABkOykZIoAAAggggAACCCCAAAIIIEAAkD4QUoAZgC7rGE2bNpWVK1dK7ty5ZcWKFdKoUaPLSvjCCy+YYJ2mkSNHyqhRoyKuwY4dO+TGG2+UCxcuSN26dc1z8ufPH8znzJkz0qxZMxNg1HJs3bo1ptmGoQpIADDiZuMGBBBAAAEEEEAAAQQQQAABBCIW4P07YjJf3kAA0EXN+uWXX0qDBg1MiR555BF55ZVXriqdLt2tWbOmCcoVKVJEDh06JHny5ImoFv369ZPp06ebe7744gtp2LDhVfevWbMmGHzU66dNmxbRM7K7mAEoOyF+jwACCCCAAAIIIIAAAggggEDsArx/x27ohxwIALqoFYcPHy7jxo0zJdIAXCAYeGURdemuLs3VtHDhQmnbtq3lWvz8889Srlw5OXDggFSvXt0EEsMl/f327dulbNmy5iCSHDlyWH5OdhcyAGUnxO8RQAABBBBAAAEEEEAAAQQQiF2A9+/YDf2QAwFAF7ViYPlvwYIF5fjx42b5baiks/ZuueUW86sRI0bI6NGjLddiz549Zq8/TeFmGQYy09/rCcGa9L60tDTLz8nuQgag7IT4PQIIIIAAAggggAACCCCAAAKxC/D+HbuhH3IgAOiiVixRooRkZGTIzTffLBs3bgxbsmPHjknRokXN77t27Srvvvuu5Vp8/PHH0rlzZ3P95MmT5cknnwx7r/5+4MCB5vd66nDHjh0tPye7CxmAshPi9wgggAACCCCAAAIIIIAAAgjELsD7d+yGfsiBAKBLWvHcuXPBgzg6deokGqjLKukJwadPnzb79+mMQKtJ9xV89NFHzeVz5syRu+66K+ytf/nLX0yAUZPepzMCrSYdYLJKuqQ4MItR9z4sXbq01ay5DgEEEEAAAQQQQAABBBBAAAEELAp89913Ur9+fXP1119/LZUqVbJ4J5f5SYAAoEta8/Dhw1KyZElTmrvvvlvS09OzLFmpUqXMASB6IMimTZss1yLzKcILFiyQ9u3bh71Xfx+Y9ffiiy/KoEGDLD/Hzv0CLT+UCxFAAAEEEEAAAQQQQAABBBBAIKyATsCpV68eQkkoQADQJY2uM+IqVKhgSnPffffJm2++mWXJ9Fq9R/fz27Vrl+VajBkzxuwbqOnTTz+Vli1bhr33s88+k1atWpnf633PPvus5ecQALRMxYUIIIAAAggggAACCCCAAAIIxEWAAGBcmF35EAKALmkWv80AzG4JsC553rZtm+hMRt37MNyBJy5pHlOMzNOmWbbsppahLHYI0L/tUCQPtwrQv93aMpTLDgH6tx2K5OFWAfq3W1uGctkhEM/+feHCBdGYg6ZatWpJvnz57KgCeXhMgACgSxrMb3sAuoTV1mKwcaqtnGTmMgH6t8sahOLYKkD/tpWTzFwmQP92WYNQHFsF6N+2cpKZywTo3y5rkCQoDgFAFzVy8eLF5ciRI0lxCrCL2C0XhQHaMhUXelCA/u3BRqPIlgXo35apuNCDAvRvDzYaRbYsQP+2TMWFHhSgf3uw0TxeZAKALmrApk2bysqVK6VgwYJy/PjxsMti9dTfwAm6up/f6NGjLddiz549Zt9ATXqqr57uGy7p71999VXza70vLS3N8nP8eCEDtB9blToFBOjf9AU/C9C//dy61I3+TR/wswD928+tS93o3/SBeAsQAIy3eBbPGz58uIwbN85csWbNGmnQoEHIq8ePHy/Dhg0zv1u4cKG0bdvWci1+/vlnKVeunBw4cECqV68uW7duDXtvjRo1zD59ZcuWNQeOJPvBHgzQlrsZF3pQgP7twUajyJYF6N+WqbjQgwL0bw82GkW2LED/tkzFhR4UoH97sNE8XmQCgC5qQD1YIhD0Czc779KlS1KzZk0TuCtSpIgcOnRI8uTJE1Et+vXrJ9OnTzf36GzChg0bXnW/BiAbNWpk/l2vnzZtWkTP8OPFDNB+bFXqFBCgf9MX/CxA//Zz61I3+jd9wM8C9G8/ty51o3/TB+ItQAAw3uLZPC+wDFhPxV2xYkUwCBe47YUXXpBnnnnG/HXkyJEyatSoy3JctmyZtGjRwvzbAw88ILNnz77qiTt27JAbbrhBLl68KHXr1jXPyZ8/f/C6s2fPipZj3bp1Zhnyli1bpGrVqi6Tin9xGKDjb84T4ydA/46fNU+KvwD9O/7mPDF+AvTv+FnzpPgL0L/jb84T4ydA/46fNU/6twABQJf1hA0bNkjjxo1Fg3CFChUSXRasAT39e3p6enBPvmrVqpkAXWpqasQBQL1BlxDrUmJNderUkSFDhpi9AXfv3i0TJkwQLUfgurFjx7pMKTHFYYBOjDtPjY8A/Ts+zjwlMQL078S489T4CNC/4+PMUxIjQP9OjDtPjY8A/Ts+zjzl/wUIALqwN8ydO1d69OghJ06cCFk6Df7NmzdPqlSpctXvrcwA1Jt0KXHv3r3l9ddfDyvQs2dPE3DMmTOnC5XiXyQG6Pib88T4CdC/42fNk+IvQP+OvzlPjJ8A/Tt+1jwp/gL07/ib88T4CdC/42fNk/4tQADQpT1h7969MmXKFBPo04EhJSXFBPy6du0q/fv3lwIFCoQsudUAYODm+fPnmyDf2rVrJSMjQ4oXLy716tUzJwR36NDBpToUCwEEEEAAAQQQQAABBBBAAAEEEEDAqgABQKtSXIcAAggggAACCCCAAAIIIIAAAggggIAHBQgAerDRKDICCCCAAAIIIIAAAggggAACCCCAAAJWBQgAWpXiOgQQQAABBBBAAAEEEEAAAQQQQAABBDwoQADQg41GkRFAAAEEEEAAAQQQQAABBBBAAAEEELAqQADQqhTXIYAAAggggAACCCCAAAIIIIAAAggg4EEBAoAebDSKjAACCCCAAAIIIIAAAggggAACCCCAgFUBAoBWpbgOAQQQQAABBBBAAAEEEEAAAQQQQAABDwoQAPRgo1FkBBBAAAEEEEAAAQQQQAABBBBAAAEErAoQALQqxXUIIIAAAggggAACCCCAAAIIIIAAAgh4UIAAoAcbjSIjgAACCCCAAAIIIIAAAggggAACCCBgVYAAoFUprktqgb1798rUqVNl3rx5sm/fPsmbN69cf/310q1bN3nsscekQIECSe1D5d0lcOjQIfnyyy/Nz9q1a83PkSNHTCEfeOABmT17dkQFXrBggbz66qsmn8OHD0uJEiWkXr160qdPH+nQoUNEeXExArEKrFu3TubPny+rVq2SLVu2mD6ZJ08eKVOmjDRu3Fh69uwpTZo0sfwY+rdlKi6Mg8CJEydM/9bxVvv6/v37TR8/e/asFClSRG644Qbp2LGj6efFihXLtkSrV6+WP/7xj7Jy5Uo5ePCgyePmm2+WBx98UO65555s7+cCBOIlMGTIEJk4cWLwcUuXLpXmzZtn+XjG73i1Ds+xKpAjRw5LlzZr1kyWLVtG/7akxUV2ChAAtFOTvHwpMHfuXOnRo4foh/JQqVq1aiYwWKVKFV/Wn0p5TyCrDx+RBAAvXbpkgnyzZs0Ki9CrVy+ZMWOG5MyZ03tQlNhzAk2bNjWBjOzS/fffLzNnzpSUlJSwl9K/s1Pk94kQWLJkibRp0ybbRxcvXlzefvttadeuXdhrR40aJWPGjBHt66FSp06d5C9/+Yvky5cv2+dxAQJOCmzcuNF8sXjhwoXgY7IKADJ+O9ka5B2LgB0BQPp3LC3AvdkJEADMTojfJ7XAhg0bzIwS/ea9UKFCMmzYMGnRooX5e3p6unnB1KRBQP2mPjU1Nam9qLw7BDJ/+KhQoYJUr15dFi1aZAoXSQBQ+/v48ePNfXXq1JFnnnnGzHzdvXu3+ZZe///QpNeNHTvWHZWnFL4W0C9atP/pbL+uXbvKrbfeKtrHL168KF988YVMmjTJzJjSpLOb3nnnnbAe9G9fdxXPVk4DgA8//LD5rPHLX/5SypcvL6VLlzZBvH/9618mYPfee++ZPq8Bbp3prTP6rkz6xUzfvn3NP+u4PXz4cKlVq5YcOHBApkyZIhpcsfL/iWchKbhnBLRvN2zY0Mx6LVmypOgqBk1ZBQAZvz3TvElX0MBn8EcffVT69esXtv4FCxaUtLS0kL+nfyddt4lrhQkAxpWbh3lNIDDbJHfu3LJixQpp1KjRZVV44YUXTFBE08iRI0W/bSchkGgB7Yv6Tbr+lCpVSr755pvghwyrAcAdO3bIjTfeaL6Nr1u3run/+fPnD1btzJkzossXNPCt/39s3bqVWbCJbvgkeP5tt90mOrvvzjvvlFy5cl1V44yMDPOljfZfTcuXLxcdx69M9O8k6CweraIG9kL17czV+eCDD6RLly7mn/RPDQhmTkePHpXKlSvLDz/8YALk69evF50xGEj6DL1PVzhosrLU0qOcFNsDAn/4wx/kqaeeMl9War8cN25clv2S8dsDjZrERQwEAKN9L6R/J3HniVPVCQDGCZrHeE9Av1Vv0KCBKfgjjzwir7zyylWV0G8ta9asaYIfuq+Ofmupe1GREHCTQDQBQP3Wcvr06aYaOrNKv52/Mq1ZsyYYFNfrp02b5qZqU5YkFfj444+lc+fOpvYDBgww+7demejfSdo5fFRtDZZs377dBPZ0j8DMSWdo635qmv785z9L9+7dr6q5ziasVKmSmUmoewrqViYkBOIt8O2335ovG0+dOmX2Q9Ng9OjRo00xwgWmGb/j3Uo8LxKBWAOA9O9ItLk2GgECgNGocU9SCOhymcC3kBroCAQDr6y8LpHUqdqaFi5cKG3btk0KHyrpHYFIA4A///yzlCtXziwV05dMDXCHS4GX0LJly5oDcqzufeIdPUrqNYHTp0+bLRs0hQps0L+91qKUN5SAzvDWGdja10+ePHnZJbfccov54qZw4cImOBhuL8z27dubzy16sJlexzYm9LV4C+iXNfqlTWB1gq6kySoAyPgd7xbieZEKxBIApH9Hqs310QgQAIxGjXuSQiCw/Ff3aDh+/LhZ5hgq6Yds/bCtacSIEcEPLkmBRCU9IRBpAHDPnj1mzyhN4Wa/Biquv9cTgjXpfeH2M/EEFIX0hYAufwycjqovlx999NFl9aJ/+6KZk7oSOvNPVx8EtmjQvdMC6aeffpICBQqYmX16QMgnn3wS1kq/5NQvOzV99tlnZt9BEgLxEnj33Xfl7rvvlqJFiwZns2YXAGT8jlfr8JxoBWIJANK/o1XnvkgECABGosW1SSVQokQJ0f2kdHNtPZ0sXDp27Jj58KJJN6XXDzQkBNwkEGkAMPMSysmTJ8uTTz4Ztjr6+4EDB5rf6xIynXFFQiCRAu+//778+te/NkXQPVonTJhwWXHo34lsHZ4drYDuu6oH3Oi+fbrE9+DBgyYrPQn4N7/5TTDbf/7zn+awD01PPPGE6P5q4VLm/1d0C4esNqyPttzch0AoAf1ivUaNGvL999+bA/V69eplLssuAMj4TX9yu0AgAHjDDTeIzujTz+C6r+t1111nJow8+OCDYb9soX+7vXX9UT4CgP5oR2phs8C5c+eCBx506tTJLE/IKukSHF12pvuk6YxAEgJuEog0AKj7XerpZZrmzJkjd911V9jq6ImUGvjWpPfpjEASAokS0H1Z9bAm3cNVky6R1JNUMyf6d6Jah+dGKjB79mx56KGHwt42dOhQcwJ75q0XdMZfhw4dzD16UNnTTz8d9n79/0OXEmvSvALbnkRaTq5HIFKBPn36mMCfHtq0cuXKYB/OLgDI+B2pNNfHW8DKVjh33HGH6Ph+zTXX8Pkk3g3E84QAIJ0AgRACuhdOyZIlzW90eUJ6enqWTnrSqh4AoktyNm3ahCkCrhKINACY+XTrBQsWiO4TFS7p7wOz/l588UUZNGiQq+pOYZJLYNKkScGAh84C/Otf/3oVAP07ufqEl2sbLgBYu3Zts/VCIHiXuY76pU23bt3MP+lBTn379g1LoPu76iwVTf3795eXXnrJy1yU3SMCGvBr1qyZmRW1YcMG89k5kLILADJ+e6SRk7iYunXU7bffLq1atTL7aOskEX2vXL58ufmi/MiRI0ZH/x9YvHjxZYdH0r+TuOPEseoEAOOIzaO8I6CHGVSoUMEU+L777pM333wzy8LrtXqP7pu2a9cu71SUkiaFQKQBwDFjxpj9LDV9+umn0rJly7BOum+UfsjRpPc9++yzSWFKJd0noB+uW7dubfZF0y9w9MuYwBc5mUtL/3Zf21Gi0AK6TFJP69V09uxZ2b17t9lmRJfu6ucNXd572223XXbzW2+9Jffff7/5t1mzZsnDDz8cljfzflM9e/aU1157jaZAwFEB3aNSt9bZtm2bDB482Cxnz5yyCwAyfjvaPGRug4CO20WKFAmZk27doDO0NfCtacqUKfL4448Hr6V/29AAZJGtAAHAbIm4IBkFmAGYjK3u3zpHGgDkG0j/9gW/1mzz5s1y6623iu7Jmi9fPnOyqR7kFCrRv/3aC5KnXhrk01NTdamZBvl0T6lAYgZg8vQDL9Y0EODTL863bNkiOlsqkgAg47cXW50yZxbQL150ZuD58+elSpUqsnPnzuCv6d/0lXgIEACMhzLP8JwAewB6rskocBYCkQYA2WOH7uQlga+//lqaNGkiBw4cMEvKdNnvr371q7BVoH97qXUpazgB3Z5EZwNqAOXbb78NHkbGHoD0GbcK6Kw/nf2nswA//PBDs0zyypTdDEDGb7e2LuWKRED3l58/f765RQ93KlOmjPlv+nckilwbrQABwGjluM/3AsWLFzf7NHAKsO+b2vcVjDQAyClkvu8SvqmgBv105p9+o66zoXTPtMDyx3CVpH/7pvmTuiLvvPNO8PTfP/3pT3LvvfcaD04BTupu4erK6yFhundl5cqV5fnnnw9ZVj1YLLB363PPPRfco7Jz584m2M347eompptTLJoAAA1fSURBVHAWBXT5u+6brUkPLQvs50r/tgjIZTEJEACMiY+b/Sygy8d0o2L9wKH7OeTOnTtkdfXUXz3WXZPumzZ69Gg/s1A3DwpEGgDMvC+UfmDXbyTDpcAHev293peWluZBIYrsRYGMjAyzibYuI9P08ssvy2OPPZZtVejf2RJxgQcEdPP4tm3bmpLqScDDhg0z/62zqwoUKCAXL16Udu3aic4IDJf01N/hw4ebX+t+ri1atPBAzSmiVwV0qfobb7wRVfF1pnelSpXM5wzd/1ITn0+iouQmFwg888wz5pR2TZkDgPRvFzROEhSBAGASNDJVjE5APxTrh2NNa9askQYNGoTMaPz48cEP3rrvVOADeXRP5S4E7BeINAD4888/S7ly5cySSt2nRE+KDJdq1KhhNvMuW7asOQhHZ2GREHBa4IcffjCH03z11VfmUToODxkyxNJj6d+WmLjI5QKZTwieOnWqDBgwIFhi/VJSv5wsXLiwOX0yJSUlZG30hHf93JI3b15zXWpqqstrTfG8LGBHAJDx28s9gLIHBPTwpnnz5pm/6kFP+hlaE/2bPhIPAQKA8VDmGZ4U0G9kAkG/cN8yXrp0SWrWrGkCJHri06FDhy47zt2TFafQvhOINACoAP369ZPp06cbC32RbNiw4VUuGhhv1KiR+Xe9ftq0ab6zo0LuEzhz5oz5ouXzzz83hfvtb38rv/vd7yIqKP07Ii4udqFA5j2kli5dKs2bNw+WUk9WDQTE//znP0v37t2vqoG+dOqMKp0p2LFjx+DLqAurSpGSSCC7PQD5fJJEncGnVdXZrPrlus7W1tmsu3btuqymfD7xacO7qFoEAF3UGBTFfQKBZcC6/HfFihXBYEegpJlPaxo5cqToBxcSAm4TiCYAuGPHDrP3jr4c1q1b1/T//PnzB6t29uxZc8rqunXrzPJ4XYZZtWpVt1Wd8vhMQD8w615QixYtMjV74okn5A9/+EPEtaR/R0zGDXES0Jl9GrDT06zDpcmTJ8vAgQPNr3XbBT1FUg/ACaSjR4+afdZ0pmzFihVl/fr1UqxYseDvdVzv0qWLzJ071/zblQHEOFWVxyBwlYCVACDjNx3HrQI6pnbo0CHstlEHDx40v9+wYYOpwqRJk4JjeaBO9G+3tq5/ykUA0D9tSU0cENABunHjxqLBjkKFCpm9cnSPHP17enq62cxYU7Vq1UwghOUzDjQCWUYssGrVqsu+UdS90nTDYU3an3v16nVZnrosJ1TSPaV0aaWmOnXqmBkl+m3l7t27ZcKECcEPMHqd7kFFQsBpgTvvvFPee+898xhdAqzBv6yWnevSRx2f6d9Otwz52yWgs/JOnjwp2tf1dGsdc/Xzh/7bpk2bRA/8CMx+1f6ty8hat2591eNnzJghffv2Nf+ueehM2Vq1apmtHfT/Gw36abrnnntEDxQhIeAGASsBQC0nn0/c0FqU4UoBHb/Pnz9vxm9dIaN/1y/P9XP4smXLRMdl/W9NOr4vWbLEbMFwZaJ/07ecFCAA6KQueftCQL/N6dGjh5w4cSJkffTlUj+AV6lSxRf1pRLeF4h0nx3dcyRU0iXuvXv3ltdffz0sSs+ePU0gPGfOnN6HowauF4h0j0md/aQzYOnfrm9aCvgfAX1h3Lt3b7Yeuk+rjs1t2rQJe62uTBgzZozZVypU0qW/euJqVrMNsy0IFyBgo4DVACCfT2xEJyvbBKyO3xogfO2118z2UXw+sY2fjCwKEAC0CMVlyS2gH8anTJliAn26b45+664Bv65du0r//v3NiXskBNwiYFcAMFCf+fPnmyDf2rVrzTeXxYsXl3r16pkT+HQpAwmBeAnYGQCkf8er1XhOJALbt283nzV0lp/uDaVLxo4cOWJmkZQsWVJq164tuoF8t27dLH32WL16tdmfdeXKlSYvfeG8+eab5aGHHjKz/0gIuEnAagCQ8dtNrUZZAgLLly8X/dG9s/VEX/3MrBNIdBZ3+fLlRQ9oeuCBB67aUiqcIJ+/6VtOCBAAdEKVPBFAAAEEEEAAAQQQQAABBBBAAAEEEHCJAAFAlzQExUAAAQQQQAABBBBAAAEEEEAAAQQQQMAJAQKATqiSJwIIIIAAAggggAACCCCAAAIIIIAAAi4RIADokoagGAgggAACCCCAAAIIIIAAAggggAACCDghQADQCVXyRAABBBBAAAEEEEAAAQQQQAABBBBAwCUCBABd0hAUAwEEEEAAAQQQQAABBBBAAAEEEEAAAScECAA6oUqeCCCAAAIIIIAAAggggAACCCCAAAIIuESAAKBLGoJiIIAAAggggAACCCCAAAIIIIAAAggg4IQAAUAnVMkTAQQQQAABBBBAAAEEEEAAAQQQQAABlwgQAHRJQ1AMBBBAAAEEEEAAAQQQQAABBBBAAAEEnBAgAOiEKnkigAACCCCAAAIIIIAAAggggAACCCDgEgECgC5pCIqBAAIIIIAAAggggAACCCCAAAIIIICAEwIEAJ1QJU8EEEAAAQQQQAABBBBAAAEEEEAAAQRcIkAA0CUNQTEQQAABBBBAAAEEEEAAAQQQQAABBBBwQoAAoBOq5IkAAggggAACCCCAAAIIIIAAAggggIBLBAgAuqQhKAYCCCCAAAIIIIAAAggggAACCCCAAAJOCBAAdEKVPBFAAAEEEEAAAQQQQAABBBBAAAEEEHCJAAFAlzQExUAAAQQQQAABBBBAAAEEEEAAAQQQQMAJAQKATqiSJwIIIIAAAggggAACCCCAAAIIIIAAAi4RIADokoagGAgggAACCCCAAAIIIIAAAggggAACCDghQADQCVXyRAABBBBAAAEEEEAAAQQQQAABBBBAwCUCBABd0hAUAwEEEEAAAQQQQAABBBBAAAEEEEAAAScECAA6oUqeCCCAAAIIIIAAAggggAACCCCAAAIIuESAAKBLGoJiIIAAAggggAACCCCAAAIIIIAAAggg4IQAAUAnVMkTAQQQQAABBBBAAAEEEEAAAQQQQAABlwgQAHRJQ1AMBBBAAAEEEEAAAQQQQAABBBBAAAEEnBAgAOiEKnkigAACCCCAAAIIIIAAAggggAACCCDgEgECgC5pCIqBAAIIIIAAAggggAACCCCAAAIIIICAEwIEAJ1QJU8EEEAAAQQQQAABBBBAAAEEEEAAAQRcIkAA0CUNQTEQQAABBBBAAAEEEEAAAQQQQAABBBBwQoAAoBOq5IkAAggggAACCCCAAAIIIIAAAggggIBLBAgAuqQhKAYCCCCAAAIIIIAAAggggAACCCCAAAJOCBAAdEKVPBFAAAEEEEAAAQQQQAABBBBAAAEEEHCJAAFAlzQExUAAAQQQQAABBBBAAAEEEEAAAQQQQMAJAQKATqiSJwIIIIAAAggggAACCCCAAAIIIIAAAi4RIADokoagGAgggAACCCCAAAIIIIAAAggggAACCDghQADQCVXyRAABBBBAAAEEEEAAAQQQQAABBBBAwCUCBABd0hAUAwEEEEAAAQQQQAABBBBAAAEEEEAAAScECAA6oUqeCCCAAAIIIIAAAggggAACCCCAAAIIuESAAKBLGoJiIIAAAggggAACCCCAAAIIIIAAAggg4IQAAUAnVMkTAQQQQAABBBBAAAEEEEAAAQQQQAABlwgQAHRJQ1AMBBBAAAEEEEAAAQQQQAABBBBAAAEEnBAgAOiEKnkigAACCCCAAAIIIIAAAggggAACCCDgEgECgC5pCIqBAAIIIIAAAggggAACCCCAAAIIIICAEwIEAJ1QJU8EEEAAAQQQQAABBBBAAAEEEEAAAQRcIkAA0CUNQTEQQAABBBBAAAEEEEAAAQQQQAABBBBwQoAAoBOq5IkAAggggAACCCCAAAIIIIAAAggggIBLBAgAuqQhKAYCCCCAAAIIIIAAAggggAACCCCAAAJOCBAAdEKVPBFAAAEEEEAAAQQQQAABBBBAAAEEEHCJAAFAlzQExUAAAQQQQAABBBBAAAEEEEAAAQQQQMAJAQKATqiSJwIIIIAAAggggAACCCCAAAIIIIAAAi4RIADokoagGAgggAACCCCAAAIIIIAAAggggAACCDghQADQCVXyRAABBBBAAAEEEEAAAQQQQAABBBBAwCUCBABd0hAUAwEEEEAAAQQQQAABBBBAAAEEEEAAAScECAA6oUqeCCCAAAIIIIAAAggggAACCCCAAAIIuESAAKBLGoJiIIAAAggggAACCCCAAAIIIIAAAggg4IQAAUAnVMkTAQQQQAABBBBAAAEEEEAAAQQQQAABlwgQAHRJQ1AMBBBAAAEEEEAAAQQQQAABBBBAAAEEnBAgAOiEKnkigAACCCCAAAIIIIAAAggggAACCCDgEgECgC5pCIqBAAIIIIAAAggggAACCCCAAAIIIICAEwIEAJ1QJU8EEEAAAQQQQAABBBBAAAEEEEAAAQRcIkAA0CUNQTEQQAABBBBAAAEEEEAAAQQQQAABBBBwQoAAoBOq5IkAAggggAACCCCAAAIIIIAAAggggIBLBAgAuqQhKAYCCCCAAAIIIIAAAggggAACCCCAAAJOCPwfA2RZQD6xbt0AAAAASUVORK5CYII=\" width=\"640\">"
      ],
      "text/plain": [
       "<IPython.core.display.HTML object>"
      ]
     },
     "metadata": {},
     "output_type": "display_data"
    },
    {
     "data": {
      "text/plain": [
       "(0.0, 1.0)"
      ]
     },
     "execution_count": 10,
     "metadata": {},
     "output_type": "execute_result"
    }
   ],
   "source": [
    "fig, ax = plt.subplots()\n",
    "# [ax.plot(prof, c='k', linewidth=1, alpha=0.1) for cond, prof in zip(conditions, individual_profiles) if cond != 'n2']\n",
    "ax.plot(membg_pooled, c='k')\n",
    "ax.plot(individual_profiles_mean, c='k')\n",
    "ax.set_ylim(-0, 1)"
   ]
  },
  {
   "cell_type": "code",
   "execution_count": 11,
   "metadata": {},
   "outputs": [
    {
     "name": "stdout",
     "output_type": "stream",
     "text": [
      "['nwg240', 'nwg240', 'nwg240', 'nwg240', 'nwg240', 'nwg240bal', 'nwg240bal', 'nwg240bal', 'nwg240bal', 'nwg240bal', 'nwg325', 'nwg325', 'nwg325', 'nwg325', 'nwg325', 'nwg325bal', 'nwg325bal', 'nwg325bal', 'nwg325bal', 'nwg325bal', 'nwg338', 'nwg338', 'nwg338', 'nwg338', 'nwg338', 'nwg338bal', 'nwg338bal', 'nwg338bal', 'nwg338bal', 'nwg338bal', 'nwg351', 'nwg351', 'nwg351', 'nwg351', 'nwg351', 'nwg400', 'nwg400', 'nwg400', 'nwg400', 'nwg400', 'nwg400bal', 'nwg400bal', 'nwg400bal', 'nwg400bal', 'nwg407', 'nwg407', 'nwg407', 'nwg407', 'nwg407', 'nwg240', 'nwg240', 'nwg240', 'nwg240bal', 'nwg240bal', 'nwg240bal', 'nwg240bal', 'nwg325', 'nwg325', 'nwg325', 'nwg325bal', 'nwg325bal', 'nwg325bal', 'nwg325bal', 'nwg325bal', 'nwg325bal', 'nwg338', 'nwg338', 'nwg338', 'nwg338', 'nwg338bal', 'nwg338bal', 'nwg338bal', 'nwg338bal', 'nwg351', 'nwg351', 'nwg351', 'nwg351', 'nwg351', 'nwg400', 'nwg400', 'nwg400', 'nwg400', 'nwg400bal', 'nwg400bal', 'nwg400bal', 'nwg400bal', 'nwg400bal', 'nwg407', 'nwg407', 'nwg407', 'nwg407', 'nwg407', 'nwg407']\n"
     ]
    }
   ],
   "source": [
    "print(conditions)"
   ]
  },
  {
   "cell_type": "code",
   "execution_count": 13,
   "metadata": {},
   "outputs": [],
   "source": [
    "# import ipywidgets as widgets\n",
    "\n",
    "# fig, ax = plt.subplots()\n",
    "# @widgets.interact(i=(0, len(paths) - 1, 1))\n",
    "# def update(i=0):\n",
    "#     ax.clear()\n",
    "#     ax.plot(individual_profiles[i])\n",
    "#     ax.set_ylim(-1, 2)\n",
    "#     ax.set_title(paths[i])\n",
    "#     ax.axvline(24.5, c='k', linestyle='--')"
   ]
  },
  {
   "cell_type": "code",
   "execution_count": null,
   "metadata": {},
   "outputs": [],
   "source": []
  }
 ],
 "metadata": {
  "kernelspec": {
   "display_name": "Python 3",
   "language": "python",
   "name": "python3"
  },
  "language_info": {
   "codemirror_mode": {
    "name": "ipython",
    "version": 3
   },
   "file_extension": ".py",
   "mimetype": "text/x-python",
   "name": "python",
   "nbconvert_exporter": "python",
   "pygments_lexer": "ipython3",
   "version": "3.7.9"
  }
 },
 "nbformat": 4,
 "nbformat_minor": 4
}
