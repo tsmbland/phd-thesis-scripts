{
 "cells": [
  {
   "cell_type": "code",
   "execution_count": 1,
   "metadata": {},
   "outputs": [],
   "source": [
    "import sys\n",
    "sys.path.append('../../MembraneQuant')\n",
    "from membranequant import *\n",
    "import seaborn as sns\n",
    "%matplotlib notebook"
   ]
  },
  {
   "cell_type": "code",
   "execution_count": 2,
   "metadata": {},
   "outputs": [],
   "source": [
    "path = '/Users/blandt/Desktop/Data/Rundowns/Par2 rundown Neon Jan 2020'\n",
    "direcs = direcslist(path, 1)\n",
    "\n",
    "for d in direcs:\n",
    "    ch1 = load_image(glob.glob(d + '/*488 SP 535-50*')[0])\n",
    "    ch2 = load_image(glob.glob(d + '/*488 SP 630-75*')[0])\n",
    "    ch3 = load_image(glob.glob(d + '/*561 SP 630-75*')[0])\n",
    "    af_corrected = af_subtraction(ch1, ch2, 2.087860334755449, -1855.3533172739662)\n",
    "    af_corrected_3channel = af_subtraction_3channel(ch1, ch2, ch3, 2.054042306784717, \n",
    "                                                    -0.226784890206107, -1150.3720414240652)\n",
    "    save_img(af_corrected, d + '/af_corrected.tif')\n",
    "    save_img(af_corrected_3channel, d + '/af_corrected_3channel.tif')"
   ]
  },
  {
   "cell_type": "code",
   "execution_count": null,
   "metadata": {},
   "outputs": [],
   "source": []
  }
 ],
 "metadata": {
  "kernelspec": {
   "display_name": "Python 3",
   "language": "python",
   "name": "python3"
  },
  "language_info": {
   "codemirror_mode": {
    "name": "ipython",
    "version": 3
   },
   "file_extension": ".py",
   "mimetype": "text/x-python",
   "name": "python",
   "nbconvert_exporter": "python",
   "pygments_lexer": "ipython3",
   "version": "3.7.9"
  }
 },
 "nbformat": 4,
 "nbformat_minor": 4
}
