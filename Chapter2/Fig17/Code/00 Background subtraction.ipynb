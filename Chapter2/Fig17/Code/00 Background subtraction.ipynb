{
 "cells": [
  {
   "cell_type": "code",
   "execution_count": 1,
   "metadata": {},
   "outputs": [],
   "source": [
    "import sys\n",
    "sys.path.append('../../MembraneQuant')\n",
    "from membranequant import *\n",
    "%matplotlib notebook"
   ]
  },
  {
   "cell_type": "code",
   "execution_count": 2,
   "metadata": {},
   "outputs": [],
   "source": [
    "basepath = '/Users/blandt/Desktop/Data/Optogenetics/Optogenetics December 2021/Experiment'\n",
    "paths = direcslist(basepath, 2)"
   ]
  },
  {
   "cell_type": "code",
   "execution_count": 3,
   "metadata": {},
   "outputs": [],
   "source": [
    "ch3_bg = load_image('/Users/blandt/Desktop/Data/PAR2 RING mutants experiment 2/Background/ch3_mean.tif')\n",
    "ch3_df = load_image('/Users/blandt/Desktop/Data/PAR2 RING mutants experiment 2/Darkframes/ch3_mean.tif')"
   ]
  },
  {
   "cell_type": "code",
   "execution_count": 4,
   "metadata": {},
   "outputs": [],
   "source": [
    "for p in paths:\n",
    "    ch3 = load_image(glob.glob(p + '/*561 SP 630-75*')[0])\n",
    "    ch3_flat = ((ch3 - ch3_df) / (ch3_bg - ch3_df)) - 1\n",
    "    save_img(ch3_flat, p + '/rfp_channel_flat.tif')"
   ]
  },
  {
   "cell_type": "code",
   "execution_count": null,
   "metadata": {},
   "outputs": [],
   "source": []
  },
  {
   "cell_type": "code",
   "execution_count": null,
   "metadata": {},
   "outputs": [],
   "source": []
  }
 ],
 "metadata": {
  "kernelspec": {
   "display_name": "Python 3",
   "language": "python",
   "name": "python3"
  },
  "language_info": {
   "codemirror_mode": {
    "name": "ipython",
    "version": 3
   },
   "file_extension": ".py",
   "mimetype": "text/x-python",
   "name": "python",
   "nbconvert_exporter": "python",
   "pygments_lexer": "ipython3",
   "version": "3.7.9"
  }
 },
 "nbformat": 4,
 "nbformat_minor": 4
}
